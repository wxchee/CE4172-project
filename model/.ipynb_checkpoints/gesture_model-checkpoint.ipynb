{
 "cells": [
  {
   "cell_type": "code",
   "execution_count": 1,
   "id": "643e3ddd",
   "metadata": {},
   "outputs": [],
   "source": [
    "import numpy as np\n",
    "import tensorflow as tf\n",
    "import matplotlib.pyplot as plt\n",
    "import math\n",
    "import pandas as pd"
   ]
  },
  {
   "cell_type": "code",
   "execution_count": 2,
   "id": "6a7eb85b",
   "metadata": {},
   "outputs": [],
   "source": [
    "# define constant\n",
    "\n",
    "FOLDER = 'datas/s20/'\n",
    "GESTURES = ['r', 'u', 'd', 'ld', 'rd']\n",
    "\n",
    "# GESTURES = ['l', 'r', 'u', 'd', 'ld', 'rd']\n",
    "#\n",
    "SAMPLING_RATE = 50\n",
    "SEED = 1337\n",
    "np.random.seed(SEED)\n",
    "tf.random.set_seed(SEED)"
   ]
  },
  {
   "cell_type": "markdown",
   "id": "ea27f8df",
   "metadata": {},
   "source": [
    "## Visualize raw data"
   ]
  },
  {
   "cell_type": "code",
   "execution_count": 3,
   "id": "f74c4159",
   "metadata": {
    "scrolled": false
   },
   "outputs": [],
   "source": [
    "# for g in GESTURES:\n",
    "#     df = pd.read_csv(FOLDER + g + '.csv')\n",
    "    \n",
    "#     xs = range(1, len(df['aX']) + 1)\n",
    "    \n",
    "#     plt.rcParams['figure.figsize'] = (30, 15)\n",
    "    \n",
    "#     plt.plot(xs, df['aX'], 'g.', label='x', linestyle='solid', marker=',')\n",
    "#     plt.plot(xs, df['aY'], 'b.', label='y', linestyle='solid', marker=',')\n",
    "#     plt.plot(xs, df['aZ'], 'r.', label='z', linestyle='solid', marker=',')\n",
    "#     plt.title(\"Acceleration\")\n",
    "#     plt.xlabel(\"Sample #\")\n",
    "#     plt.ylabel(\"Acceleration (G)\")\n",
    "#     plt.legend()\n",
    "#     plt.show()\n",
    "\n",
    "#     plt.plot(xs, df['gX'], 'g.', label='x', linestyle='solid', marker=',')\n",
    "#     plt.plot(xs, df['gY'], 'b.', label='y', linestyle='solid', marker=',')\n",
    "#     plt.plot(xs, df['gZ'], 'r.', label='z', linestyle='solid', marker=',')\n",
    "#     plt.title(\"Gyroscope\")\n",
    "#     plt.xlabel(\"Sample #\")\n",
    "#     plt.ylabel(\"Gyroscope (deg/sec)\")\n",
    "#     plt.legend()\n",
    "#     plt.show()"
   ]
  },
  {
   "cell_type": "markdown",
   "id": "79e868e5",
   "metadata": {},
   "source": [
    "## Process data"
   ]
  },
  {
   "cell_type": "code",
   "execution_count": 4,
   "id": "7d09d1f8",
   "metadata": {},
   "outputs": [
    {
     "name": "stdout",
     "output_type": "stream",
     "text": [
      "Processing 0 for gesture 'r'.\n",
      "Processing 1 for gesture 'u'.\n",
      "Processing 2 for gesture 'd'.\n",
      "Processing 3 for gesture 'ld'.\n",
      "Processing 4 for gesture 'rd'.\n"
     ]
    }
   ],
   "source": [
    "inputs = []\n",
    "outputs = []\n",
    "\n",
    "ONE_HOTS = np.eye(len(GESTURES))\n",
    "\n",
    "for i in range(len(GESTURES)):\n",
    "    g = GESTURES[i]\n",
    "    print(f\"Processing {i} for gesture '{g}'.\")\n",
    "    \n",
    "    output = ONE_HOTS[i]\n",
    "    \n",
    "    df = pd.read_csv(FOLDER + g + '.csv')\n",
    "    num_recordings = int(df.shape[0] / SAMPLING_RATE)\n",
    "    \n",
    "    for j in range(num_recordings):\n",
    "        tensor = []\n",
    "        \n",
    "        for k in range(SAMPLING_RATE):\n",
    "            kk = j * SAMPLING_RATE + k\n",
    "            \n",
    "            tensor += [\n",
    "                df['aX'][kk],\n",
    "                df['aY'][kk],\n",
    "                df['aZ'][kk],\n",
    "                df['gX'][kk],\n",
    "                df['gY'][kk],\n",
    "                df['gZ'][kk],\n",
    "            ]\n",
    "            \n",
    "        inputs.append(tensor)\n",
    "        outputs.append(output)\n",
    "    "
   ]
  },
  {
   "cell_type": "markdown",
   "id": "5253bdb7",
   "metadata": {},
   "source": [
    "## Create train/validate/test datas"
   ]
  },
  {
   "cell_type": "code",
   "execution_count": 5,
   "id": "7376b058",
   "metadata": {},
   "outputs": [],
   "source": [
    "rdm_index = np.arange(len(inputs))\n",
    "np.random.shuffle(rdm_index)\n",
    "\n",
    "inputs = np.array(inputs)[rdm_index]\n",
    "outputs = np.array(outputs)[rdm_index]\n",
    "\n",
    "TRAIN_SPLIT = int(0.5 * len(inputs))\n",
    "TEST_SPLIT = int(TRAIN_SPLIT + 0.25 * len(inputs))\n",
    "\n",
    "i_train, i_validate, i_test = np.split(inputs, [TRAIN_SPLIT, TEST_SPLIT])\n",
    "o_train, o_validate, o_test = np.split(outputs, [TRAIN_SPLIT, TEST_SPLIT])\n",
    "\n",
    "# do this if data type invalid\n",
    "i_train = tf.convert_to_tensor(i_train, dtype=tf.float32)\n",
    "o_train = tf.convert_to_tensor(o_train, dtype=tf.float32)\n",
    "\n",
    "i_validate = tf.convert_to_tensor(i_validate, dtype=tf.float32)\n",
    "o_validate = tf.convert_to_tensor(o_validate, dtype=tf.float32)"
   ]
  },
  {
   "cell_type": "markdown",
   "id": "cb22253c",
   "metadata": {},
   "source": [
    "## Build and train the model"
   ]
  },
  {
   "cell_type": "code",
   "execution_count": 6,
   "id": "7fb1c4f1",
   "metadata": {},
   "outputs": [],
   "source": [
    "import os\n",
    "os.environ['KMP_DUPLICATE_LIB_OK']=\"TRUE\"\n"
   ]
  },
  {
   "cell_type": "code",
   "execution_count": 7,
   "id": "9c2403b0",
   "metadata": {
    "scrolled": true
   },
   "outputs": [
    {
     "name": "stdout",
     "output_type": "stream",
     "text": [
      "Epoch 1/100\n",
      "36/36 [==============================] - 1s 8ms/step - loss: 0.1508 - mae: 0.3066 - val_loss: 0.1279 - val_mae: 0.2807\n",
      "Epoch 2/100\n",
      "36/36 [==============================] - 0s 3ms/step - loss: 0.1106 - mae: 0.2549 - val_loss: 0.1033 - val_mae: 0.2424\n",
      "Epoch 3/100\n",
      "36/36 [==============================] - 0s 2ms/step - loss: 0.0859 - mae: 0.2118 - val_loss: 0.0818 - val_mae: 0.2095\n",
      "Epoch 4/100\n",
      "36/36 [==============================] - 0s 2ms/step - loss: 0.0660 - mae: 0.1773 - val_loss: 0.0605 - val_mae: 0.1739\n",
      "Epoch 5/100\n",
      "36/36 [==============================] - 0s 3ms/step - loss: 0.0466 - mae: 0.1431 - val_loss: 0.0431 - val_mae: 0.1407\n",
      "Epoch 6/100\n",
      "36/36 [==============================] - 0s 3ms/step - loss: 0.0295 - mae: 0.1088 - val_loss: 0.0301 - val_mae: 0.1124\n",
      "Epoch 7/100\n",
      "36/36 [==============================] - 0s 2ms/step - loss: 0.0167 - mae: 0.0783 - val_loss: 0.0199 - val_mae: 0.0878\n",
      "Epoch 8/100\n",
      "36/36 [==============================] - 0s 2ms/step - loss: 0.0093 - mae: 0.0549 - val_loss: 0.0133 - val_mae: 0.0678\n",
      "Epoch 9/100\n",
      "36/36 [==============================] - 0s 2ms/step - loss: 0.0051 - mae: 0.0369 - val_loss: 0.0077 - val_mae: 0.0516\n",
      "Epoch 10/100\n",
      "36/36 [==============================] - 0s 2ms/step - loss: 0.0026 - mae: 0.0250 - val_loss: 0.0042 - val_mae: 0.0370\n",
      "Epoch 11/100\n",
      "36/36 [==============================] - 0s 2ms/step - loss: 0.0013 - mae: 0.0168 - val_loss: 0.0023 - val_mae: 0.0273\n",
      "Epoch 12/100\n",
      "36/36 [==============================] - 0s 2ms/step - loss: 5.9519e-04 - mae: 0.0114 - val_loss: 0.0013 - val_mae: 0.0199\n",
      "Epoch 13/100\n",
      "36/36 [==============================] - 0s 2ms/step - loss: 2.6094e-04 - mae: 0.0073 - val_loss: 8.2003e-04 - val_mae: 0.0150\n",
      "Epoch 14/100\n",
      "36/36 [==============================] - 0s 2ms/step - loss: 1.2379e-04 - mae: 0.0049 - val_loss: 3.8759e-04 - val_mae: 0.0101\n",
      "Epoch 15/100\n",
      "36/36 [==============================] - 0s 2ms/step - loss: 5.0166e-05 - mae: 0.0031 - val_loss: 3.3588e-04 - val_mae: 0.0080\n",
      "Epoch 16/100\n",
      "36/36 [==============================] - 0s 2ms/step - loss: 1.8570e-05 - mae: 0.0020 - val_loss: 1.0418e-04 - val_mae: 0.0050\n",
      "Epoch 17/100\n",
      "36/36 [==============================] - 0s 2ms/step - loss: 6.7388e-06 - mae: 0.0012 - val_loss: 5.7717e-05 - val_mae: 0.0035\n",
      "Epoch 18/100\n",
      "36/36 [==============================] - 0s 2ms/step - loss: 2.1198e-06 - mae: 7.2847e-04 - val_loss: 2.5174e-05 - val_mae: 0.0024\n",
      "Epoch 19/100\n",
      "36/36 [==============================] - 0s 2ms/step - loss: 1.0400e-06 - mae: 4.9794e-04 - val_loss: 1.7539e-05 - val_mae: 0.0018\n",
      "Epoch 20/100\n",
      "36/36 [==============================] - 0s 2ms/step - loss: 3.7047e-07 - mae: 3.1422e-04 - val_loss: 1.0839e-05 - val_mae: 0.0013\n",
      "Epoch 21/100\n",
      "36/36 [==============================] - 0s 2ms/step - loss: 1.4962e-07 - mae: 2.0994e-04 - val_loss: 7.0964e-06 - val_mae: 0.0011\n",
      "Epoch 22/100\n",
      "36/36 [==============================] - 0s 2ms/step - loss: 6.8297e-08 - mae: 1.5038e-04 - val_loss: 4.1400e-06 - val_mae: 8.3296e-04\n",
      "Epoch 23/100\n",
      "36/36 [==============================] - 0s 3ms/step - loss: 3.7033e-08 - mae: 1.1288e-04 - val_loss: 2.7017e-06 - val_mae: 6.9113e-04\n",
      "Epoch 24/100\n",
      "36/36 [==============================] - 0s 2ms/step - loss: 2.2922e-08 - mae: 9.1736e-05 - val_loss: 2.4225e-06 - val_mae: 6.2126e-04\n",
      "Epoch 25/100\n",
      "36/36 [==============================] - 0s 2ms/step - loss: 1.5671e-08 - mae: 7.6795e-05 - val_loss: 1.9426e-06 - val_mae: 5.5297e-04\n",
      "Epoch 26/100\n",
      "36/36 [==============================] - 0s 2ms/step - loss: 1.1544e-08 - mae: 6.5946e-05 - val_loss: 1.6265e-06 - val_mae: 5.0696e-04\n",
      "Epoch 27/100\n",
      "36/36 [==============================] - 0s 2ms/step - loss: 8.9556e-09 - mae: 5.9109e-05 - val_loss: 1.4692e-06 - val_mae: 4.7072e-04\n",
      "Epoch 28/100\n",
      "36/36 [==============================] - 0s 2ms/step - loss: 7.2892e-09 - mae: 5.3298e-05 - val_loss: 1.3170e-06 - val_mae: 4.4308e-04\n",
      "Epoch 29/100\n",
      "36/36 [==============================] - 0s 2ms/step - loss: 6.0696e-09 - mae: 4.8657e-05 - val_loss: 1.2591e-06 - val_mae: 4.2433e-04\n",
      "Epoch 30/100\n",
      "36/36 [==============================] - 0s 2ms/step - loss: 5.1733e-09 - mae: 4.5174e-05 - val_loss: 1.1464e-06 - val_mae: 4.0310e-04\n",
      "Epoch 31/100\n",
      "36/36 [==============================] - 0s 2ms/step - loss: 4.5340e-09 - mae: 4.1985e-05 - val_loss: 1.0923e-06 - val_mae: 3.8915e-04\n",
      "Epoch 32/100\n",
      "36/36 [==============================] - 0s 2ms/step - loss: 3.9921e-09 - mae: 3.9712e-05 - val_loss: 1.0346e-06 - val_mae: 3.7505e-04\n",
      "Epoch 33/100\n",
      "36/36 [==============================] - 0s 2ms/step - loss: 3.5663e-09 - mae: 3.7569e-05 - val_loss: 9.7121e-07 - val_mae: 3.6215e-04\n",
      "Epoch 34/100\n",
      "36/36 [==============================] - 0s 2ms/step - loss: 3.2099e-09 - mae: 3.5691e-05 - val_loss: 9.3900e-07 - val_mae: 3.5237e-04\n",
      "Epoch 35/100\n",
      "36/36 [==============================] - 0s 2ms/step - loss: 2.9248e-09 - mae: 3.4022e-05 - val_loss: 8.8970e-07 - val_mae: 3.4206e-04\n",
      "Epoch 36/100\n",
      "36/36 [==============================] - 0s 3ms/step - loss: 2.6776e-09 - mae: 3.2605e-05 - val_loss: 8.4175e-07 - val_mae: 3.3224e-04\n",
      "Epoch 37/100\n",
      "36/36 [==============================] - 0s 3ms/step - loss: 2.4685e-09 - mae: 3.1306e-05 - val_loss: 8.2260e-07 - val_mae: 3.2525e-04\n",
      "Epoch 38/100\n",
      "36/36 [==============================] - 0s 3ms/step - loss: 2.2905e-09 - mae: 3.0266e-05 - val_loss: 7.8517e-07 - val_mae: 3.1735e-04\n",
      "Epoch 39/100\n",
      "36/36 [==============================] - 0s 3ms/step - loss: 2.1295e-09 - mae: 2.9226e-05 - val_loss: 7.5198e-07 - val_mae: 3.0994e-04\n",
      "Epoch 40/100\n",
      "36/36 [==============================] - 0s 3ms/step - loss: 1.9962e-09 - mae: 2.8251e-05 - val_loss: 7.3129e-07 - val_mae: 3.0380e-04\n",
      "Epoch 41/100\n",
      "36/36 [==============================] - 0s 3ms/step - loss: 1.8725e-09 - mae: 2.7318e-05 - val_loss: 7.0745e-07 - val_mae: 2.9792e-04\n",
      "Epoch 42/100\n",
      "36/36 [==============================] - 0s 3ms/step - loss: 1.7644e-09 - mae: 2.6573e-05 - val_loss: 6.8653e-07 - val_mae: 2.9249e-04\n",
      "Epoch 43/100\n",
      "36/36 [==============================] - 0s 3ms/step - loss: 1.6670e-09 - mae: 2.5794e-05 - val_loss: 6.6677e-07 - val_mae: 2.8732e-04\n",
      "Epoch 44/100\n",
      "36/36 [==============================] - 0s 3ms/step - loss: 1.5788e-09 - mae: 2.5178e-05 - val_loss: 6.4862e-07 - val_mae: 2.8256e-04\n",
      "Epoch 45/100\n",
      "36/36 [==============================] - 0s 3ms/step - loss: 1.4991e-09 - mae: 2.4505e-05 - val_loss: 6.3403e-07 - val_mae: 2.7828e-04\n",
      "Epoch 46/100\n",
      "36/36 [==============================] - 0s 3ms/step - loss: 1.4296e-09 - mae: 2.3915e-05 - val_loss: 6.1459e-07 - val_mae: 2.7367e-04\n",
      "Epoch 47/100\n",
      "36/36 [==============================] - 0s 3ms/step - loss: 1.3634e-09 - mae: 2.3352e-05 - val_loss: 6.0223e-07 - val_mae: 2.6984e-04\n",
      "Epoch 48/100\n",
      "36/36 [==============================] - 0s 3ms/step - loss: 1.3029e-09 - mae: 2.2836e-05 - val_loss: 5.9285e-07 - val_mae: 2.6651e-04\n",
      "Epoch 49/100\n",
      "36/36 [==============================] - 0s 3ms/step - loss: 1.2479e-09 - mae: 2.2357e-05 - val_loss: 5.7733e-07 - val_mae: 2.6275e-04\n",
      "Epoch 50/100\n",
      "36/36 [==============================] - 0s 3ms/step - loss: 1.1974e-09 - mae: 2.1907e-05 - val_loss: 5.6336e-07 - val_mae: 2.5918e-04\n",
      "Epoch 51/100\n",
      "36/36 [==============================] - 0s 3ms/step - loss: 1.1512e-09 - mae: 2.1457e-05 - val_loss: 5.5722e-07 - val_mae: 2.5641e-04\n",
      "Epoch 52/100\n",
      "36/36 [==============================] - 0s 3ms/step - loss: 1.1073e-09 - mae: 2.1067e-05 - val_loss: 5.4159e-07 - val_mae: 2.5281e-04\n",
      "Epoch 53/100\n",
      "36/36 [==============================] - 0s 3ms/step - loss: 1.0665e-09 - mae: 2.0670e-05 - val_loss: 5.3185e-07 - val_mae: 2.4991e-04\n",
      "Epoch 54/100\n",
      "36/36 [==============================] - 0s 3ms/step - loss: 1.0289e-09 - mae: 2.0292e-05 - val_loss: 5.2072e-07 - val_mae: 2.4693e-04\n",
      "Epoch 55/100\n",
      "36/36 [==============================] - 0s 3ms/step - loss: 9.9401e-10 - mae: 1.9967e-05 - val_loss: 5.1418e-07 - val_mae: 2.4449e-04\n",
      "Epoch 56/100\n",
      "36/36 [==============================] - 0s 4ms/step - loss: 9.5989e-10 - mae: 1.9622e-05 - val_loss: 5.0301e-07 - val_mae: 2.4168e-04\n",
      "Epoch 57/100\n",
      "36/36 [==============================] - 0s 3ms/step - loss: 9.2965e-10 - mae: 1.9301e-05 - val_loss: 4.9486e-07 - val_mae: 2.3919e-04\n",
      "Epoch 58/100\n"
     ]
    },
    {
     "name": "stdout",
     "output_type": "stream",
     "text": [
      "36/36 [==============================] - 0s 3ms/step - loss: 8.9998e-10 - mae: 1.9010e-05 - val_loss: 4.8560e-07 - val_mae: 2.3663e-04\n",
      "Epoch 59/100\n",
      "36/36 [==============================] - 0s 3ms/step - loss: 8.7222e-10 - mae: 1.8709e-05 - val_loss: 4.7780e-07 - val_mae: 2.3431e-04\n",
      "Epoch 60/100\n",
      "36/36 [==============================] - 0s 3ms/step - loss: 8.4662e-10 - mae: 1.8438e-05 - val_loss: 4.6899e-07 - val_mae: 2.3193e-04\n",
      "Epoch 61/100\n",
      "36/36 [==============================] - 0s 3ms/step - loss: 8.2224e-10 - mae: 1.8176e-05 - val_loss: 4.6364e-07 - val_mae: 2.2996e-04\n",
      "Epoch 62/100\n",
      "36/36 [==============================] - 0s 3ms/step - loss: 7.9904e-10 - mae: 1.7906e-05 - val_loss: 4.5657e-07 - val_mae: 2.2789e-04\n",
      "Epoch 63/100\n",
      "36/36 [==============================] - 0s 3ms/step - loss: 7.7774e-10 - mae: 1.7673e-05 - val_loss: 4.5174e-07 - val_mae: 2.2609e-04\n",
      "Epoch 64/100\n",
      "36/36 [==============================] - 0s 3ms/step - loss: 7.5662e-10 - mae: 1.7429e-05 - val_loss: 4.4441e-07 - val_mae: 2.2402e-04\n",
      "Epoch 65/100\n",
      "36/36 [==============================] - 0s 3ms/step - loss: 7.3661e-10 - mae: 1.7202e-05 - val_loss: 4.3783e-07 - val_mae: 2.2211e-04\n",
      "Epoch 66/100\n",
      "36/36 [==============================] - 0s 3ms/step - loss: 7.1813e-10 - mae: 1.6992e-05 - val_loss: 4.3287e-07 - val_mae: 2.2038e-04\n",
      "Epoch 67/100\n",
      "36/36 [==============================] - 0s 3ms/step - loss: 7.0015e-10 - mae: 1.6776e-05 - val_loss: 4.2708e-07 - val_mae: 2.1860e-04\n",
      "Epoch 68/100\n",
      "36/36 [==============================] - 0s 3ms/step - loss: 6.8314e-10 - mae: 1.6559e-05 - val_loss: 4.2068e-07 - val_mae: 2.1679e-04\n",
      "Epoch 69/100\n",
      "36/36 [==============================] - 0s 3ms/step - loss: 6.6688e-10 - mae: 1.6363e-05 - val_loss: 4.1651e-07 - val_mae: 2.1526e-04\n",
      "Epoch 70/100\n",
      "36/36 [==============================] - 0s 3ms/step - loss: 6.5129e-10 - mae: 1.6185e-05 - val_loss: 4.1030e-07 - val_mae: 2.1352e-04\n",
      "Epoch 71/100\n",
      "36/36 [==============================] - 0s 3ms/step - loss: 6.3646e-10 - mae: 1.5990e-05 - val_loss: 4.0583e-07 - val_mae: 2.1201e-04\n",
      "Epoch 72/100\n",
      "36/36 [==============================] - 0s 3ms/step - loss: 6.2249e-10 - mae: 1.5815e-05 - val_loss: 4.0001e-07 - val_mae: 2.1036e-04\n",
      "Epoch 73/100\n",
      "36/36 [==============================] - 0s 3ms/step - loss: 6.0892e-10 - mae: 1.5633e-05 - val_loss: 3.9661e-07 - val_mae: 2.0901e-04\n",
      "Epoch 74/100\n",
      "36/36 [==============================] - 0s 3ms/step - loss: 5.9589e-10 - mae: 1.5466e-05 - val_loss: 3.9231e-07 - val_mae: 2.0760e-04\n",
      "Epoch 75/100\n",
      "36/36 [==============================] - 0s 3ms/step - loss: 5.8336e-10 - mae: 1.5310e-05 - val_loss: 3.8655e-07 - val_mae: 2.0603e-04\n",
      "Epoch 76/100\n",
      "36/36 [==============================] - 0s 3ms/step - loss: 5.7125e-10 - mae: 1.5145e-05 - val_loss: 3.8341e-07 - val_mae: 2.0478e-04\n",
      "Epoch 77/100\n",
      "36/36 [==============================] - 0s 4ms/step - loss: 5.5965e-10 - mae: 1.4995e-05 - val_loss: 3.7796e-07 - val_mae: 2.0330e-04\n",
      "Epoch 78/100\n",
      "36/36 [==============================] - 0s 3ms/step - loss: 5.4861e-10 - mae: 1.4848e-05 - val_loss: 3.7458e-07 - val_mae: 2.0207e-04\n",
      "Epoch 79/100\n",
      "36/36 [==============================] - 0s 3ms/step - loss: 5.3768e-10 - mae: 1.4697e-05 - val_loss: 3.7093e-07 - val_mae: 2.0082e-04\n",
      "Epoch 80/100\n",
      "36/36 [==============================] - 0s 3ms/step - loss: 5.2760e-10 - mae: 1.4559e-05 - val_loss: 3.6708e-07 - val_mae: 1.9958e-04\n",
      "Epoch 81/100\n",
      "36/36 [==============================] - 0s 3ms/step - loss: 5.1764e-10 - mae: 1.4423e-05 - val_loss: 3.6357e-07 - val_mae: 1.9838e-04\n",
      "Epoch 82/100\n",
      "36/36 [==============================] - 0s 3ms/step - loss: 5.0830e-10 - mae: 1.4298e-05 - val_loss: 3.5912e-07 - val_mae: 1.9710e-04\n",
      "Epoch 83/100\n",
      "36/36 [==============================] - 0s 3ms/step - loss: 4.9893e-10 - mae: 1.4155e-05 - val_loss: 3.5640e-07 - val_mae: 1.9602e-04\n",
      "Epoch 84/100\n",
      "36/36 [==============================] - 0s 3ms/step - loss: 4.9027e-10 - mae: 1.4041e-05 - val_loss: 3.5291e-07 - val_mae: 1.9489e-04\n",
      "Epoch 85/100\n",
      "36/36 [==============================] - 0s 3ms/step - loss: 4.8141e-10 - mae: 1.3910e-05 - val_loss: 3.4956e-07 - val_mae: 1.9378e-04\n",
      "Epoch 86/100\n",
      "36/36 [==============================] - 0s 3ms/step - loss: 4.7289e-10 - mae: 1.3783e-05 - val_loss: 3.4602e-07 - val_mae: 1.9268e-04\n",
      "Epoch 87/100\n",
      "36/36 [==============================] - 0s 3ms/step - loss: 4.6479e-10 - mae: 1.3665e-05 - val_loss: 3.4402e-07 - val_mae: 1.9176e-04\n",
      "Epoch 88/100\n",
      "36/36 [==============================] - 0s 3ms/step - loss: 4.5746e-10 - mae: 1.3554e-05 - val_loss: 3.4126e-07 - val_mae: 1.9079e-04\n",
      "Epoch 89/100\n",
      "36/36 [==============================] - 0s 3ms/step - loss: 4.4983e-10 - mae: 1.3453e-05 - val_loss: 3.3809e-07 - val_mae: 1.8975e-04\n",
      "Epoch 90/100\n",
      "36/36 [==============================] - 0s 3ms/step - loss: 4.4237e-10 - mae: 1.3333e-05 - val_loss: 3.3464e-07 - val_mae: 1.8867e-04\n",
      "Epoch 91/100\n",
      "36/36 [==============================] - 0s 3ms/step - loss: 4.3553e-10 - mae: 1.3232e-05 - val_loss: 3.3163e-07 - val_mae: 1.8770e-04\n",
      "Epoch 92/100\n",
      "36/36 [==============================] - 0s 3ms/step - loss: 4.2838e-10 - mae: 1.3119e-05 - val_loss: 3.2913e-07 - val_mae: 1.8678e-04\n",
      "Epoch 93/100\n",
      "36/36 [==============================] - 0s 3ms/step - loss: 4.2168e-10 - mae: 1.3018e-05 - val_loss: 3.2633e-07 - val_mae: 1.8583e-04\n",
      "Epoch 94/100\n",
      "36/36 [==============================] - 0s 3ms/step - loss: 4.1562e-10 - mae: 1.2925e-05 - val_loss: 3.2376e-07 - val_mae: 1.8493e-04\n",
      "Epoch 95/100\n",
      "36/36 [==============================] - 0s 3ms/step - loss: 4.0893e-10 - mae: 1.2823e-05 - val_loss: 3.2090e-07 - val_mae: 1.8400e-04\n",
      "Epoch 96/100\n",
      "36/36 [==============================] - 0s 3ms/step - loss: 4.0286e-10 - mae: 1.2725e-05 - val_loss: 3.1881e-07 - val_mae: 1.8318e-04\n",
      "Epoch 97/100\n",
      "36/36 [==============================] - 0s 3ms/step - loss: 3.9711e-10 - mae: 1.2629e-05 - val_loss: 3.1659e-07 - val_mae: 1.8235e-04\n",
      "Epoch 98/100\n",
      "36/36 [==============================] - 0s 3ms/step - loss: 3.9160e-10 - mae: 1.2548e-05 - val_loss: 3.1380e-07 - val_mae: 1.8145e-04\n",
      "Epoch 99/100\n",
      "36/36 [==============================] - 0s 3ms/step - loss: 3.8583e-10 - mae: 1.2451e-05 - val_loss: 3.1126e-07 - val_mae: 1.8059e-04\n",
      "Epoch 100/100\n",
      "36/36 [==============================] - 0s 3ms/step - loss: 3.8022e-10 - mae: 1.2362e-05 - val_loss: 3.0956e-07 - val_mae: 1.7986e-04\n"
     ]
    }
   ],
   "source": [
    "model = tf.keras.Sequential([\n",
    "    tf.keras.layers.Dense(32, activation='relu'),\n",
    "#     tf.keras.layers.Dropout(0.4),\n",
    "    tf.keras.layers.Dense(16, activation='relu'),\n",
    "#     tf.keras.layers.Dropout(0.2),\n",
    "    tf.keras.layers.Dense(len(GESTURES), activation='softmax')\n",
    "])\n",
    "\n",
    "\n",
    "model.compile(optimizer='rmsprop', loss='mse', metrics=['mae'])\n",
    "\n",
    "history = model.fit(i_train, o_train,\n",
    "                       epochs=100, batch_size=1,\n",
    "                   validation_data=(i_validate, o_validate))"
   ]
  },
  {
   "cell_type": "code",
   "execution_count": 8,
   "id": "1bce9caa",
   "metadata": {},
   "outputs": [
    {
     "data": {
      "text/plain": [
       "<tf.Tensor: shape=(1, 5), dtype=float32, numpy=\n",
       "array([[3.0503128e-05, 4.4205973e-07, 9.9992359e-01, 4.0221683e-05,\n",
       "        5.2647733e-06]], dtype=float32)>"
      ]
     },
     "execution_count": 8,
     "metadata": {},
     "output_type": "execute_result"
    }
   ],
   "source": [
    "# performance before train\n",
    "model(i_train[:1])"
   ]
  },
  {
   "cell_type": "markdown",
   "id": "5ad3a60d",
   "metadata": {},
   "source": [
    "## Review model's performance"
   ]
  },
  {
   "cell_type": "code",
   "execution_count": 9,
   "id": "46fabeee",
   "metadata": {
    "scrolled": true
   },
   "outputs": [
    {
     "data": {
      "image/png": "[encoded data removed]",
      "text/plain": [
       "<Figure size 2000x1000 with 1 Axes>"
      ]
     },
     "metadata": {},
     "output_type": "display_data"
    },
    {
     "name": "stdout",
     "output_type": "stream",
     "text": [
      "[20.0, 10.0]\n"
     ]
    }
   ],
   "source": [
    "# increase the size of the graphs. The default size is (6,4).\n",
    "plt.rcParams[\"figure.figsize\"] = (20,10)\n",
    "\n",
    "# graph the loss, the model above is configure to use \"mean squared error\" as the loss function\n",
    "loss = history.history['loss']\n",
    "val_loss = history.history['val_loss']\n",
    "epochs = range(1, len(loss) + 1)\n",
    "plt.plot(epochs, loss, 'g.', label='Training loss')\n",
    "plt.plot(epochs, val_loss, 'b', label='Validation loss')\n",
    "plt.title('Training and validation loss')\n",
    "plt.xlabel('Epochs')\n",
    "plt.ylabel('Loss')\n",
    "plt.legend()\n",
    "plt.show()\n",
    "\n",
    "print(plt.rcParams[\"figure.figsize\"])"
   ]
  },
  {
   "cell_type": "markdown",
   "id": "a063a0be",
   "metadata": {},
   "source": [
    "### Mean absolute error"
   ]
  },
  {
   "cell_type": "code",
   "execution_count": 13,
   "id": "7449ed0b",
   "metadata": {},
   "outputs": [
    {
     "data": {
      "image/png": "[encoded data removed]",
      "text/plain": [
       "<Figure size 2000x1000 with 1 Axes>"
      ]
     },
     "metadata": {},
     "output_type": "display_data"
    }
   ],
   "source": [
    "# graph of mean absolute error\n",
    "mae = history.history['mae']\n",
    "val_mae = history.history['val_mae']\n",
    "plt.plot(epochs[SKIP:], mae[SKIP:], 'g.', label='Training MAE')\n",
    "plt.plot(epochs[SKIP:], val_mae[SKIP:], 'b.', label='Validation MAE')\n",
    "plt.title('Training and validation MAE')\n",
    "plt.xlabel('Epochs')\n",
    "plt.ylabel('MAE')\n",
    "plt.legend()\n",
    "plt.show()"
   ]
  },
  {
   "cell_type": "markdown",
   "id": "244f5c15",
   "metadata": {},
   "source": [
    "## Verify with test data"
   ]
  },
  {
   "cell_type": "code",
   "execution_count": 11,
   "id": "0670869f",
   "metadata": {},
   "outputs": [
    {
     "name": "stdout",
     "output_type": "stream",
     "text": [
      "1/1 [==============================] - 0s 91ms/step\n",
      "predictions =\n",
      " [[0.    0.    0.    1.    0.   ]\n",
      " [0.    0.    0.    1.    0.   ]\n",
      " [1.    0.    0.    0.    0.   ]\n",
      " [0.    0.    0.    1.    0.   ]\n",
      " [0.    1.    0.    0.    0.   ]\n",
      " [0.    0.    0.    0.    1.   ]\n",
      " [0.    1.    0.    0.    0.   ]\n",
      " [0.    1.    0.    0.    0.   ]\n",
      " [0.999 0.    0.    0.    0.   ]\n",
      " [0.    1.    0.    0.    0.   ]\n",
      " [0.002 0.    0.    0.    0.997]\n",
      " [0.    0.    0.    1.    0.   ]\n",
      " [0.999 0.    0.001 0.    0.   ]\n",
      " [1.    0.    0.    0.    0.   ]\n",
      " [0.    0.    0.    0.    0.999]\n",
      " [0.    0.    1.    0.    0.   ]\n",
      " [0.    0.    0.    0.    1.   ]\n",
      " [0.    0.996 0.002 0.001 0.001]]\n",
      "actual =\n",
      " [[0. 0. 0. 1. 0.]\n",
      " [0. 0. 0. 1. 0.]\n",
      " [1. 0. 0. 0. 0.]\n",
      " [0. 0. 0. 1. 0.]\n",
      " [0. 1. 0. 0. 0.]\n",
      " [0. 0. 0. 0. 1.]\n",
      " [0. 1. 0. 0. 0.]\n",
      " [0. 1. 0. 0. 0.]\n",
      " [1. 0. 0. 0. 0.]\n",
      " [0. 1. 0. 0. 0.]\n",
      " [0. 0. 0. 0. 1.]\n",
      " [0. 0. 0. 1. 0.]\n",
      " [1. 0. 0. 0. 0.]\n",
      " [1. 0. 0. 0. 0.]\n",
      " [0. 0. 0. 0. 1.]\n",
      " [0. 0. 1. 0. 0.]\n",
      " [0. 0. 0. 0. 1.]\n",
      " [0. 1. 0. 0. 0.]]\n"
     ]
    }
   ],
   "source": [
    "i_test = tf.convert_to_tensor(i_test, dtype=tf.float32)\n",
    "\n",
    "# use the model to predict the test inputs\n",
    "predictions = model.predict(i_test)\n",
    "\n",
    "# print the predictions and the expected ouputs\n",
    "print(\"predictions =\\n\", np.round(predictions, decimals=3))\n",
    "print(\"actual =\\n\", o_test)"
   ]
  },
  {
   "cell_type": "markdown",
   "id": "b091da2d",
   "metadata": {},
   "source": [
    "## Produce model file (.tflite)\n",
    "\n",
    "Output both non-quantized and quantized model files\n"
   ]
  },
  {
   "cell_type": "code",
   "execution_count": 17,
   "id": "041de49e",
   "metadata": {},
   "outputs": [
    {
     "name": "stdout",
     "output_type": "stream",
     "text": [
      "INFO:tensorflow:Assets written to: C:\\Users\\cheew\\AppData\\Local\\Temp\\tmppg7rpdyj\\assets\n"
     ]
    },
    {
     "name": "stderr",
     "output_type": "stream",
     "text": [
      "INFO:tensorflow:Assets written to: C:\\Users\\cheew\\AppData\\Local\\Temp\\tmppg7rpdyj\\assets\n"
     ]
    },
    {
     "name": "stdout",
     "output_type": "stream",
     "text": [
      "INFO:tensorflow:Assets written to: C:\\Users\\cheew\\AppData\\Local\\Temp\\tmpiu4uhymq\\assets\n"
     ]
    },
    {
     "name": "stderr",
     "output_type": "stream",
     "text": [
      "INFO:tensorflow:Assets written to: C:\\Users\\cheew\\AppData\\Local\\Temp\\tmpiu4uhymq\\assets\n"
     ]
    },
    {
     "name": "stdout",
     "output_type": "stream",
     "text": [
      "Basic model is 43072 bytes\n",
      "Quantized model is 13240 bytes\n"
     ]
    },
    {
     "name": "stderr",
     "output_type": "stream",
     "text": [
      "C:\\Users\\cheew\\anaconda3\\envs\\tf\\lib\\site-packages\\tensorflow\\lite\\python\\convert.py:766: UserWarning: Statistics for quantized inputs were expected, but not specified; continuing anyway.\n",
      "  warnings.warn(\"Statistics for quantized inputs were expected, but not \"\n"
     ]
    }
   ],
   "source": [
    "TFLITE_FILE = 'tflite/gesture_model.tflite'\n",
    "TFLITE_FILE_Q = 'tflite/gesture_model_q.tflite'\n",
    "\n",
    "converter = tf.lite.TFLiteConverter.from_keras_model(model)\n",
    "tflite_model = converter.convert()\n",
    "\n",
    "open(TFLITE_FILE, \"wb\").write(tflite_model)\n",
    "\n",
    "\n",
    "converter_q = tf.lite.TFLiteConverter.from_keras_model(model)\n",
    "converter_q.optimizations = [tf.lite.Optimize.DEFAULT]\n",
    "\n",
    "def representative_dataset_generator():\n",
    " # each scalar value inside a 2D array that is wrapped in a list\n",
    " for value in inputs:\n",
    "     yield [np.array(value, dtype=np.float32, ndmin=2)]\n",
    "\n",
    "converter_q.representative_dataset = representative_dataset_generator\n",
    "tflite_model_q = converter_q.convert()\n",
    "\n",
    "open(TFLITE_FILE_Q, \"wb\").write(tflite_model_q)\n",
    "\n",
    "\n",
    "# Review size difference\n",
    "basic_model_size = os.path.getsize(TFLITE_FILE)\n",
    "print(\"Basic model is %d bytes\" % basic_model_size)\n",
    "\n",
    "basic_model_size_q = os.path.getsize(TFLITE_FILE_Q)\n",
    "print(\"Quantized model is %d bytes\" % basic_model_size_q)"
   ]
  },
  {
   "cell_type": "markdown",
   "id": "52f7e00c",
   "metadata": {},
   "source": [
    "## Verify the interpreter (.tflite)"
   ]
  },
  {
   "cell_type": "code",
   "execution_count": 18,
   "id": "33aa567d",
   "metadata": {},
   "outputs": [
    {
     "name": "stdout",
     "output_type": "stream",
     "text": [
      "model predictions =\n",
      " [[0.    0.    0.    1.    0.   ]\n",
      " [0.    0.    0.    1.    0.   ]\n",
      " [1.    0.    0.    0.    0.   ]\n",
      " [0.    0.    0.    1.    0.   ]\n",
      " [0.    1.    0.    0.    0.   ]\n",
      " [0.    0.    0.    0.    1.   ]\n",
      " [0.    1.    0.    0.    0.   ]\n",
      " [0.    1.    0.    0.    0.   ]\n",
      " [0.999 0.    0.    0.    0.   ]\n",
      " [0.    1.    0.    0.    0.   ]\n",
      " [0.002 0.    0.    0.    0.997]\n",
      " [0.    0.    0.    1.    0.   ]\n",
      " [0.999 0.    0.001 0.    0.   ]\n",
      " [1.    0.    0.    0.    0.   ]\n",
      " [0.    0.    0.    0.    0.999]\n",
      " [0.    0.    1.    0.    0.   ]\n",
      " [0.    0.    0.    0.    1.   ]\n",
      " [0.    0.996 0.002 0.001 0.001]]\n",
      "actual =\n",
      " [[0. 0. 0. 1. 0.]\n",
      " [0. 0. 0. 1. 0.]\n",
      " [1. 0. 0. 0. 0.]\n",
      " [0. 0. 0. 1. 0.]\n",
      " [0. 1. 0. 0. 0.]\n",
      " [0. 0. 0. 0. 1.]\n",
      " [0. 1. 0. 0. 0.]\n",
      " [0. 1. 0. 0. 0.]\n",
      " [1. 0. 0. 0. 0.]\n",
      " [0. 1. 0. 0. 0.]\n",
      " [0. 0. 0. 0. 1.]\n",
      " [0. 0. 0. 1. 0.]\n",
      " [1. 0. 0. 0. 0.]\n",
      " [1. 0. 0. 0. 0.]\n",
      " [0. 0. 0. 0. 1.]\n",
      " [0. 0. 1. 0. 0.]\n",
      " [0. 0. 0. 0. 1.]\n",
      " [0. 1. 0. 0. 0.]]\n"
     ]
    }
   ],
   "source": [
    "_model = tf.lite.Interpreter(TFLITE_FILE)\n",
    "\n",
    "_model.allocate_tensors()\n",
    "\n",
    "_model_input_index = _model.get_input_details()[0]['index']\n",
    "_model_output_index = _model.get_output_details()[0]['index']\n",
    "\n",
    "_model_predictions = []\n",
    "\n",
    "for i in i_test:\n",
    "    # write the value to the input tensor\n",
    "    i_tensor = tf.convert_to_tensor([i], dtype=tf.float32)\n",
    "    _model.set_tensor(_model_input_index, i_tensor)\n",
    "    # run inference\n",
    "    _model.invoke()\n",
    "    # read the prediction from the output tensor\n",
    "    _model_predictions.append(_model.get_tensor(_model_output_index)[0])\n",
    "\n",
    "# print the predictions and the expected ouputs\n",
    "print(\"model predictions =\\n\", np.round(_model_predictions, decimals=3))\n",
    "print(\"actual =\\n\", o_test)"
   ]
  },
  {
   "cell_type": "markdown",
   "id": "09b2cb58",
   "metadata": {},
   "source": [
    "## Verify the quantized interpreter (.tflite)"
   ]
  },
  {
   "cell_type": "code",
   "execution_count": 19,
   "id": "9802994d",
   "metadata": {},
   "outputs": [
    {
     "name": "stdout",
     "output_type": "stream",
     "text": [
      "quantized model predictions =\n",
      " [[0.    0.    0.    0.996 0.   ]\n",
      " [0.    0.    0.    0.996 0.   ]\n",
      " [0.996 0.    0.    0.    0.   ]\n",
      " [0.    0.    0.    0.996 0.   ]\n",
      " [0.    0.996 0.    0.    0.   ]\n",
      " [0.    0.    0.    0.    0.996]\n",
      " [0.    0.996 0.    0.    0.   ]\n",
      " [0.    0.996 0.    0.    0.   ]\n",
      " [0.996 0.    0.    0.    0.   ]\n",
      " [0.    0.996 0.    0.    0.   ]\n",
      " [0.004 0.    0.    0.    0.996]\n",
      " [0.    0.    0.    0.996 0.   ]\n",
      " [0.996 0.    0.    0.    0.   ]\n",
      " [0.996 0.    0.    0.    0.   ]\n",
      " [0.    0.    0.    0.    0.996]\n",
      " [0.    0.    0.996 0.    0.   ]\n",
      " [0.    0.    0.    0.    0.996]\n",
      " [0.    0.996 0.004 0.    0.   ]]\n",
      "actual =\n",
      " [[0. 0. 0. 1. 0.]\n",
      " [0. 0. 0. 1. 0.]\n",
      " [1. 0. 0. 0. 0.]\n",
      " [0. 0. 0. 1. 0.]\n",
      " [0. 1. 0. 0. 0.]\n",
      " [0. 0. 0. 0. 1.]\n",
      " [0. 1. 0. 0. 0.]\n",
      " [0. 1. 0. 0. 0.]\n",
      " [1. 0. 0. 0. 0.]\n",
      " [0. 1. 0. 0. 0.]\n",
      " [0. 0. 0. 0. 1.]\n",
      " [0. 0. 0. 1. 0.]\n",
      " [1. 0. 0. 0. 0.]\n",
      " [1. 0. 0. 0. 0.]\n",
      " [0. 0. 0. 0. 1.]\n",
      " [0. 0. 1. 0. 0.]\n",
      " [0. 0. 0. 0. 1.]\n",
      " [0. 1. 0. 0. 0.]]\n"
     ]
    }
   ],
   "source": [
    "_model_q = tf.lite.Interpreter(TFLITE_FILE_Q)\n",
    "\n",
    "_model_q.allocate_tensors()\n",
    "\n",
    "_model_q_input_index = _model_q.get_input_details()[0]['index']\n",
    "_model_q_output_index = _model_q.get_output_details()[0]['index']\n",
    "\n",
    "_model_q_predictions = []\n",
    "\n",
    "for i in i_test:\n",
    "    # write the value to the input tensor\n",
    "    i_tensor = tf.convert_to_tensor([i], dtype=tf.float32)\n",
    "    _model_q.set_tensor(_model_q_input_index, i_tensor)\n",
    "    # run inference\n",
    "    _model_q.invoke()\n",
    "    # read the prediction from the output tensor\n",
    "    _model_q_predictions.append(_model_q.get_tensor(_model_q_output_index)[0])\n",
    "\n",
    "# print the predictions and the expected ouputs\n",
    "print(\"quantized model predictions =\\n\", np.round(_model_q_predictions, decimals=3))\n",
    "print(\"actual =\\n\", o_test)"
   ]
  },
  {
   "cell_type": "markdown",
   "id": "a130884e",
   "metadata": {},
   "source": [
    "## Produce the model header file"
   ]
  },
  {
   "cell_type": "code",
   "execution_count": 20,
   "id": "22bf271b",
   "metadata": {},
   "outputs": [
    {
     "name": "stderr",
     "output_type": "stream",
     "text": [
      "'xxd' is not recognized as an internal or external command,\n",
      "operable program or batch file.\n",
      "'xxd' is not recognized as an internal or external command,\n",
      "operable program or batch file.\n"
     ]
    }
   ],
   "source": [
    "# to run below command, ensure jupyter notebook is launched under bash terminal (eg. git bash, linux terminal)\n",
    "\n",
    "HEADER_FILE = '../ble_client/gesture_model.h'\n",
    "HEADER_FILE = '../ble_client/gesture_model_q.h'\n",
    "# based model header file\n",
    "str1 = \"const unsigned char {} [] = {{\".format('gesture_model')\n",
    "str2 = \"};\"\n",
    "!echo {str1}  > {HEADER_FILE}\n",
    "!cat {TFLITE_FILE} | xxd -i >> {HEADER_FILE}\n",
    "!echo {str2} >> {HEADER_FILE}\n",
    "\n",
    "# quantized model header file\n",
    "str3 = \"const unsigned char {} [] = {{\".format('gesture_model_q')\n",
    "\n",
    "!echo {str3}  > {HEADER_FILE_Q}\n",
    "!cat {TFLITE_FILE_Q} | xxd -i >> {HEADER_FILE_Q}\n",
    "!echo {str2} >> {HEADER_FILE_Q}"
   ]
  },
  {
   "cell_type": "code",
   "execution_count": null,
   "id": "cbabf5b5",
   "metadata": {},
   "outputs": [],
   "source": []
  },
  {
   "cell_type": "code",
   "execution_count": null,
   "id": "effcdf39",
   "metadata": {},
   "outputs": [],
   "source": []
  },
  {
   "cell_type": "code",
   "execution_count": null,
   "id": "73403a39",
   "metadata": {},
   "outputs": [],
   "source": []
  },
  {
   "cell_type": "code",
   "execution_count": null,
   "id": "01d1a978",
   "metadata": {},
   "outputs": [],
   "source": []
  },
  {
   "cell_type": "code",
   "execution_count": null,
   "id": "35775034",
   "metadata": {},
   "outputs": [],
   "source": []
  },
  {
   "cell_type": "code",
   "execution_count": null,
   "id": "0a22137d",
   "metadata": {},
   "outputs": [],
   "source": []
  }
 ],
 "metadata": {
  "kernelspec": {
   "display_name": "Python 3 (ipykernel)",
   "language": "python",
   "name": "python3"
  },
  "language_info": {
   "codemirror_mode": {
    "name": "ipython",
    "version": 3
   },
   "file_extension": ".py",
   "mimetype": "text/x-python",
   "name": "python",
   "nbconvert_exporter": "python",
   "pygments_lexer": "ipython3",
   "version": "3.9.15"
  }
 },
 "nbformat": 4,
 "nbformat_minor": 5
}
