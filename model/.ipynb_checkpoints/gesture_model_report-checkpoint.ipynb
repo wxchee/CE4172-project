{
 "cells": [
  {
   "cell_type": "code",
   "execution_count": 1,
   "id": "643e3ddd",
   "metadata": {},
   "outputs": [],
   "source": [
    "import numpy as np\n",
    "import tensorflow as tf\n",
    "import matplotlib.pyplot as plt\n",
    "import math\n",
    "import pandas as pd\n",
    "\n",
    "from sklearn.metrics import confusion_matrix\n",
    "import seaborn as sb"
   ]
  },
  {
   "cell_type": "code",
   "execution_count": 2,
   "id": "6a7eb85b",
   "metadata": {},
   "outputs": [],
   "source": [
    "# define constant\n",
    "\n",
    "FOLDER = 'datas/s40d30t1.5/'\n",
    "GESTURES = [\"l\", \"r\", \"u\", \"d\", \"unknown\"]\n",
    "\n",
    "DATA_POINT_PER_GESTURE = 30\n",
    "\n",
    "\n",
    "SEED = 1337\n",
    "np.random.seed(SEED)\n",
    "tf.random.set_seed(SEED)"
   ]
  },
  {
   "cell_type": "code",
   "execution_count": 3,
   "id": "c88a49b1",
   "metadata": {},
   "outputs": [],
   "source": [
    "def plot_cm(actual, predict, size=(3,3)):\n",
    "    conf_mat = confusion_matrix(np.argmax(actual, axis=1), np.argmax(predict, axis=1))\n",
    "\n",
    "    plt.subplots(figsize=size)\n",
    "    sb.heatmap(conf_mat, annot=True, cmap='Blues', fmt='g', cbar=False)\n",
    "    plt.xlabel(\"Actual labels\")\n",
    "    plt.ylabel(\"Predicted labels\")"
   ]
  },
  {
   "cell_type": "markdown",
   "id": "79e868e5",
   "metadata": {},
   "source": [
    "## Process data"
   ]
  },
  {
   "cell_type": "code",
   "execution_count": 4,
   "id": "7d09d1f8",
   "metadata": {},
   "outputs": [
    {
     "name": "stdout",
     "output_type": "stream",
     "text": [
      "Processing 0 for gesture 'l'.\n",
      "Processing 1 for gesture 'r'.\n",
      "Processing 2 for gesture 'u'.\n",
      "Processing 3 for gesture 'd'.\n",
      "Processing 4 for gesture 'unknown'.\n"
     ]
    }
   ],
   "source": [
    "inputs = []\n",
    "outputs = []\n",
    "\n",
    "ONE_HOTS = np.eye(len(GESTURES))\n",
    "\n",
    "for i in range(len(GESTURES)):\n",
    "    g = GESTURES[i]\n",
    "    print(f\"Processing {i} for gesture '{g}'.\")\n",
    "    \n",
    "    output = ONE_HOTS[i]\n",
    "    \n",
    "    df = pd.read_csv(FOLDER + g + '.csv')\n",
    "    num_recordings = int(df.shape[0] / DATA_POINT_PER_GESTURE)\n",
    "    \n",
    "    for j in range(num_recordings):\n",
    "        tensor = []\n",
    "        \n",
    "        for k in range(DATA_POINT_PER_GESTURE):\n",
    "            kk = j * DATA_POINT_PER_GESTURE + k\n",
    "            \n",
    "            tensor += [\n",
    "                df['aX'][kk],\n",
    "                df['aY'][kk],\n",
    "                df['aZ'][kk],\n",
    "                df['gX'][kk],\n",
    "                df['gY'][kk],\n",
    "                df['gZ'][kk],\n",
    "#                 df['mX'][kk],\n",
    "#                 df['mY'][kk],\n",
    "#                 df['mZ'][kk],\n",
    "            ]\n",
    "            \n",
    "        inputs.append(tensor)\n",
    "        outputs.append(output)"
   ]
  },
  {
   "cell_type": "code",
   "execution_count": 5,
   "id": "62e20204",
   "metadata": {},
   "outputs": [],
   "source": [
    "# display(pd.DataFrame(inputs))"
   ]
  },
  {
   "cell_type": "markdown",
   "id": "5253bdb7",
   "metadata": {},
   "source": [
    "## Create train/validate/test datas"
   ]
  },
  {
   "cell_type": "code",
   "execution_count": 6,
   "id": "7376b058",
   "metadata": {},
   "outputs": [],
   "source": [
    "rdm_index = np.arange(len(inputs))\n",
    "np.random.shuffle(rdm_index)\n",
    "\n",
    "inputs = np.array(inputs)[rdm_index]\n",
    "outputs = np.array(outputs)[rdm_index]\n",
    "\n",
    "TRAIN_SPLIT = int(0.5 * len(inputs))\n",
    "TEST_SPLIT = int(TRAIN_SPLIT + 0.25 * len(inputs))\n",
    "\n",
    "i_train, i_validate, i_test = np.split(inputs, [TRAIN_SPLIT, TEST_SPLIT])\n",
    "o_train, o_validate, o_test = np.split(outputs, [TRAIN_SPLIT, TEST_SPLIT])\n",
    "\n",
    "# do this if data type invalid\n",
    "i_train = tf.convert_to_tensor(i_train, dtype=tf.float32)\n",
    "o_train = tf.convert_to_tensor(o_train, dtype=tf.float32)\n",
    "\n",
    "i_validate = tf.convert_to_tensor(i_validate, dtype=tf.float32)\n",
    "o_validate = tf.convert_to_tensor(o_validate, dtype=tf.float32)\n",
    "\n",
    "i_test = tf.convert_to_tensor(i_test, dtype=tf.float32)"
   ]
  },
  {
   "cell_type": "markdown",
   "id": "cb22253c",
   "metadata": {},
   "source": [
    "## Build and train model 1"
   ]
  },
  {
   "cell_type": "code",
   "execution_count": 7,
   "id": "7fb1c4f1",
   "metadata": {},
   "outputs": [],
   "source": [
    "import os\n",
    "os.environ['KMP_DUPLICATE_LIB_OK']=\"TRUE\"\n",
    "\n",
    "EPOCHS=100"
   ]
  },
  {
   "cell_type": "code",
   "execution_count": 8,
   "id": "9c2403b0",
   "metadata": {
    "scrolled": true
   },
   "outputs": [
    {
     "name": "stdout",
     "output_type": "stream",
     "text": [
      "Epoch 1/100\n",
      "100/100 [==============================] - 1s 4ms/step - loss: 0.1563 - mae: 0.3060 - val_loss: 0.1524 - val_mae: 0.3098\n",
      "Epoch 2/100\n",
      "100/100 [==============================] - 0s 2ms/step - loss: 0.1474 - mae: 0.3043 - val_loss: 0.1415 - val_mae: 0.2963\n",
      "Epoch 3/100\n",
      "100/100 [==============================] - 0s 2ms/step - loss: 0.1290 - mae: 0.2801 - val_loss: 0.1235 - val_mae: 0.2706\n",
      "Epoch 4/100\n",
      "100/100 [==============================] - 0s 2ms/step - loss: 0.1091 - mae: 0.2513 - val_loss: 0.1019 - val_mae: 0.2407\n",
      "Epoch 5/100\n",
      "100/100 [==============================] - 0s 2ms/step - loss: 0.0876 - mae: 0.2174 - val_loss: 0.0960 - val_mae: 0.2215\n",
      "Epoch 6/100\n",
      "100/100 [==============================] - 0s 2ms/step - loss: 0.0711 - mae: 0.1856 - val_loss: 0.0726 - val_mae: 0.1798\n",
      "Epoch 7/100\n",
      "100/100 [==============================] - 0s 2ms/step - loss: 0.0555 - mae: 0.1573 - val_loss: 0.0605 - val_mae: 0.1598\n",
      "Epoch 8/100\n",
      "100/100 [==============================] - 0s 2ms/step - loss: 0.0436 - mae: 0.1329 - val_loss: 0.0446 - val_mae: 0.1369\n",
      "Epoch 9/100\n",
      "100/100 [==============================] - 0s 2ms/step - loss: 0.0346 - mae: 0.1150 - val_loss: 0.0439 - val_mae: 0.1219\n",
      "Epoch 10/100\n",
      "100/100 [==============================] - 0s 2ms/step - loss: 0.0279 - mae: 0.0979 - val_loss: 0.0330 - val_mae: 0.1022\n",
      "Epoch 11/100\n",
      "100/100 [==============================] - 0s 2ms/step - loss: 0.0239 - mae: 0.0832 - val_loss: 0.0267 - val_mae: 0.0896\n",
      "Epoch 12/100\n",
      "100/100 [==============================] - 0s 2ms/step - loss: 0.0220 - mae: 0.0799 - val_loss: 0.0258 - val_mae: 0.0824\n",
      "Epoch 13/100\n",
      "100/100 [==============================] - 0s 2ms/step - loss: 0.0183 - mae: 0.0662 - val_loss: 0.0283 - val_mae: 0.0813\n",
      "Epoch 14/100\n",
      "100/100 [==============================] - 0s 2ms/step - loss: 0.0161 - mae: 0.0593 - val_loss: 0.0448 - val_mae: 0.1088\n",
      "Epoch 15/100\n",
      "100/100 [==============================] - 0s 2ms/step - loss: 0.0160 - mae: 0.0553 - val_loss: 0.0238 - val_mae: 0.0692\n",
      "Epoch 16/100\n",
      "100/100 [==============================] - 0s 2ms/step - loss: 0.0169 - mae: 0.0519 - val_loss: 0.0251 - val_mae: 0.0668\n",
      "Epoch 17/100\n",
      "100/100 [==============================] - 0s 2ms/step - loss: 0.0135 - mae: 0.0468 - val_loss: 0.0250 - val_mae: 0.0688\n",
      "Epoch 18/100\n",
      "100/100 [==============================] - 0s 2ms/step - loss: 0.0138 - mae: 0.0432 - val_loss: 0.0238 - val_mae: 0.0617\n",
      "Epoch 19/100\n",
      "100/100 [==============================] - 0s 2ms/step - loss: 0.0141 - mae: 0.0438 - val_loss: 0.0284 - val_mae: 0.0659\n",
      "Epoch 20/100\n",
      "100/100 [==============================] - 0s 2ms/step - loss: 0.0136 - mae: 0.0407 - val_loss: 0.0229 - val_mae: 0.0576\n",
      "Epoch 21/100\n",
      "100/100 [==============================] - 0s 2ms/step - loss: 0.0142 - mae: 0.0386 - val_loss: 0.0212 - val_mae: 0.0534\n",
      "Epoch 22/100\n",
      "100/100 [==============================] - 0s 2ms/step - loss: 0.0108 - mae: 0.0324 - val_loss: 0.0451 - val_mae: 0.0824\n",
      "Epoch 23/100\n",
      "100/100 [==============================] - 0s 2ms/step - loss: 0.0144 - mae: 0.0387 - val_loss: 0.0200 - val_mae: 0.0499\n",
      "Epoch 24/100\n",
      "100/100 [==============================] - 0s 2ms/step - loss: 0.0131 - mae: 0.0373 - val_loss: 0.0209 - val_mae: 0.0492\n",
      "Epoch 25/100\n",
      "100/100 [==============================] - 0s 2ms/step - loss: 0.0120 - mae: 0.0349 - val_loss: 0.0194 - val_mae: 0.0460\n",
      "Epoch 26/100\n",
      "100/100 [==============================] - 0s 2ms/step - loss: 0.0126 - mae: 0.0336 - val_loss: 0.0209 - val_mae: 0.0507\n",
      "Epoch 27/100\n",
      "100/100 [==============================] - 0s 2ms/step - loss: 0.0100 - mae: 0.0301 - val_loss: 0.0352 - val_mae: 0.0684\n",
      "Epoch 28/100\n",
      "100/100 [==============================] - 0s 2ms/step - loss: 0.0103 - mae: 0.0295 - val_loss: 0.0208 - val_mae: 0.0466\n",
      "Epoch 29/100\n",
      "100/100 [==============================] - 0s 2ms/step - loss: 0.0119 - mae: 0.0307 - val_loss: 0.0186 - val_mae: 0.0420\n",
      "Epoch 30/100\n",
      "100/100 [==============================] - 0s 2ms/step - loss: 0.0119 - mae: 0.0283 - val_loss: 0.0195 - val_mae: 0.0437\n",
      "Epoch 31/100\n",
      "100/100 [==============================] - 0s 2ms/step - loss: 0.0104 - mae: 0.0263 - val_loss: 0.0204 - val_mae: 0.0482\n",
      "Epoch 32/100\n",
      "100/100 [==============================] - 0s 2ms/step - loss: 0.0113 - mae: 0.0298 - val_loss: 0.0184 - val_mae: 0.0406\n",
      "Epoch 33/100\n",
      "100/100 [==============================] - 0s 2ms/step - loss: 0.0111 - mae: 0.0283 - val_loss: 0.0228 - val_mae: 0.0474\n",
      "Epoch 34/100\n",
      "100/100 [==============================] - 0s 2ms/step - loss: 0.0117 - mae: 0.0275 - val_loss: 0.0214 - val_mae: 0.0472\n",
      "Epoch 35/100\n",
      "100/100 [==============================] - 0s 2ms/step - loss: 0.0098 - mae: 0.0257 - val_loss: 0.0194 - val_mae: 0.0404\n",
      "Epoch 36/100\n",
      "100/100 [==============================] - 0s 2ms/step - loss: 0.0110 - mae: 0.0275 - val_loss: 0.0176 - val_mae: 0.0389\n",
      "Epoch 37/100\n",
      "100/100 [==============================] - 0s 2ms/step - loss: 0.0094 - mae: 0.0240 - val_loss: 0.0200 - val_mae: 0.0398\n",
      "Epoch 38/100\n",
      "100/100 [==============================] - 0s 2ms/step - loss: 0.0101 - mae: 0.0243 - val_loss: 0.0223 - val_mae: 0.0487\n",
      "Epoch 39/100\n",
      "100/100 [==============================] - 0s 2ms/step - loss: 0.0098 - mae: 0.0270 - val_loss: 0.0227 - val_mae: 0.0472\n",
      "Epoch 40/100\n",
      "100/100 [==============================] - 0s 2ms/step - loss: 0.0061 - mae: 0.0211 - val_loss: 0.0204 - val_mae: 0.0448\n",
      "Epoch 41/100\n",
      "100/100 [==============================] - 0s 2ms/step - loss: 0.0080 - mae: 0.0227 - val_loss: 0.0149 - val_mae: 0.0365\n",
      "Epoch 42/100\n",
      "100/100 [==============================] - 0s 2ms/step - loss: 0.0073 - mae: 0.0219 - val_loss: 0.0191 - val_mae: 0.0415\n",
      "Epoch 43/100\n",
      "100/100 [==============================] - 0s 2ms/step - loss: 0.0095 - mae: 0.0244 - val_loss: 0.0146 - val_mae: 0.0352\n",
      "Epoch 44/100\n",
      "100/100 [==============================] - 0s 3ms/step - loss: 0.0053 - mae: 0.0181 - val_loss: 0.0138 - val_mae: 0.0343\n",
      "Epoch 45/100\n",
      "100/100 [==============================] - 0s 3ms/step - loss: 0.0061 - mae: 0.0166 - val_loss: 0.0189 - val_mae: 0.0410\n",
      "Epoch 46/100\n",
      "100/100 [==============================] - 0s 3ms/step - loss: 0.0078 - mae: 0.0220 - val_loss: 0.0177 - val_mae: 0.0389\n",
      "Epoch 47/100\n",
      "100/100 [==============================] - 0s 3ms/step - loss: 0.0037 - mae: 0.0141 - val_loss: 0.0146 - val_mae: 0.0334\n",
      "Epoch 48/100\n",
      "100/100 [==============================] - 0s 3ms/step - loss: 0.0050 - mae: 0.0170 - val_loss: 0.0261 - val_mae: 0.0540\n",
      "Epoch 49/100\n",
      "100/100 [==============================] - 0s 3ms/step - loss: 0.0088 - mae: 0.0216 - val_loss: 0.0175 - val_mae: 0.0372\n",
      "Epoch 50/100\n",
      "100/100 [==============================] - 0s 3ms/step - loss: 0.0051 - mae: 0.0157 - val_loss: 0.0183 - val_mae: 0.0400\n",
      "Epoch 51/100\n",
      "100/100 [==============================] - 0s 3ms/step - loss: 0.0052 - mae: 0.0154 - val_loss: 0.0208 - val_mae: 0.0414\n",
      "Epoch 52/100\n",
      "100/100 [==============================] - 0s 3ms/step - loss: 0.0044 - mae: 0.0178 - val_loss: 0.0171 - val_mae: 0.0352\n",
      "Epoch 53/100\n",
      "100/100 [==============================] - 0s 3ms/step - loss: 0.0016 - mae: 0.0127 - val_loss: 0.0185 - val_mae: 0.0344\n",
      "Epoch 54/100\n",
      "100/100 [==============================] - 0s 3ms/step - loss: 0.0060 - mae: 0.0168 - val_loss: 0.0133 - val_mae: 0.0292\n",
      "Epoch 55/100\n",
      "100/100 [==============================] - 0s 3ms/step - loss: 0.0069 - mae: 0.0177 - val_loss: 0.0153 - val_mae: 0.0318\n",
      "Epoch 56/100\n",
      "100/100 [==============================] - 0s 2ms/step - loss: 0.0048 - mae: 0.0159 - val_loss: 0.0276 - val_mae: 0.0485\n",
      "Epoch 57/100\n",
      "100/100 [==============================] - 0s 3ms/step - loss: 0.0052 - mae: 0.0154 - val_loss: 0.0162 - val_mae: 0.0335\n",
      "Epoch 58/100\n",
      "100/100 [==============================] - 0s 3ms/step - loss: 0.0044 - mae: 0.0136 - val_loss: 0.0138 - val_mae: 0.0289\n",
      "Epoch 59/100\n",
      "100/100 [==============================] - 0s 3ms/step - loss: 0.0047 - mae: 0.0155 - val_loss: 0.0144 - val_mae: 0.0298\n",
      "Epoch 60/100\n",
      "100/100 [==============================] - 0s 3ms/step - loss: 0.0052 - mae: 0.0137 - val_loss: 0.0137 - val_mae: 0.0293\n",
      "Epoch 61/100\n",
      "100/100 [==============================] - 0s 3ms/step - loss: 0.0038 - mae: 0.0143 - val_loss: 0.0153 - val_mae: 0.0331\n",
      "Epoch 62/100\n",
      "100/100 [==============================] - 0s 3ms/step - loss: 0.0057 - mae: 0.0149 - val_loss: 0.0118 - val_mae: 0.0262\n",
      "Epoch 63/100\n",
      "100/100 [==============================] - 0s 3ms/step - loss: 0.0043 - mae: 0.0140 - val_loss: 0.0153 - val_mae: 0.0297\n",
      "Epoch 64/100\n",
      "100/100 [==============================] - 0s 3ms/step - loss: 0.0026 - mae: 0.0119 - val_loss: 0.0155 - val_mae: 0.0295\n",
      "Epoch 65/100\n",
      "100/100 [==============================] - 0s 3ms/step - loss: 0.0048 - mae: 0.0144 - val_loss: 0.0137 - val_mae: 0.0275\n",
      "Epoch 66/100\n",
      "100/100 [==============================] - 0s 3ms/step - loss: 0.0042 - mae: 0.0125 - val_loss: 0.0167 - val_mae: 0.0309\n",
      "Epoch 67/100\n",
      "100/100 [==============================] - 0s 3ms/step - loss: 0.0012 - mae: 0.0092 - val_loss: 0.0228 - val_mae: 0.0462\n",
      "Epoch 68/100\n",
      "100/100 [==============================] - 0s 3ms/step - loss: 0.0048 - mae: 0.0138 - val_loss: 0.0130 - val_mae: 0.0291\n",
      "Epoch 69/100\n",
      "100/100 [==============================] - 0s 3ms/step - loss: 0.0020 - mae: 0.0100 - val_loss: 0.0154 - val_mae: 0.0338\n",
      "Epoch 70/100\n",
      "100/100 [==============================] - 0s 3ms/step - loss: 0.0013 - mae: 0.0081 - val_loss: 0.0155 - val_mae: 0.0331\n",
      "Epoch 71/100\n",
      "100/100 [==============================] - 0s 2ms/step - loss: 0.0011 - mae: 0.0091 - val_loss: 0.0135 - val_mae: 0.0276\n",
      "Epoch 72/100\n",
      "100/100 [==============================] - 0s 3ms/step - loss: 0.0056 - mae: 0.0120 - val_loss: 0.0151 - val_mae: 0.0297\n",
      "Epoch 73/100\n",
      "100/100 [==============================] - 0s 2ms/step - loss: 0.0012 - mae: 0.0081 - val_loss: 0.0298 - val_mae: 0.0543\n",
      "Epoch 74/100\n",
      "100/100 [==============================] - 0s 2ms/step - loss: 0.0029 - mae: 0.0092 - val_loss: 0.0146 - val_mae: 0.0279\n",
      "Epoch 75/100\n",
      "100/100 [==============================] - 0s 3ms/step - loss: 0.0017 - mae: 0.0079 - val_loss: 0.0253 - val_mae: 0.0449\n",
      "Epoch 76/100\n",
      "100/100 [==============================] - 0s 2ms/step - loss: 0.0015 - mae: 0.0095 - val_loss: 0.0121 - val_mae: 0.0238\n",
      "Epoch 77/100\n",
      "100/100 [==============================] - 0s 3ms/step - loss: 0.0036 - mae: 0.0107 - val_loss: 0.0152 - val_mae: 0.0269\n",
      "Epoch 78/100\n",
      "100/100 [==============================] - 0s 2ms/step - loss: 0.0014 - mae: 0.0079 - val_loss: 0.0126 - val_mae: 0.0251\n",
      "Epoch 79/100\n",
      "100/100 [==============================] - 0s 2ms/step - loss: 0.0017 - mae: 0.0072 - val_loss: 0.0182 - val_mae: 0.0336\n",
      "Epoch 80/100\n",
      "100/100 [==============================] - 0s 2ms/step - loss: 0.0016 - mae: 0.0079 - val_loss: 0.0207 - val_mae: 0.0386\n",
      "Epoch 81/100\n",
      "100/100 [==============================] - 0s 3ms/step - loss: 0.0016 - mae: 0.0075 - val_loss: 0.0158 - val_mae: 0.0292\n",
      "Epoch 82/100\n",
      "100/100 [==============================] - 0s 2ms/step - loss: 0.0015 - mae: 0.0084 - val_loss: 0.0118 - val_mae: 0.0234\n",
      "Epoch 83/100\n",
      "100/100 [==============================] - 0s 3ms/step - loss: 0.0017 - mae: 0.0071 - val_loss: 0.0152 - val_mae: 0.0265\n",
      "Epoch 84/100\n",
      "100/100 [==============================] - 0s 3ms/step - loss: 0.0015 - mae: 0.0069 - val_loss: 0.0118 - val_mae: 0.0234\n",
      "Epoch 85/100\n",
      "100/100 [==============================] - 0s 3ms/step - loss: 0.0011 - mae: 0.0055 - val_loss: 0.0146 - val_mae: 0.0258\n",
      "Epoch 86/100\n",
      "100/100 [==============================] - 0s 3ms/step - loss: 0.0017 - mae: 0.0072 - val_loss: 0.0135 - val_mae: 0.0244\n",
      "Epoch 87/100\n",
      "100/100 [==============================] - 0s 2ms/step - loss: 0.0011 - mae: 0.0061 - val_loss: 0.0127 - val_mae: 0.0234\n",
      "Epoch 88/100\n",
      "100/100 [==============================] - 0s 2ms/step - loss: 5.9980e-04 - mae: 0.0050 - val_loss: 0.0169 - val_mae: 0.0273\n",
      "Epoch 89/100\n",
      "100/100 [==============================] - 0s 3ms/step - loss: 0.0011 - mae: 0.0070 - val_loss: 0.0182 - val_mae: 0.0348\n",
      "Epoch 90/100\n",
      "100/100 [==============================] - 0s 3ms/step - loss: 8.3253e-04 - mae: 0.0057 - val_loss: 0.0136 - val_mae: 0.0239\n",
      "Epoch 91/100\n",
      "100/100 [==============================] - 0s 3ms/step - loss: 0.0024 - mae: 0.0069 - val_loss: 0.0239 - val_mae: 0.0393\n",
      "Epoch 92/100\n",
      "100/100 [==============================] - 0s 3ms/step - loss: 0.0011 - mae: 0.0065 - val_loss: 0.0155 - val_mae: 0.0265\n",
      "Epoch 93/100\n",
      "100/100 [==============================] - 0s 2ms/step - loss: 0.0032 - mae: 0.0082 - val_loss: 0.0158 - val_mae: 0.0251\n",
      "Epoch 94/100\n",
      "100/100 [==============================] - 0s 3ms/step - loss: 0.0011 - mae: 0.0063 - val_loss: 0.0125 - val_mae: 0.0224\n",
      "Epoch 95/100\n",
      "100/100 [==============================] - 0s 2ms/step - loss: 7.0824e-04 - mae: 0.0045 - val_loss: 0.0144 - val_mae: 0.0246\n",
      "Epoch 96/100\n",
      "100/100 [==============================] - 0s 3ms/step - loss: 7.4635e-04 - mae: 0.0049 - val_loss: 0.0155 - val_mae: 0.0243\n",
      "Epoch 97/100\n",
      "100/100 [==============================] - 0s 2ms/step - loss: 0.0017 - mae: 0.0073 - val_loss: 0.0155 - val_mae: 0.0244\n",
      "Epoch 98/100\n",
      "100/100 [==============================] - 0s 3ms/step - loss: 6.7736e-04 - mae: 0.0042 - val_loss: 0.0150 - val_mae: 0.0260\n",
      "Epoch 99/100\n",
      "100/100 [==============================] - 0s 2ms/step - loss: 0.0016 - mae: 0.0057 - val_loss: 0.0139 - val_mae: 0.0233\n",
      "Epoch 100/100\n",
      "100/100 [==============================] - 0s 3ms/step - loss: 5.8733e-04 - mae: 0.0046 - val_loss: 0.0162 - val_mae: 0.0243\n"
     ]
    }
   ],
   "source": [
    "model1 = tf.keras.Sequential([\n",
    "    tf.keras.layers.Dense(32, activation='relu'),\n",
    "    tf.keras.layers.Dense(16, activation='relu'),\n",
    "    tf.keras.layers.Dense(len(GESTURES), activation='softmax')\n",
    "])\n",
    "\n",
    "model1.compile(optimizer='rmsprop', loss='mse', metrics=['mae'])\n",
    "\n",
    "history1 = model1.fit(i_train, o_train,\n",
    "                       epochs=EPOCHS, batch_size=1,\n",
    "                   validation_data=(i_validate, o_validate))"
   ]
  },
  {
   "cell_type": "markdown",
   "id": "5ad3a60d",
   "metadata": {},
   "source": [
    "## Review model 1 performance"
   ]
  },
  {
   "cell_type": "code",
   "execution_count": 9,
   "id": "46fabeee",
   "metadata": {
    "scrolled": false
   },
   "outputs": [
    {
     "data": {
      "image/png": "[encoded data removed]",
      "text/plain": [
       "<Figure size 300x300 with 1 Axes>"
      ]
     },
     "metadata": {},
     "output_type": "display_data"
    },
    {
     "name": "stdout",
     "output_type": "stream",
     "text": [
      "[3.0, 3.0]\n"
     ]
    }
   ],
   "source": [
    "# increase the size of the graphs. The default size is (6,4).\n",
    "plt.rcParams[\"figure.figsize\"] = (3,3)\n",
    "\n",
    "# graph the loss, the model above is configure to use \"mean squared error\" as the loss function\n",
    "loss = history1.history['loss']\n",
    "val_loss = history1.history['val_loss']\n",
    "epochs = range(1, len(loss) + 1)\n",
    "plt.plot(epochs, loss, 'g.', label='Training loss')\n",
    "plt.plot(epochs, val_loss, 'b.', label='Validation loss')\n",
    "plt.title('Training and validation loss')\n",
    "plt.xlabel('Epochs')\n",
    "plt.ylabel('Loss')\n",
    "plt.legend()\n",
    "plt.show()\n",
    "\n",
    "print(plt.rcParams[\"figure.figsize\"])"
   ]
  },
  {
   "cell_type": "markdown",
   "id": "4929aa05",
   "metadata": {},
   "source": [
    "### Mean absolute error"
   ]
  },
  {
   "cell_type": "code",
   "execution_count": 10,
   "id": "7449ed0b",
   "metadata": {},
   "outputs": [
    {
     "data": {
      "image/png": "[encoded data removed]",
      "text/plain": [
       "<Figure size 300x300 with 1 Axes>"
      ]
     },
     "metadata": {},
     "output_type": "display_data"
    }
   ],
   "source": [
    "# graph of mean absolute error\n",
    "plt.rcParams[\"figure.figsize\"] = (3,3)\n",
    "mae = history1.history['mae']\n",
    "val_mae = history1.history['val_mae']\n",
    "plt.plot(epochs, mae, 'g.', label='Training mae')\n",
    "plt.plot(epochs, val_mae, 'b.', label='Validation mae')\n",
    "plt.title('Training and validation mae')\n",
    "plt.xlabel('Epochs')\n",
    "plt.ylabel('mae')\n",
    "plt.legend()\n",
    "plt.show()"
   ]
  },
  {
   "cell_type": "markdown",
   "id": "e71d1877",
   "metadata": {},
   "source": [
    "## Verify model 1 with test data"
   ]
  },
  {
   "cell_type": "code",
   "execution_count": 11,
   "id": "ab75e209",
   "metadata": {},
   "outputs": [
    {
     "name": "stdout",
     "output_type": "stream",
     "text": [
      "2/2 [==============================] - 0s 3ms/step\n"
     ]
    },
    {
     "data": {
      "image/png": "[encoded data removed]",
      "text/plain": [
       "<Figure size 300x300 with 1 Axes>"
      ]
     },
     "metadata": {},
     "output_type": "display_data"
    }
   ],
   "source": [
    "# use the model to predict the test inputs\n",
    "predictions1 = model1.predict(i_test)\n",
    "\n",
    "# print the predictions and the expected ouputs\n",
    "# print(\"predictions =\\n\", np.round(predictions, decimals=3))\n",
    "# print(\"actual =\\n\", o_test)\n",
    "\n",
    "# Plot the predictions along with to the test data\n",
    "# plt.clf()\n",
    "# plt.title('Training data predicted vs actual values')\n",
    "# plt.plot(np.arange(0, len(i_test)), o_test, 'b.', label='Actual')\n",
    "# plt.plot(np.arange(0, len(i_test)), predictions, 'r.', label='Predicted')\n",
    "# plt.show()\n",
    "\n",
    "plot_cm(o_test, predictions1)"
   ]
  },
  {
   "cell_type": "markdown",
   "id": "81a59408",
   "metadata": {},
   "source": [
    "## Build and train model 2"
   ]
  },
  {
   "cell_type": "code",
   "execution_count": 12,
   "id": "2f82223b",
   "metadata": {},
   "outputs": [
    {
     "name": "stdout",
     "output_type": "stream",
     "text": [
      "Epoch 1/100\n",
      "100/100 [==============================] - 1s 4ms/step - loss: 1.6426 - accuracy: 0.2300 - val_loss: 1.5797 - val_accuracy: 0.1800\n",
      "Epoch 2/100\n",
      "100/100 [==============================] - 0s 2ms/step - loss: 1.5489 - accuracy: 0.3400 - val_loss: 1.5496 - val_accuracy: 0.4200\n",
      "Epoch 3/100\n",
      "100/100 [==============================] - 0s 3ms/step - loss: 1.4564 - accuracy: 0.5900 - val_loss: 1.4107 - val_accuracy: 0.6400\n",
      "Epoch 4/100\n",
      "100/100 [==============================] - 0s 2ms/step - loss: 1.3042 - accuracy: 0.6100 - val_loss: 1.2415 - val_accuracy: 0.6600\n",
      "Epoch 5/100\n",
      "100/100 [==============================] - 0s 3ms/step - loss: 1.1094 - accuracy: 0.7600 - val_loss: 1.0871 - val_accuracy: 0.7000\n",
      "Epoch 6/100\n",
      "100/100 [==============================] - 0s 2ms/step - loss: 0.9569 - accuracy: 0.7300 - val_loss: 0.8721 - val_accuracy: 0.7200\n",
      "Epoch 7/100\n",
      "100/100 [==============================] - 0s 3ms/step - loss: 0.7396 - accuracy: 0.8000 - val_loss: 0.7800 - val_accuracy: 0.7200\n",
      "Epoch 8/100\n",
      "100/100 [==============================] - 0s 3ms/step - loss: 0.5965 - accuracy: 0.8200 - val_loss: 0.6025 - val_accuracy: 0.7800\n",
      "Epoch 9/100\n",
      "100/100 [==============================] - 0s 3ms/step - loss: 0.4816 - accuracy: 0.8900 - val_loss: 0.5471 - val_accuracy: 0.7800\n",
      "Epoch 10/100\n",
      "100/100 [==============================] - 0s 3ms/step - loss: 0.3895 - accuracy: 0.9200 - val_loss: 0.4586 - val_accuracy: 0.9000\n",
      "Epoch 11/100\n",
      "100/100 [==============================] - 0s 3ms/step - loss: 0.3382 - accuracy: 0.9500 - val_loss: 0.3875 - val_accuracy: 0.9000\n",
      "Epoch 12/100\n",
      "100/100 [==============================] - 0s 3ms/step - loss: 0.2925 - accuracy: 0.9500 - val_loss: 0.3516 - val_accuracy: 0.8600\n",
      "Epoch 13/100\n",
      "100/100 [==============================] - 0s 3ms/step - loss: 0.2593 - accuracy: 0.9500 - val_loss: 0.3093 - val_accuracy: 0.8800\n",
      "Epoch 14/100\n",
      "100/100 [==============================] - 0s 3ms/step - loss: 0.2155 - accuracy: 0.9700 - val_loss: 0.2692 - val_accuracy: 0.9000\n",
      "Epoch 15/100\n",
      "100/100 [==============================] - 0s 2ms/step - loss: 0.1841 - accuracy: 0.9700 - val_loss: 0.2847 - val_accuracy: 0.9200\n",
      "Epoch 16/100\n",
      "100/100 [==============================] - 0s 2ms/step - loss: 0.1812 - accuracy: 0.9600 - val_loss: 0.2407 - val_accuracy: 0.9200\n",
      "Epoch 17/100\n",
      "100/100 [==============================] - 0s 3ms/step - loss: 0.1592 - accuracy: 0.9700 - val_loss: 0.2175 - val_accuracy: 0.9000\n",
      "Epoch 18/100\n",
      "100/100 [==============================] - 0s 3ms/step - loss: 0.1561 - accuracy: 0.9600 - val_loss: 0.2062 - val_accuracy: 0.9200\n",
      "Epoch 19/100\n",
      "100/100 [==============================] - 0s 2ms/step - loss: 0.1525 - accuracy: 0.9600 - val_loss: 0.2028 - val_accuracy: 0.9200\n",
      "Epoch 20/100\n",
      "100/100 [==============================] - 0s 3ms/step - loss: 0.1241 - accuracy: 0.9600 - val_loss: 0.1901 - val_accuracy: 0.9400\n",
      "Epoch 21/100\n",
      "100/100 [==============================] - 0s 2ms/step - loss: 0.1150 - accuracy: 0.9800 - val_loss: 0.1892 - val_accuracy: 0.9200\n",
      "Epoch 22/100\n",
      "100/100 [==============================] - 0s 3ms/step - loss: 0.0994 - accuracy: 0.9700 - val_loss: 0.3012 - val_accuracy: 0.8800\n",
      "Epoch 23/100\n",
      "100/100 [==============================] - 0s 3ms/step - loss: 0.1192 - accuracy: 0.9700 - val_loss: 0.1613 - val_accuracy: 0.9600\n",
      "Epoch 24/100\n",
      "100/100 [==============================] - 0s 3ms/step - loss: 0.0865 - accuracy: 0.9700 - val_loss: 0.1668 - val_accuracy: 0.9200\n",
      "Epoch 25/100\n",
      "100/100 [==============================] - 0s 3ms/step - loss: 0.0968 - accuracy: 0.9700 - val_loss: 0.1551 - val_accuracy: 0.9400\n",
      "Epoch 26/100\n",
      "100/100 [==============================] - 0s 2ms/step - loss: 0.0966 - accuracy: 0.9700 - val_loss: 0.2913 - val_accuracy: 0.9000\n",
      "Epoch 27/100\n",
      "100/100 [==============================] - 0s 2ms/step - loss: 0.0865 - accuracy: 0.9800 - val_loss: 0.2129 - val_accuracy: 0.9200\n",
      "Epoch 28/100\n",
      "100/100 [==============================] - 0s 2ms/step - loss: 0.0723 - accuracy: 0.9800 - val_loss: 0.1285 - val_accuracy: 0.9400\n",
      "Epoch 29/100\n",
      "100/100 [==============================] - 0s 2ms/step - loss: 0.0740 - accuracy: 0.9900 - val_loss: 0.1419 - val_accuracy: 0.9200\n",
      "Epoch 30/100\n",
      "100/100 [==============================] - 0s 2ms/step - loss: 0.0812 - accuracy: 0.9700 - val_loss: 0.1322 - val_accuracy: 0.9600\n",
      "Epoch 31/100\n",
      "100/100 [==============================] - 0s 3ms/step - loss: 0.0687 - accuracy: 0.9800 - val_loss: 0.1520 - val_accuracy: 0.9600\n",
      "Epoch 32/100\n",
      "100/100 [==============================] - 0s 3ms/step - loss: 0.0609 - accuracy: 0.9900 - val_loss: 0.1429 - val_accuracy: 0.9000\n",
      "Epoch 33/100\n",
      "100/100 [==============================] - 0s 3ms/step - loss: 0.0726 - accuracy: 0.9800 - val_loss: 0.1273 - val_accuracy: 0.9600\n",
      "Epoch 34/100\n",
      "100/100 [==============================] - 0s 2ms/step - loss: 0.0558 - accuracy: 0.9800 - val_loss: 0.1357 - val_accuracy: 0.9600\n",
      "Epoch 35/100\n",
      "100/100 [==============================] - 0s 3ms/step - loss: 0.0669 - accuracy: 0.9700 - val_loss: 0.1552 - val_accuracy: 0.8800\n",
      "Epoch 36/100\n",
      "100/100 [==============================] - 0s 2ms/step - loss: 0.0540 - accuracy: 0.9900 - val_loss: 0.1231 - val_accuracy: 0.9400\n",
      "Epoch 37/100\n",
      "100/100 [==============================] - 0s 2ms/step - loss: 0.0368 - accuracy: 1.0000 - val_loss: 0.1444 - val_accuracy: 0.9200\n",
      "Epoch 38/100\n",
      "100/100 [==============================] - 0s 2ms/step - loss: 0.0519 - accuracy: 0.9800 - val_loss: 0.1396 - val_accuracy: 0.9600\n",
      "Epoch 39/100\n",
      "100/100 [==============================] - 0s 3ms/step - loss: 0.0425 - accuracy: 0.9900 - val_loss: 0.1329 - val_accuracy: 0.9600\n",
      "Epoch 40/100\n",
      "100/100 [==============================] - 0s 3ms/step - loss: 0.0393 - accuracy: 0.9900 - val_loss: 0.1333 - val_accuracy: 0.9400\n",
      "Epoch 41/100\n",
      "100/100 [==============================] - 0s 3ms/step - loss: 0.0385 - accuracy: 0.9900 - val_loss: 0.1296 - val_accuracy: 0.9400\n",
      "Epoch 42/100\n",
      "100/100 [==============================] - 0s 3ms/step - loss: 0.0347 - accuracy: 1.0000 - val_loss: 0.1295 - val_accuracy: 0.9400\n",
      "Epoch 43/100\n",
      "100/100 [==============================] - 0s 2ms/step - loss: 0.0337 - accuracy: 1.0000 - val_loss: 0.1516 - val_accuracy: 0.9400\n",
      "Epoch 44/100\n",
      "100/100 [==============================] - 0s 2ms/step - loss: 0.0302 - accuracy: 1.0000 - val_loss: 0.1571 - val_accuracy: 0.9600\n",
      "Epoch 45/100\n",
      "100/100 [==============================] - 0s 3ms/step - loss: 0.0367 - accuracy: 0.9800 - val_loss: 0.6243 - val_accuracy: 0.7400\n",
      "Epoch 46/100\n",
      "100/100 [==============================] - 0s 3ms/step - loss: 0.0718 - accuracy: 0.9700 - val_loss: 0.1429 - val_accuracy: 0.9200\n",
      "Epoch 47/100\n",
      "100/100 [==============================] - 0s 2ms/step - loss: 0.0254 - accuracy: 1.0000 - val_loss: 0.1096 - val_accuracy: 0.9600\n",
      "Epoch 48/100\n",
      "100/100 [==============================] - 0s 2ms/step - loss: 0.0196 - accuracy: 1.0000 - val_loss: 0.1152 - val_accuracy: 0.9400\n",
      "Epoch 49/100\n",
      "100/100 [==============================] - 0s 2ms/step - loss: 0.0302 - accuracy: 0.9900 - val_loss: 0.1151 - val_accuracy: 0.9400\n",
      "Epoch 50/100\n",
      "100/100 [==============================] - 0s 2ms/step - loss: 0.0283 - accuracy: 1.0000 - val_loss: 0.1293 - val_accuracy: 0.9400\n",
      "Epoch 51/100\n",
      "100/100 [==============================] - 0s 3ms/step - loss: 0.1298 - accuracy: 0.9500 - val_loss: 0.6783 - val_accuracy: 0.8000\n",
      "Epoch 52/100\n",
      "100/100 [==============================] - 0s 3ms/step - loss: 0.0398 - accuracy: 0.9900 - val_loss: 0.1248 - val_accuracy: 0.9400\n",
      "Epoch 53/100\n",
      "100/100 [==============================] - 0s 3ms/step - loss: 0.0260 - accuracy: 1.0000 - val_loss: 0.1891 - val_accuracy: 0.9400\n",
      "Epoch 54/100\n",
      "100/100 [==============================] - 0s 3ms/step - loss: 0.0326 - accuracy: 0.9900 - val_loss: 0.1154 - val_accuracy: 0.9400\n",
      "Epoch 55/100\n",
      "100/100 [==============================] - 0s 3ms/step - loss: 0.0147 - accuracy: 1.0000 - val_loss: 0.1377 - val_accuracy: 0.9400\n",
      "Epoch 56/100\n",
      "100/100 [==============================] - 0s 3ms/step - loss: 0.0186 - accuracy: 1.0000 - val_loss: 0.1183 - val_accuracy: 0.9600\n",
      "Epoch 57/100\n",
      "100/100 [==============================] - 0s 2ms/step - loss: 0.0155 - accuracy: 1.0000 - val_loss: 0.1441 - val_accuracy: 0.9600\n"
     ]
    },
    {
     "name": "stdout",
     "output_type": "stream",
     "text": [
      "Epoch 58/100\n",
      "100/100 [==============================] - 0s 2ms/step - loss: 0.0137 - accuracy: 1.0000 - val_loss: 0.1435 - val_accuracy: 0.9600\n",
      "Epoch 59/100\n",
      "100/100 [==============================] - 0s 2ms/step - loss: 0.0141 - accuracy: 1.0000 - val_loss: 0.1318 - val_accuracy: 0.9600\n",
      "Epoch 60/100\n",
      "100/100 [==============================] - 0s 2ms/step - loss: 0.0105 - accuracy: 1.0000 - val_loss: 0.1104 - val_accuracy: 0.9600\n",
      "Epoch 61/100\n",
      "100/100 [==============================] - 0s 2ms/step - loss: 0.0142 - accuracy: 1.0000 - val_loss: 0.1340 - val_accuracy: 0.9800\n",
      "Epoch 62/100\n",
      "100/100 [==============================] - 0s 2ms/step - loss: 0.0110 - accuracy: 1.0000 - val_loss: 0.1285 - val_accuracy: 0.9400\n",
      "Epoch 63/100\n",
      "100/100 [==============================] - 0s 3ms/step - loss: 0.0093 - accuracy: 1.0000 - val_loss: 0.1413 - val_accuracy: 0.9400\n",
      "Epoch 64/100\n",
      "100/100 [==============================] - 0s 3ms/step - loss: 0.0091 - accuracy: 1.0000 - val_loss: 0.2015 - val_accuracy: 0.9200\n",
      "Epoch 65/100\n",
      "100/100 [==============================] - 0s 3ms/step - loss: 0.0091 - accuracy: 1.0000 - val_loss: 0.1645 - val_accuracy: 0.9600\n",
      "Epoch 66/100\n",
      "100/100 [==============================] - 0s 2ms/step - loss: 0.0209 - accuracy: 0.9900 - val_loss: 0.1378 - val_accuracy: 0.9200\n",
      "Epoch 67/100\n",
      "100/100 [==============================] - 0s 3ms/step - loss: 0.0133 - accuracy: 1.0000 - val_loss: 0.1788 - val_accuracy: 0.9000\n",
      "Epoch 68/100\n",
      "100/100 [==============================] - 0s 3ms/step - loss: 0.0372 - accuracy: 0.9900 - val_loss: 0.1285 - val_accuracy: 0.9600\n",
      "Epoch 69/100\n",
      "100/100 [==============================] - 0s 3ms/step - loss: 0.0199 - accuracy: 0.9900 - val_loss: 0.1536 - val_accuracy: 0.9600\n",
      "Epoch 70/100\n",
      "100/100 [==============================] - 0s 3ms/step - loss: 0.0076 - accuracy: 1.0000 - val_loss: 0.2244 - val_accuracy: 0.8800\n",
      "Epoch 71/100\n",
      "100/100 [==============================] - 0s 2ms/step - loss: 0.0499 - accuracy: 0.9800 - val_loss: 0.1732 - val_accuracy: 0.9400\n",
      "Epoch 72/100\n",
      "100/100 [==============================] - 0s 3ms/step - loss: 0.0088 - accuracy: 1.0000 - val_loss: 0.1474 - val_accuracy: 0.9600\n",
      "Epoch 73/100\n",
      "100/100 [==============================] - 0s 3ms/step - loss: 0.0097 - accuracy: 1.0000 - val_loss: 0.1486 - val_accuracy: 0.9400\n",
      "Epoch 74/100\n",
      "100/100 [==============================] - 0s 2ms/step - loss: 0.0272 - accuracy: 1.0000 - val_loss: 0.1789 - val_accuracy: 0.9200\n",
      "Epoch 75/100\n",
      "100/100 [==============================] - 0s 3ms/step - loss: 0.0042 - accuracy: 1.0000 - val_loss: 0.1450 - val_accuracy: 0.9600\n",
      "Epoch 76/100\n",
      "100/100 [==============================] - 0s 2ms/step - loss: 0.0057 - accuracy: 1.0000 - val_loss: 0.1302 - val_accuracy: 0.9600\n",
      "Epoch 77/100\n",
      "100/100 [==============================] - 0s 2ms/step - loss: 0.0061 - accuracy: 1.0000 - val_loss: 0.1261 - val_accuracy: 0.9600\n",
      "Epoch 78/100\n",
      "100/100 [==============================] - 0s 2ms/step - loss: 0.0045 - accuracy: 1.0000 - val_loss: 0.1377 - val_accuracy: 0.9400\n",
      "Epoch 79/100\n",
      "100/100 [==============================] - 0s 3ms/step - loss: 0.0048 - accuracy: 1.0000 - val_loss: 0.1367 - val_accuracy: 0.9400\n",
      "Epoch 80/100\n",
      "100/100 [==============================] - 0s 3ms/step - loss: 0.0041 - accuracy: 1.0000 - val_loss: 0.1216 - val_accuracy: 0.9400\n",
      "Epoch 81/100\n",
      "100/100 [==============================] - 0s 3ms/step - loss: 0.0035 - accuracy: 1.0000 - val_loss: 0.1439 - val_accuracy: 0.9600\n",
      "Epoch 82/100\n",
      "100/100 [==============================] - 0s 2ms/step - loss: 0.0031 - accuracy: 1.0000 - val_loss: 0.1270 - val_accuracy: 0.9400\n",
      "Epoch 83/100\n",
      "100/100 [==============================] - 0s 2ms/step - loss: 0.0077 - accuracy: 1.0000 - val_loss: 0.1925 - val_accuracy: 0.9400\n",
      "Epoch 84/100\n",
      "100/100 [==============================] - 0s 2ms/step - loss: 0.0235 - accuracy: 1.0000 - val_loss: 0.1746 - val_accuracy: 0.9200\n",
      "Epoch 85/100\n",
      "100/100 [==============================] - 0s 3ms/step - loss: 0.0061 - accuracy: 1.0000 - val_loss: 0.1412 - val_accuracy: 0.9400\n",
      "Epoch 86/100\n",
      "100/100 [==============================] - 0s 3ms/step - loss: 0.0031 - accuracy: 1.0000 - val_loss: 0.1569 - val_accuracy: 0.9600\n",
      "Epoch 87/100\n",
      "100/100 [==============================] - 0s 3ms/step - loss: 0.0035 - accuracy: 1.0000 - val_loss: 0.1392 - val_accuracy: 0.9400\n",
      "Epoch 88/100\n",
      "100/100 [==============================] - 0s 2ms/step - loss: 0.0033 - accuracy: 1.0000 - val_loss: 0.1307 - val_accuracy: 0.9400\n",
      "Epoch 89/100\n",
      "100/100 [==============================] - 0s 2ms/step - loss: 0.0034 - accuracy: 1.0000 - val_loss: 0.1447 - val_accuracy: 0.9400\n",
      "Epoch 90/100\n",
      "100/100 [==============================] - 0s 2ms/step - loss: 0.0023 - accuracy: 1.0000 - val_loss: 0.1545 - val_accuracy: 0.9600\n",
      "Epoch 91/100\n",
      "100/100 [==============================] - 0s 2ms/step - loss: 0.0034 - accuracy: 1.0000 - val_loss: 0.1459 - val_accuracy: 0.9400\n",
      "Epoch 92/100\n",
      "100/100 [==============================] - 0s 3ms/step - loss: 0.0027 - accuracy: 1.0000 - val_loss: 0.1328 - val_accuracy: 0.9800\n",
      "Epoch 93/100\n",
      "100/100 [==============================] - 0s 3ms/step - loss: 0.0032 - accuracy: 1.0000 - val_loss: 0.1514 - val_accuracy: 0.9400\n",
      "Epoch 94/100\n",
      "100/100 [==============================] - 0s 3ms/step - loss: 0.0093 - accuracy: 1.0000 - val_loss: 0.2542 - val_accuracy: 0.9200\n",
      "Epoch 95/100\n",
      "100/100 [==============================] - 0s 3ms/step - loss: 0.0034 - accuracy: 1.0000 - val_loss: 0.1414 - val_accuracy: 0.9600\n",
      "Epoch 96/100\n",
      "100/100 [==============================] - 0s 2ms/step - loss: 0.0020 - accuracy: 1.0000 - val_loss: 0.1397 - val_accuracy: 0.9600\n",
      "Epoch 97/100\n",
      "100/100 [==============================] - 0s 2ms/step - loss: 0.0021 - accuracy: 1.0000 - val_loss: 0.1490 - val_accuracy: 0.9600\n",
      "Epoch 98/100\n",
      "100/100 [==============================] - 0s 3ms/step - loss: 0.0018 - accuracy: 1.0000 - val_loss: 0.1232 - val_accuracy: 0.9400\n",
      "Epoch 99/100\n",
      "100/100 [==============================] - 0s 2ms/step - loss: 0.0028 - accuracy: 1.0000 - val_loss: 0.1628 - val_accuracy: 0.9600\n",
      "Epoch 100/100\n",
      "100/100 [==============================] - 0s 3ms/step - loss: 0.0026 - accuracy: 1.0000 - val_loss: 0.1551 - val_accuracy: 0.9400\n"
     ]
    }
   ],
   "source": [
    "model2 = tf.keras.Sequential([\n",
    "    tf.keras.layers.Dense(32, activation='relu'),\n",
    "    tf.keras.layers.Dense(16, activation='relu'),\n",
    "    tf.keras.layers.Dense(len(GESTURES), activation='softmax')\n",
    "])\n",
    "\n",
    "loss_fn = tf.keras.losses.CategoricalCrossentropy()\n",
    "\n",
    "model2.compile(optimizer='adam', loss=loss_fn, metrics=['accuracy'])\n",
    "\n",
    "history2 = model2.fit(i_train, o_train,\n",
    "                       epochs=EPOCHS, batch_size=1,\n",
    "                   validation_data=(i_validate, o_validate))"
   ]
  },
  {
   "cell_type": "markdown",
   "id": "97375b47",
   "metadata": {},
   "source": [
    "## Review model 2 performance"
   ]
  },
  {
   "cell_type": "code",
   "execution_count": 13,
   "id": "82f126dd",
   "metadata": {},
   "outputs": [
    {
     "data": {
      "image/png": "[encoded data removed]",
      "text/plain": [
       "<Figure size 300x300 with 1 Axes>"
      ]
     },
     "metadata": {},
     "output_type": "display_data"
    },
    {
     "name": "stdout",
     "output_type": "stream",
     "text": [
      "[3.0, 3.0]\n"
     ]
    }
   ],
   "source": [
    "# increase the size of the graphs. The default size is (6,4).\n",
    "plt.rcParams[\"figure.figsize\"] = (3,3)\n",
    "\n",
    "# graph the loss, the model above is configure to use \"mean squared error\" as the loss function\n",
    "loss = history2.history['loss']\n",
    "val_loss = history2.history['val_loss']\n",
    "epochs = range(1, len(loss) + 1)\n",
    "plt.plot(epochs, loss, 'g.', label='Training loss')\n",
    "plt.plot(epochs, val_loss, 'b.', label='Validation loss')\n",
    "plt.title('Training and validation loss')\n",
    "plt.xlabel('Epochs')\n",
    "plt.ylabel('Loss')\n",
    "plt.legend()\n",
    "plt.show()\n",
    "\n",
    "print(plt.rcParams[\"figure.figsize\"]) "
   ]
  },
  {
   "cell_type": "code",
   "execution_count": 14,
   "id": "a95fc7c4",
   "metadata": {},
   "outputs": [
    {
     "data": {
      "image/png": "[encoded data removed]",
      "text/plain": [
       "<Figure size 300x300 with 1 Axes>"
      ]
     },
     "metadata": {},
     "output_type": "display_data"
    },
    {
     "name": "stdout",
     "output_type": "stream",
     "text": [
      "[3.0, 3.0]\n"
     ]
    }
   ],
   "source": [
    "# increase the size of the graphs. The default size is (6,4).\n",
    "plt.rcParams[\"figure.figsize\"] = (3,3)\n",
    "\n",
    "# graph the loss, the model above is configure to use \"mean squared error\" as the loss function\n",
    "accuracy = history2.history['accuracy']\n",
    "val_accuracy = history2.history['val_accuracy']\n",
    "epochs = range(1, len(accuracy) + 1)\n",
    "plt.plot(epochs, accuracy, 'g.', label='Training accuracy')\n",
    "plt.plot(epochs, val_accuracy, 'b.', label='Validation accuracy')\n",
    "plt.title('Training and validation loss')\n",
    "plt.xlabel('Epochs')\n",
    "plt.ylabel('Loss')\n",
    "plt.legend()\n",
    "plt.show()\n",
    "\n",
    "print(plt.rcParams[\"figure.figsize\"]) "
   ]
  },
  {
   "cell_type": "code",
   "execution_count": null,
   "id": "c0594df5",
   "metadata": {},
   "outputs": [],
   "source": []
  },
  {
   "cell_type": "markdown",
   "id": "8a3e6107",
   "metadata": {},
   "source": [
    "## Verify model 2 with test data"
   ]
  },
  {
   "cell_type": "code",
   "execution_count": 15,
   "id": "0670869f",
   "metadata": {
    "scrolled": false
   },
   "outputs": [
    {
     "name": "stdout",
     "output_type": "stream",
     "text": [
      "2/2 [==============================] - 0s 2ms/step\n"
     ]
    },
    {
     "data": {
      "image/png": "[encoded data removed]",
      "text/plain": [
       "<Figure size 300x300 with 1 Axes>"
      ]
     },
     "metadata": {},
     "output_type": "display_data"
    }
   ],
   "source": [
    "# use the model to predict the test inputs\n",
    "predictions2 = model2.predict(i_test)\n",
    "\n",
    "# print the predictions and the expected ouputs\n",
    "# print(\"predictions =\\n\", np.round(predictions, decimals=3))\n",
    "# print(\"actual =\\n\", o_test)\n",
    "\n",
    "# Plot the predictions along with to the test data\n",
    "# plt.clf()\n",
    "# plt.title('Training data predicted vs actual values')\n",
    "# plt.plot(np.arange(0, len(i_test)), o_test, 'b.', label='Actual')\n",
    "# plt.plot(np.arange(0, len(i_test)), predictions, 'r.', label='Predicted')\n",
    "# plt.show()\n",
    "\n",
    "plot_cm(o_test, predictions2)"
   ]
  },
  {
   "cell_type": "markdown",
   "id": "d987007b",
   "metadata": {},
   "source": [
    "## Produce model file (.tflite)\n",
    "\n",
    "Output both non-quantized and quantized model files\n"
   ]
  },
  {
   "cell_type": "code",
   "execution_count": 16,
   "id": "09a418ce",
   "metadata": {},
   "outputs": [
    {
     "name": "stdout",
     "output_type": "stream",
     "text": [
      "INFO:tensorflow:Assets written to: C:\\Users\\cheew\\AppData\\Local\\Temp\\tmp5c4s6osj\\assets\n",
      "INFO:tensorflow:Assets written to: C:\\Users\\cheew\\AppData\\Local\\Temp\\tmplra0u5hc\\assets\n"
     ]
    },
    {
     "name": "stderr",
     "output_type": "stream",
     "text": [
      "INFO:tensorflow:Assets written to: C:\\Users\\cheew\\AppData\\Local\\Temp\\tmplra0u5hc\\assets\n"
     ]
    },
    {
     "name": "stdout",
     "output_type": "stream",
     "text": [
      "Basic model is 27712 bytes\n",
      "Quantized model is 9400 bytes\n"
     ]
    },
    {
     "name": "stderr",
     "output_type": "stream",
     "text": [
      "C:\\Users\\cheew\\anaconda3\\envs\\tf\\lib\\site-packages\\tensorflow\\lite\\python\\convert.py:766: UserWarning: Statistics for quantized inputs were expected, but not specified; continuing anyway.\n",
      "  warnings.warn(\"Statistics for quantized inputs were expected, but not \"\n"
     ]
    }
   ],
   "source": [
    "model=model1\n",
    "\n",
    "TFLITE_FILE = 'tflite/gesture_model.tflite'\n",
    "TFLITE_FILE_Q = 'tflite/gesture_model_q.tflite'\n",
    "\n",
    "converter = tf.lite.TFLiteConverter.from_keras_model(model)\n",
    "tflite_model = converter.convert()\n",
    "\n",
    "open(TFLITE_FILE, \"wb\").write(tflite_model)\n",
    "\n",
    "\n",
    "converter_q = tf.lite.TFLiteConverter.from_keras_model(model)\n",
    "converter_q.optimizations = [tf.lite.Optimize.DEFAULT]\n",
    "\n",
    "def representative_dataset_generator():\n",
    " # each scalar value inside a 2D array that is wrapped in a list\n",
    " for value in inputs:\n",
    "     yield [np.array(value, dtype=np.float32, ndmin=2)]\n",
    "\n",
    "converter_q.representative_dataset = representative_dataset_generator\n",
    "tflite_model_q = converter_q.convert()\n",
    "\n",
    "open(TFLITE_FILE_Q, \"wb\").write(tflite_model_q)\n",
    "\n",
    "\n",
    "# Review size difference\n",
    "basic_model_size = os.path.getsize(TFLITE_FILE)\n",
    "print(\"Basic model is %d bytes\" % basic_model_size)\n",
    "\n",
    "basic_model_size_q = os.path.getsize(TFLITE_FILE_Q)\n",
    "print(\"Quantized model is %d bytes\" % basic_model_size_q)"
   ]
  },
  {
   "cell_type": "markdown",
   "id": "957480e4",
   "metadata": {},
   "source": [
    "## Verify the interpreter (.tflite)"
   ]
  },
  {
   "cell_type": "code",
   "execution_count": 17,
   "id": "60cda1ee",
   "metadata": {
    "scrolled": false
   },
   "outputs": [
    {
     "data": {
      "image/png": "[encoded data removed]",
      "text/plain": [
       "<Figure size 300x300 with 1 Axes>"
      ]
     },
     "metadata": {},
     "output_type": "display_data"
    }
   ],
   "source": [
    "_model = tf.lite.Interpreter(TFLITE_FILE)\n",
    "\n",
    "_model.allocate_tensors()\n",
    "\n",
    "_model_input_index = _model.get_input_details()[0]['index']\n",
    "_model_output_index = _model.get_output_details()[0]['index']\n",
    "\n",
    "_model_predictions = []\n",
    "\n",
    "for i in i_test:\n",
    "    # write the value to the input tensor\n",
    "    i_tensor = tf.convert_to_tensor([i], dtype=tf.float32)\n",
    "    _model.set_tensor(_model_input_index, i_tensor)\n",
    "    # run inference\n",
    "    _model.invoke()\n",
    "    # read the prediction from the output tensor\n",
    "    _model_predictions.append(_model.get_tensor(_model_output_index)[0])\n",
    "\n",
    "# # print the predictions and the expected ouputs\n",
    "# print(\"model predictions =\\n\", np.round(_model_predictions, decimals=3))\n",
    "# print(\"actual =\\n\", o_test)\n",
    "plot_cm(o_test, _model_predictions)"
   ]
  },
  {
   "cell_type": "markdown",
   "id": "7752fccc",
   "metadata": {},
   "source": [
    "## Verify the quantized interpreter (.tflite)"
   ]
  },
  {
   "cell_type": "code",
   "execution_count": 18,
   "id": "da067e2b",
   "metadata": {
    "scrolled": false
   },
   "outputs": [
    {
     "data": {
      "image/png": "[encoded data removed]",
      "text/plain": [
       "<Figure size 300x300 with 1 Axes>"
      ]
     },
     "metadata": {},
     "output_type": "display_data"
    }
   ],
   "source": [
    "_model_q = tf.lite.Interpreter(TFLITE_FILE_Q)\n",
    "\n",
    "_model_q.allocate_tensors()\n",
    "\n",
    "_model_q_input_index = _model_q.get_input_details()[0]['index']\n",
    "_model_q_output_index = _model_q.get_output_details()[0]['index']\n",
    "\n",
    "_model_q_predictions = []\n",
    "\n",
    "for i in i_test:\n",
    "    # write the value to the input tensor\n",
    "    i_tensor = tf.convert_to_tensor([i], dtype=tf.float32)\n",
    "    _model_q.set_tensor(_model_q_input_index, i_tensor)\n",
    "    # run inference\n",
    "    _model_q.invoke()\n",
    "    # read the prediction from the output tensor\n",
    "    _model_q_predictions.append(_model_q.get_tensor(_model_q_output_index)[0])\n",
    "\n",
    "# print the predictions and the expected ouputs\n",
    "# print(\"quantized model predictions =\\n\", np.round(_model_q_predictions, decimals=3))\n",
    "# print(\"actual =\\n\", o_test)\n",
    "plot_cm(o_test, _model_q_predictions)"
   ]
  },
  {
   "cell_type": "markdown",
   "id": "0f8e95d9",
   "metadata": {},
   "source": [
    "## Produce the model header file"
   ]
  },
  {
   "cell_type": "code",
   "execution_count": 19,
   "id": "9833a857",
   "metadata": {},
   "outputs": [],
   "source": [
    "# to run below command, ensure jupyter notebook is launched under bash terminal (eg. git bash, linux terminal)\n",
    "\n",
    "HEADER_FILE = '../ble_client/gesture_model.h'\n",
    "HEADER_FILE_Q = '../ble_client/gesture_model_q.h'\n",
    "# based model header file\n",
    "str1 = \"const unsigned char {} [] = {{\".format('gesture_model')\n",
    "str2 = \"};\"\n",
    "\n",
    "!echo {str1}  > {HEADER_FILE}\n",
    "!cat {TFLITE_FILE} | xxd -i >> {HEADER_FILE}\n",
    "!echo {str2} >> {HEADER_FILE}\n",
    "\n",
    "# quantized model header file\n",
    "str3 = \"const unsigned char {} [] = {{\".format('gesture_model_q')\n",
    "\n",
    "!echo {str3}  > {HEADER_FILE_Q}\n",
    "!cat {TFLITE_FILE_Q} | xxd -i >> {HEADER_FILE_Q}\n",
    "!echo {str2} >> {HEADER_FILE_Q}"
   ]
  },
  {
   "cell_type": "code",
   "execution_count": null,
   "id": "99db6683",
   "metadata": {},
   "outputs": [],
   "source": []
  },
  {
   "cell_type": "code",
   "execution_count": null,
   "id": "2acdb001",
   "metadata": {},
   "outputs": [],
   "source": []
  },
  {
   "cell_type": "code",
   "execution_count": null,
   "id": "e01164f0",
   "metadata": {},
   "outputs": [],
   "source": []
  },
  {
   "cell_type": "code",
   "execution_count": null,
   "id": "3868ef14",
   "metadata": {},
   "outputs": [],
   "source": []
  },
  {
   "cell_type": "code",
   "execution_count": null,
   "id": "ccbfe3df",
   "metadata": {},
   "outputs": [],
   "source": []
  },
  {
   "cell_type": "code",
   "execution_count": null,
   "id": "0a22137d",
   "metadata": {},
   "outputs": [],
   "source": []
  }
 ],
 "metadata": {
  "kernelspec": {
   "display_name": "Python 3 (ipykernel)",
   "language": "python",
   "name": "python3"
  },
  "language_info": {
   "codemirror_mode": {
    "name": "ipython",
    "version": 3
   },
   "file_extension": ".py",
   "mimetype": "text/x-python",
   "name": "python",
   "nbconvert_exporter": "python",
   "pygments_lexer": "ipython3",
   "version": "3.9.15"
  }
 },
 "nbformat": 4,
 "nbformat_minor": 5
}
