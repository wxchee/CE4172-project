{
 "cells": [
  {
   "cell_type": "code",
   "execution_count": 1,
   "id": "643e3ddd",
   "metadata": {},
   "outputs": [],
   "source": [
    "import numpy as np\n",
    "import tensorflow as tf\n",
    "import matplotlib.pyplot as plt\n",
    "import math\n",
    "import pandas as pd\n",
    "\n",
    "from sklearn.metrics import confusion_matrix\n",
    "import seaborn as sb"
   ]
  },
  {
   "cell_type": "code",
   "execution_count": 2,
   "id": "6a7eb85b",
   "metadata": {},
   "outputs": [],
   "source": [
    "# define constant\n",
    "\n",
    "FOLDER = 'datas/s40d30t1.6/'\n",
    "GESTURES = [\"topl\", \"twistl\", \"side\", \"downl\", \"twistr\", \"topr\", \"downr\",\"unknown\"]\n",
    "\n",
    "DATA_POINT_PER_GESTURE = 30\n",
    "\n",
    "\n",
    "SEED = 1337\n",
    "np.random.seed(SEED)\n",
    "tf.random.set_seed(SEED)"
   ]
  },
  {
   "cell_type": "code",
   "execution_count": 3,
   "id": "c88a49b1",
   "metadata": {},
   "outputs": [],
   "source": [
    "def plot_cm(actual, predict, size=(3,3)):\n",
    "    conf_mat = confusion_matrix(np.argmax(actual, axis=1), np.argmax(predict, axis=1))\n",
    "\n",
    "    plt.subplots(figsize=size)\n",
    "    sb.heatmap(conf_mat, annot=True, cmap='Blues', fmt='g', cbar=False)\n",
    "    plt.xlabel(\"Actual labels\")\n",
    "    plt.ylabel(\"Predicted labels\")"
   ]
  },
  {
   "cell_type": "markdown",
   "id": "79e868e5",
   "metadata": {},
   "source": [
    "## Process data"
   ]
  },
  {
   "cell_type": "code",
   "execution_count": 4,
   "id": "7d09d1f8",
   "metadata": {},
   "outputs": [
    {
     "name": "stdout",
     "output_type": "stream",
     "text": [
      "Processing 0 for gesture 'topl'.\n",
      "Processing 1 for gesture 'twistl'.\n",
      "Processing 2 for gesture 'side'.\n",
      "Processing 3 for gesture 'downl'.\n",
      "Processing 4 for gesture 'twistr'.\n",
      "Processing 5 for gesture 'topr'.\n",
      "Processing 6 for gesture 'downr'.\n",
      "Processing 7 for gesture 'unknown'.\n"
     ]
    }
   ],
   "source": [
    "inputs = []\n",
    "outputs = []\n",
    "\n",
    "ONE_HOTS = np.eye(len(GESTURES))\n",
    "\n",
    "for i in range(len(GESTURES)):\n",
    "    g = GESTURES[i]\n",
    "    print(f\"Processing {i} for gesture '{g}'.\")\n",
    "    \n",
    "    output = ONE_HOTS[i]\n",
    "    \n",
    "    df = pd.read_csv(FOLDER + g + '.csv')\n",
    "    num_recordings = int(df.shape[0] / DATA_POINT_PER_GESTURE)\n",
    "    \n",
    "    for j in range(num_recordings):\n",
    "        tensor = []\n",
    "        \n",
    "        for k in range(DATA_POINT_PER_GESTURE):\n",
    "            kk = j * DATA_POINT_PER_GESTURE + k\n",
    "            \n",
    "            tensor += [\n",
    "                df['aX'][kk],\n",
    "                df['aY'][kk],\n",
    "                df['aZ'][kk],\n",
    "                df['gX'][kk],\n",
    "                df['gY'][kk],\n",
    "                df['gZ'][kk],\n",
    "#                 df['mX'][kk],\n",
    "#                 df['mY'][kk],\n",
    "#                 df['mZ'][kk],\n",
    "            ]\n",
    "            \n",
    "        inputs.append(tensor)\n",
    "        outputs.append(output)"
   ]
  },
  {
   "cell_type": "code",
   "execution_count": 5,
   "id": "62e20204",
   "metadata": {},
   "outputs": [],
   "source": [
    "# display(pd.DataFrame(inputs))"
   ]
  },
  {
   "cell_type": "markdown",
   "id": "5253bdb7",
   "metadata": {},
   "source": [
    "## Create train/validate/test datas"
   ]
  },
  {
   "cell_type": "code",
   "execution_count": 6,
   "id": "7376b058",
   "metadata": {},
   "outputs": [],
   "source": [
    "rdm_index = np.arange(len(inputs))\n",
    "np.random.shuffle(rdm_index)\n",
    "\n",
    "inputs = np.array(inputs)[rdm_index]\n",
    "outputs = np.array(outputs)[rdm_index]\n",
    "\n",
    "TRAIN_SPLIT = int(0.5 * len(inputs))\n",
    "TEST_SPLIT = int(TRAIN_SPLIT + 0.25 * len(inputs))\n",
    "\n",
    "i_train, i_validate, i_test = np.split(inputs, [TRAIN_SPLIT, TEST_SPLIT])\n",
    "o_train, o_validate, o_test = np.split(outputs, [TRAIN_SPLIT, TEST_SPLIT])\n",
    "\n",
    "# do this if data type invalid\n",
    "i_train = tf.convert_to_tensor(i_train, dtype=tf.float32)\n",
    "o_train = tf.convert_to_tensor(o_train, dtype=tf.float32)\n",
    "\n",
    "i_validate = tf.convert_to_tensor(i_validate, dtype=tf.float32)\n",
    "o_validate = tf.convert_to_tensor(o_validate, dtype=tf.float32)\n",
    "\n",
    "i_test = tf.convert_to_tensor(i_test, dtype=tf.float32)"
   ]
  },
  {
   "cell_type": "markdown",
   "id": "cb22253c",
   "metadata": {},
   "source": [
    "## Build and train model 1"
   ]
  },
  {
   "cell_type": "code",
   "execution_count": 7,
   "id": "7fb1c4f1",
   "metadata": {},
   "outputs": [],
   "source": [
    "import os\n",
    "os.environ['KMP_DUPLICATE_LIB_OK']=\"TRUE\"\n",
    "\n",
    "EPOCHS=100"
   ]
  },
  {
   "cell_type": "code",
   "execution_count": 8,
   "id": "9c2403b0",
   "metadata": {
    "scrolled": true
   },
   "outputs": [
    {
     "name": "stdout",
     "output_type": "stream",
     "text": [
      "Epoch 1/100\n",
      "160/160 [==============================] - 1s 5ms/step - loss: 0.1049 - mae: 0.2105 - val_loss: 0.1021 - val_mae: 0.2097\n",
      "Epoch 2/100\n",
      "160/160 [==============================] - 1s 4ms/step - loss: 0.0938 - mae: 0.1965 - val_loss: 0.0902 - val_mae: 0.1920\n",
      "Epoch 3/100\n",
      "160/160 [==============================] - 1s 4ms/step - loss: 0.0793 - mae: 0.1754 - val_loss: 0.0808 - val_mae: 0.1742\n",
      "Epoch 4/100\n",
      "160/160 [==============================] - 1s 4ms/step - loss: 0.0655 - mae: 0.1508 - val_loss: 0.0653 - val_mae: 0.1540\n",
      "Epoch 5/100\n",
      "160/160 [==============================] - 1s 3ms/step - loss: 0.0557 - mae: 0.1338 - val_loss: 0.0549 - val_mae: 0.1317\n",
      "Epoch 6/100\n",
      "160/160 [==============================] - 1s 4ms/step - loss: 0.0464 - mae: 0.1154 - val_loss: 0.0498 - val_mae: 0.1224\n",
      "Epoch 7/100\n",
      "160/160 [==============================] - 1s 4ms/step - loss: 0.0410 - mae: 0.0993 - val_loss: 0.0432 - val_mae: 0.1141\n",
      "Epoch 8/100\n",
      "160/160 [==============================] - 1s 3ms/step - loss: 0.0380 - mae: 0.0942 - val_loss: 0.0482 - val_mae: 0.1139\n",
      "Epoch 9/100\n",
      "160/160 [==============================] - 1s 4ms/step - loss: 0.0346 - mae: 0.0855 - val_loss: 0.0319 - val_mae: 0.0853\n",
      "Epoch 10/100\n",
      "160/160 [==============================] - 1s 4ms/step - loss: 0.0305 - mae: 0.0763 - val_loss: 0.0306 - val_mae: 0.0800\n",
      "Epoch 11/100\n",
      "160/160 [==============================] - 1s 4ms/step - loss: 0.0304 - mae: 0.0730 - val_loss: 0.0258 - val_mae: 0.0797\n",
      "Epoch 12/100\n",
      "160/160 [==============================] - 1s 4ms/step - loss: 0.0269 - mae: 0.0675 - val_loss: 0.0290 - val_mae: 0.0782\n",
      "Epoch 13/100\n",
      "160/160 [==============================] - 1s 4ms/step - loss: 0.0268 - mae: 0.0658 - val_loss: 0.0215 - val_mae: 0.0645\n",
      "Epoch 14/100\n",
      "160/160 [==============================] - 1s 3ms/step - loss: 0.0246 - mae: 0.0606 - val_loss: 0.0232 - val_mae: 0.0682\n",
      "Epoch 15/100\n",
      "160/160 [==============================] - 1s 3ms/step - loss: 0.0235 - mae: 0.0586 - val_loss: 0.0202 - val_mae: 0.0572\n",
      "Epoch 16/100\n",
      "160/160 [==============================] - 1s 3ms/step - loss: 0.0217 - mae: 0.0537 - val_loss: 0.0216 - val_mae: 0.0586\n",
      "Epoch 17/100\n",
      "160/160 [==============================] - 1s 3ms/step - loss: 0.0213 - mae: 0.0509 - val_loss: 0.0172 - val_mae: 0.0550\n",
      "Epoch 18/100\n",
      "160/160 [==============================] - 1s 3ms/step - loss: 0.0181 - mae: 0.0493 - val_loss: 0.0150 - val_mae: 0.0487\n",
      "Epoch 19/100\n",
      "160/160 [==============================] - 1s 3ms/step - loss: 0.0169 - mae: 0.0428 - val_loss: 0.0300 - val_mae: 0.0665\n",
      "Epoch 20/100\n",
      "160/160 [==============================] - 1s 3ms/step - loss: 0.0176 - mae: 0.0418 - val_loss: 0.0123 - val_mae: 0.0397\n",
      "Epoch 21/100\n",
      "160/160 [==============================] - 1s 3ms/step - loss: 0.0154 - mae: 0.0408 - val_loss: 0.0127 - val_mae: 0.0406\n",
      "Epoch 22/100\n",
      "160/160 [==============================] - 0s 3ms/step - loss: 0.0161 - mae: 0.0402 - val_loss: 0.0141 - val_mae: 0.0379\n",
      "Epoch 23/100\n",
      "160/160 [==============================] - 1s 4ms/step - loss: 0.0139 - mae: 0.0378 - val_loss: 0.0127 - val_mae: 0.0363\n",
      "Epoch 24/100\n",
      "160/160 [==============================] - 0s 3ms/step - loss: 0.0150 - mae: 0.0358 - val_loss: 0.0112 - val_mae: 0.0338\n",
      "Epoch 25/100\n",
      "160/160 [==============================] - 1s 4ms/step - loss: 0.0134 - mae: 0.0332 - val_loss: 0.0157 - val_mae: 0.0374\n",
      "Epoch 26/100\n",
      "160/160 [==============================] - 1s 3ms/step - loss: 0.0136 - mae: 0.0320 - val_loss: 0.0178 - val_mae: 0.0451\n",
      "Epoch 27/100\n",
      "160/160 [==============================] - 1s 3ms/step - loss: 0.0132 - mae: 0.0315 - val_loss: 0.0361 - val_mae: 0.0656\n",
      "Epoch 28/100\n",
      "160/160 [==============================] - 1s 3ms/step - loss: 0.0137 - mae: 0.0316 - val_loss: 0.0160 - val_mae: 0.0370\n",
      "Epoch 29/100\n",
      "160/160 [==============================] - 0s 3ms/step - loss: 0.0126 - mae: 0.0305 - val_loss: 0.0127 - val_mae: 0.0288\n",
      "Epoch 30/100\n",
      "160/160 [==============================] - 1s 5ms/step - loss: 0.0125 - mae: 0.0290 - val_loss: 0.0129 - val_mae: 0.0402\n",
      "Epoch 31/100\n",
      "160/160 [==============================] - 1s 4ms/step - loss: 0.0139 - mae: 0.0312 - val_loss: 0.0106 - val_mae: 0.0348\n",
      "Epoch 32/100\n",
      "160/160 [==============================] - 1s 4ms/step - loss: 0.0081 - mae: 0.0243 - val_loss: 0.0057 - val_mae: 0.0201\n",
      "Epoch 33/100\n",
      "160/160 [==============================] - 1s 3ms/step - loss: 0.0120 - mae: 0.0274 - val_loss: 0.0113 - val_mae: 0.0343\n",
      "Epoch 34/100\n",
      "160/160 [==============================] - 1s 3ms/step - loss: 0.0109 - mae: 0.0248 - val_loss: 0.0081 - val_mae: 0.0299\n",
      "Epoch 35/100\n",
      "160/160 [==============================] - 1s 3ms/step - loss: 0.0105 - mae: 0.0255 - val_loss: 0.0087 - val_mae: 0.0232\n",
      "Epoch 36/100\n",
      "160/160 [==============================] - 1s 3ms/step - loss: 0.0108 - mae: 0.0242 - val_loss: 0.0104 - val_mae: 0.0273\n",
      "Epoch 37/100\n",
      "160/160 [==============================] - 1s 4ms/step - loss: 0.0127 - mae: 0.0268 - val_loss: 0.0093 - val_mae: 0.0218\n",
      "Epoch 38/100\n",
      "160/160 [==============================] - 1s 4ms/step - loss: 0.0081 - mae: 0.0215 - val_loss: 0.0069 - val_mae: 0.0186\n",
      "Epoch 39/100\n",
      "160/160 [==============================] - 1s 4ms/step - loss: 0.0085 - mae: 0.0206 - val_loss: 0.0054 - val_mae: 0.0170\n",
      "Epoch 40/100\n",
      "160/160 [==============================] - 1s 4ms/step - loss: 0.0108 - mae: 0.0233 - val_loss: 0.0117 - val_mae: 0.0316\n",
      "Epoch 41/100\n",
      "160/160 [==============================] - 1s 3ms/step - loss: 0.0074 - mae: 0.0184 - val_loss: 0.0129 - val_mae: 0.0273\n",
      "Epoch 42/100\n",
      "160/160 [==============================] - 1s 3ms/step - loss: 0.0105 - mae: 0.0198 - val_loss: 0.0068 - val_mae: 0.0168\n",
      "Epoch 43/100\n",
      "160/160 [==============================] - 0s 3ms/step - loss: 0.0098 - mae: 0.0193 - val_loss: 0.0221 - val_mae: 0.0436\n",
      "Epoch 44/100\n",
      "160/160 [==============================] - 1s 4ms/step - loss: 0.0099 - mae: 0.0198 - val_loss: 0.0118 - val_mae: 0.0331\n",
      "Epoch 45/100\n",
      "160/160 [==============================] - 1s 3ms/step - loss: 0.0093 - mae: 0.0200 - val_loss: 0.0053 - val_mae: 0.0181\n",
      "Epoch 46/100\n",
      "160/160 [==============================] - 1s 4ms/step - loss: 0.0078 - mae: 0.0182 - val_loss: 0.0144 - val_mae: 0.0333\n",
      "Epoch 47/100\n",
      "160/160 [==============================] - 1s 3ms/step - loss: 0.0086 - mae: 0.0182 - val_loss: 0.0073 - val_mae: 0.0163\n",
      "Epoch 48/100\n",
      "160/160 [==============================] - 1s 4ms/step - loss: 0.0093 - mae: 0.0177 - val_loss: 0.0064 - val_mae: 0.0189\n",
      "Epoch 49/100\n",
      "160/160 [==============================] - 1s 3ms/step - loss: 0.0081 - mae: 0.0165 - val_loss: 0.0043 - val_mae: 0.0133\n",
      "Epoch 50/100\n",
      "160/160 [==============================] - 1s 4ms/step - loss: 0.0092 - mae: 0.0181 - val_loss: 0.0082 - val_mae: 0.0197\n",
      "Epoch 51/100\n",
      "160/160 [==============================] - 1s 3ms/step - loss: 0.0067 - mae: 0.0163 - val_loss: 0.0046 - val_mae: 0.0155\n",
      "Epoch 52/100\n",
      "160/160 [==============================] - 1s 3ms/step - loss: 0.0064 - mae: 0.0165 - val_loss: 0.0039 - val_mae: 0.0160\n",
      "Epoch 53/100\n",
      "160/160 [==============================] - 1s 4ms/step - loss: 0.0074 - mae: 0.0165 - val_loss: 0.0023 - val_mae: 0.0117\n",
      "Epoch 54/100\n",
      "160/160 [==============================] - 1s 3ms/step - loss: 0.0053 - mae: 0.0117 - val_loss: 0.0090 - val_mae: 0.0175\n",
      "Epoch 55/100\n",
      "160/160 [==============================] - 1s 4ms/step - loss: 0.0104 - mae: 0.0201 - val_loss: 0.0031 - val_mae: 0.0152\n",
      "Epoch 56/100\n",
      "160/160 [==============================] - 1s 3ms/step - loss: 0.0077 - mae: 0.0151 - val_loss: 0.0041 - val_mae: 0.0134\n",
      "Epoch 57/100\n",
      "160/160 [==============================] - 1s 3ms/step - loss: 0.0081 - mae: 0.0168 - val_loss: 0.0099 - val_mae: 0.0182\n",
      "Epoch 58/100\n",
      "160/160 [==============================] - 1s 4ms/step - loss: 0.0091 - mae: 0.0160 - val_loss: 0.0036 - val_mae: 0.0130\n",
      "Epoch 59/100\n",
      "160/160 [==============================] - 1s 4ms/step - loss: 0.0067 - mae: 0.0172 - val_loss: 0.0116 - val_mae: 0.0208\n",
      "Epoch 60/100\n",
      "160/160 [==============================] - 1s 4ms/step - loss: 0.0085 - mae: 0.0152 - val_loss: 0.0067 - val_mae: 0.0133\n",
      "Epoch 61/100\n",
      "160/160 [==============================] - 1s 3ms/step - loss: 0.0067 - mae: 0.0141 - val_loss: 0.0056 - val_mae: 0.0128\n",
      "Epoch 62/100\n"
     ]
    },
    {
     "name": "stdout",
     "output_type": "stream",
     "text": [
      "160/160 [==============================] - 0s 3ms/step - loss: 0.0092 - mae: 0.0162 - val_loss: 0.0050 - val_mae: 0.0122\n",
      "Epoch 63/100\n",
      "160/160 [==============================] - 1s 3ms/step - loss: 0.0069 - mae: 0.0132 - val_loss: 0.0073 - val_mae: 0.0152\n",
      "Epoch 64/100\n",
      "160/160 [==============================] - 1s 3ms/step - loss: 0.0096 - mae: 0.0169 - val_loss: 0.0080 - val_mae: 0.0178\n",
      "Epoch 65/100\n",
      "160/160 [==============================] - 0s 3ms/step - loss: 0.0059 - mae: 0.0124 - val_loss: 0.0084 - val_mae: 0.0161\n",
      "Epoch 66/100\n",
      "160/160 [==============================] - 1s 3ms/step - loss: 0.0069 - mae: 0.0143 - val_loss: 0.0028 - val_mae: 0.0102\n",
      "Epoch 67/100\n",
      "160/160 [==============================] - 0s 3ms/step - loss: 0.0064 - mae: 0.0143 - val_loss: 0.0108 - val_mae: 0.0287\n",
      "Epoch 68/100\n",
      "160/160 [==============================] - 1s 4ms/step - loss: 0.0094 - mae: 0.0160 - val_loss: 0.0244 - val_mae: 0.0467\n",
      "Epoch 69/100\n",
      "160/160 [==============================] - 1s 4ms/step - loss: 0.0088 - mae: 0.0168 - val_loss: 0.0160 - val_mae: 0.0289\n",
      "Epoch 70/100\n",
      "160/160 [==============================] - 1s 5ms/step - loss: 0.0071 - mae: 0.0147 - val_loss: 0.0068 - val_mae: 0.0140\n",
      "Epoch 71/100\n",
      "160/160 [==============================] - 1s 3ms/step - loss: 0.0068 - mae: 0.0138 - val_loss: 0.0020 - val_mae: 0.0111\n",
      "Epoch 72/100\n",
      "160/160 [==============================] - 1s 3ms/step - loss: 0.0071 - mae: 0.0142 - val_loss: 0.0022 - val_mae: 0.0111\n",
      "Epoch 73/100\n",
      "160/160 [==============================] - 1s 4ms/step - loss: 0.0068 - mae: 0.0150 - val_loss: 0.0104 - val_mae: 0.0178\n",
      "Epoch 74/100\n",
      "160/160 [==============================] - 1s 4ms/step - loss: 0.0075 - mae: 0.0129 - val_loss: 0.0165 - val_mae: 0.0387\n",
      "Epoch 75/100\n",
      "160/160 [==============================] - 1s 3ms/step - loss: 0.0077 - mae: 0.0138 - val_loss: 0.0108 - val_mae: 0.0176\n",
      "Epoch 76/100\n",
      "160/160 [==============================] - 0s 3ms/step - loss: 0.0063 - mae: 0.0138 - val_loss: 0.0075 - val_mae: 0.0143\n",
      "Epoch 77/100\n",
      "160/160 [==============================] - 1s 3ms/step - loss: 0.0063 - mae: 0.0122 - val_loss: 0.0070 - val_mae: 0.0131\n",
      "Epoch 78/100\n",
      "160/160 [==============================] - 1s 3ms/step - loss: 0.0073 - mae: 0.0140 - val_loss: 0.0074 - val_mae: 0.0147\n",
      "Epoch 79/100\n",
      "160/160 [==============================] - 1s 4ms/step - loss: 0.0044 - mae: 0.0094 - val_loss: 0.0161 - val_mae: 0.0277\n",
      "Epoch 80/100\n",
      "160/160 [==============================] - 1s 3ms/step - loss: 0.0072 - mae: 0.0133 - val_loss: 0.0083 - val_mae: 0.0159\n",
      "Epoch 81/100\n",
      "160/160 [==============================] - 1s 3ms/step - loss: 0.0065 - mae: 0.0122 - val_loss: 0.0042 - val_mae: 0.0099\n",
      "Epoch 82/100\n",
      "160/160 [==============================] - 1s 3ms/step - loss: 0.0069 - mae: 0.0109 - val_loss: 0.0125 - val_mae: 0.0279\n",
      "Epoch 83/100\n",
      "160/160 [==============================] - 1s 3ms/step - loss: 0.0081 - mae: 0.0133 - val_loss: 0.0014 - val_mae: 0.0061\n",
      "Epoch 84/100\n",
      "160/160 [==============================] - 1s 4ms/step - loss: 0.0059 - mae: 0.0105 - val_loss: 0.0101 - val_mae: 0.0157\n",
      "Epoch 85/100\n",
      "160/160 [==============================] - 1s 3ms/step - loss: 0.0093 - mae: 0.0136 - val_loss: 0.0023 - val_mae: 0.0076\n",
      "Epoch 86/100\n",
      "160/160 [==============================] - 1s 3ms/step - loss: 0.0049 - mae: 0.0103 - val_loss: 0.0059 - val_mae: 0.0171\n",
      "Epoch 87/100\n",
      "160/160 [==============================] - 1s 3ms/step - loss: 0.0056 - mae: 0.0109 - val_loss: 0.0028 - val_mae: 0.0083\n",
      "Epoch 88/100\n",
      "160/160 [==============================] - 1s 4ms/step - loss: 0.0056 - mae: 0.0109 - val_loss: 0.0128 - val_mae: 0.0188\n",
      "Epoch 89/100\n",
      "160/160 [==============================] - 1s 3ms/step - loss: 0.0040 - mae: 0.0091 - val_loss: 0.0077 - val_mae: 0.0170\n",
      "Epoch 90/100\n",
      "160/160 [==============================] - 0s 3ms/step - loss: 0.0064 - mae: 0.0121 - val_loss: 0.0052 - val_mae: 0.0101\n",
      "Epoch 91/100\n",
      "160/160 [==============================] - 1s 3ms/step - loss: 0.0055 - mae: 0.0100 - val_loss: 0.0076 - val_mae: 0.0217\n",
      "Epoch 92/100\n",
      "160/160 [==============================] - 1s 3ms/step - loss: 0.0071 - mae: 0.0119 - val_loss: 0.0081 - val_mae: 0.0186\n",
      "Epoch 93/100\n",
      "160/160 [==============================] - 1s 4ms/step - loss: 0.0068 - mae: 0.0123 - val_loss: 0.0014 - val_mae: 0.0067\n",
      "Epoch 94/100\n",
      "160/160 [==============================] - 0s 3ms/step - loss: 0.0054 - mae: 0.0106 - val_loss: 0.0040 - val_mae: 0.0085\n",
      "Epoch 95/100\n",
      "160/160 [==============================] - 1s 3ms/step - loss: 0.0059 - mae: 0.0117 - val_loss: 0.0127 - val_mae: 0.0214\n",
      "Epoch 96/100\n",
      "160/160 [==============================] - 1s 3ms/step - loss: 0.0049 - mae: 0.0094 - val_loss: 0.0031 - val_mae: 0.0077\n",
      "Epoch 97/100\n",
      "160/160 [==============================] - 1s 3ms/step - loss: 0.0049 - mae: 0.0107 - val_loss: 0.0073 - val_mae: 0.0184\n",
      "Epoch 98/100\n",
      "160/160 [==============================] - 0s 3ms/step - loss: 0.0054 - mae: 0.0098 - val_loss: 0.0017 - val_mae: 0.0063\n",
      "Epoch 99/100\n",
      "160/160 [==============================] - 1s 3ms/step - loss: 0.0035 - mae: 0.0075 - val_loss: 0.0011 - val_mae: 0.0052\n",
      "Epoch 100/100\n",
      "160/160 [==============================] - 1s 3ms/step - loss: 0.0051 - mae: 0.0101 - val_loss: 0.0133 - val_mae: 0.0289\n"
     ]
    }
   ],
   "source": [
    "model1 = tf.keras.Sequential([\n",
    "    tf.keras.layers.Dense(64, activation='relu'),\n",
    "    tf.keras.layers.Dense(32, activation='relu'),\n",
    "    tf.keras.layers.Dense(len(GESTURES), activation='softmax')\n",
    "])\n",
    "\n",
    "model1.compile(optimizer='rmsprop', loss='mse', metrics=['mae'])\n",
    "\n",
    "history1 = model1.fit(i_train, o_train,\n",
    "                       epochs=EPOCHS, batch_size=1,\n",
    "                   validation_data=(i_validate, o_validate))"
   ]
  },
  {
   "cell_type": "markdown",
   "id": "5ad3a60d",
   "metadata": {},
   "source": [
    "## Review model 1 performance"
   ]
  },
  {
   "cell_type": "code",
   "execution_count": 9,
   "id": "46fabeee",
   "metadata": {
    "scrolled": false
   },
   "outputs": [
    {
     "data": {
      "image/png": "[encoded data removed]",
      "text/plain": [
       "<Figure size 300x300 with 1 Axes>"
      ]
     },
     "metadata": {},
     "output_type": "display_data"
    },
    {
     "name": "stdout",
     "output_type": "stream",
     "text": [
      "[3.0, 3.0]\n"
     ]
    }
   ],
   "source": [
    "# increase the size of the graphs. The default size is (6,4).\n",
    "plt.rcParams[\"figure.figsize\"] = (3,3)\n",
    "\n",
    "# graph the loss, the model above is configure to use \"mean squared error\" as the loss function\n",
    "loss = history1.history['loss']\n",
    "val_loss = history1.history['val_loss']\n",
    "epochs = range(1, len(loss) + 1)\n",
    "plt.plot(epochs, loss, 'g.', label='Training loss')\n",
    "plt.plot(epochs, val_loss, 'b.', label='Validation loss')\n",
    "plt.title('Training and validation loss')\n",
    "plt.xlabel('Epochs')\n",
    "plt.ylabel('Loss')\n",
    "plt.legend()\n",
    "plt.show()\n",
    "\n",
    "print(plt.rcParams[\"figure.figsize\"])"
   ]
  },
  {
   "cell_type": "markdown",
   "id": "4929aa05",
   "metadata": {},
   "source": [
    "### Mean absolute error"
   ]
  },
  {
   "cell_type": "code",
   "execution_count": 10,
   "id": "7449ed0b",
   "metadata": {},
   "outputs": [
    {
     "data": {
      "image/png": "[encoded data removed]",
      "text/plain": [
       "<Figure size 300x300 with 1 Axes>"
      ]
     },
     "metadata": {},
     "output_type": "display_data"
    }
   ],
   "source": [
    "# graph of mean absolute error\n",
    "plt.rcParams[\"figure.figsize\"] = (3,3)\n",
    "mae = history1.history['mae']\n",
    "val_mae = history1.history['val_mae']\n",
    "plt.plot(epochs, mae, 'g.', label='Training mae')\n",
    "plt.plot(epochs, val_mae, 'b.', label='Validation mae')\n",
    "plt.title('Training and validation mae')\n",
    "plt.xlabel('Epochs')\n",
    "plt.ylabel('mae')\n",
    "plt.legend()\n",
    "plt.show()"
   ]
  },
  {
   "cell_type": "markdown",
   "id": "e71d1877",
   "metadata": {},
   "source": [
    "## Verify model 1 with test data"
   ]
  },
  {
   "cell_type": "code",
   "execution_count": 11,
   "id": "ab75e209",
   "metadata": {},
   "outputs": [
    {
     "name": "stdout",
     "output_type": "stream",
     "text": [
      "3/3 [==============================] - 0s 2ms/step\n"
     ]
    },
    {
     "data": {
      "image/png": "[encoded data removed]",
      "text/plain": [
       "<Figure size 300x300 with 1 Axes>"
      ]
     },
     "metadata": {},
     "output_type": "display_data"
    }
   ],
   "source": [
    "# use the model to predict the test inputs\n",
    "predictions1 = model1.predict(i_test)\n",
    "\n",
    "# print the predictions and the expected ouputs\n",
    "# print(\"predictions =\\n\", np.round(predictions, decimals=3))\n",
    "# print(\"actual =\\n\", o_test)\n",
    "\n",
    "# Plot the predictions along with to the test data\n",
    "# plt.clf()\n",
    "# plt.title('Training data predicted vs actual values')\n",
    "# plt.plot(np.arange(0, len(i_test)), o_test, 'b.', label='Actual')\n",
    "# plt.plot(np.arange(0, len(i_test)), predictions, 'r.', label='Predicted')\n",
    "# plt.show()\n",
    "\n",
    "plot_cm(o_test, predictions1)"
   ]
  },
  {
   "cell_type": "markdown",
   "id": "81a59408",
   "metadata": {},
   "source": [
    "## Build and train model 2"
   ]
  },
  {
   "cell_type": "code",
   "execution_count": 12,
   "id": "2f82223b",
   "metadata": {},
   "outputs": [
    {
     "name": "stdout",
     "output_type": "stream",
     "text": [
      "Epoch 1/100\n",
      "160/160 [==============================] - 1s 4ms/step - loss: 2.0591 - accuracy: 0.1187 - val_loss: 1.9399 - val_accuracy: 0.2250\n",
      "Epoch 2/100\n",
      "160/160 [==============================] - 1s 4ms/step - loss: 1.9104 - accuracy: 0.3313 - val_loss: 1.8181 - val_accuracy: 0.4125\n",
      "Epoch 3/100\n",
      "160/160 [==============================] - 1s 3ms/step - loss: 1.6770 - accuracy: 0.4563 - val_loss: 1.5690 - val_accuracy: 0.5125\n",
      "Epoch 4/100\n",
      "160/160 [==============================] - 1s 4ms/step - loss: 1.4312 - accuracy: 0.5562 - val_loss: 1.2679 - val_accuracy: 0.5750\n",
      "Epoch 5/100\n",
      "160/160 [==============================] - 1s 3ms/step - loss: 1.1648 - accuracy: 0.6313 - val_loss: 1.1098 - val_accuracy: 0.7125\n",
      "Epoch 6/100\n",
      "160/160 [==============================] - 0s 3ms/step - loss: 0.9911 - accuracy: 0.7188 - val_loss: 0.9931 - val_accuracy: 0.7250\n",
      "Epoch 7/100\n",
      "160/160 [==============================] - 1s 4ms/step - loss: 0.8431 - accuracy: 0.7437 - val_loss: 0.8300 - val_accuracy: 0.7500\n",
      "Epoch 8/100\n",
      "160/160 [==============================] - 1s 4ms/step - loss: 0.7366 - accuracy: 0.8250 - val_loss: 0.7189 - val_accuracy: 0.7375\n",
      "Epoch 9/100\n",
      "160/160 [==============================] - 1s 4ms/step - loss: 0.6580 - accuracy: 0.8250 - val_loss: 0.6306 - val_accuracy: 0.8375\n",
      "Epoch 10/100\n",
      "160/160 [==============================] - 1s 3ms/step - loss: 0.5808 - accuracy: 0.8438 - val_loss: 0.5964 - val_accuracy: 0.8000\n",
      "Epoch 11/100\n",
      "160/160 [==============================] - 1s 3ms/step - loss: 0.5476 - accuracy: 0.8562 - val_loss: 0.5746 - val_accuracy: 0.8625\n",
      "Epoch 12/100\n",
      "160/160 [==============================] - 1s 3ms/step - loss: 0.5197 - accuracy: 0.8750 - val_loss: 0.5165 - val_accuracy: 0.8750\n",
      "Epoch 13/100\n",
      "160/160 [==============================] - 1s 4ms/step - loss: 0.4658 - accuracy: 0.8562 - val_loss: 0.5890 - val_accuracy: 0.7750\n",
      "Epoch 14/100\n",
      "160/160 [==============================] - 1s 3ms/step - loss: 0.4461 - accuracy: 0.8813 - val_loss: 0.4433 - val_accuracy: 0.8750\n",
      "Epoch 15/100\n",
      "160/160 [==============================] - 1s 4ms/step - loss: 0.4388 - accuracy: 0.8562 - val_loss: 0.4616 - val_accuracy: 0.8750\n",
      "Epoch 16/100\n",
      "160/160 [==============================] - 1s 3ms/step - loss: 0.3868 - accuracy: 0.8875 - val_loss: 0.6246 - val_accuracy: 0.7500\n",
      "Epoch 17/100\n",
      "160/160 [==============================] - 1s 4ms/step - loss: 0.3827 - accuracy: 0.9187 - val_loss: 0.3870 - val_accuracy: 0.8875\n",
      "Epoch 18/100\n",
      "160/160 [==============================] - 1s 4ms/step - loss: 0.3889 - accuracy: 0.8875 - val_loss: 0.3485 - val_accuracy: 0.9000\n",
      "Epoch 19/100\n",
      "160/160 [==============================] - 1s 3ms/step - loss: 0.3606 - accuracy: 0.8938 - val_loss: 0.3822 - val_accuracy: 0.8875\n",
      "Epoch 20/100\n",
      "160/160 [==============================] - 1s 3ms/step - loss: 0.3545 - accuracy: 0.8875 - val_loss: 0.5109 - val_accuracy: 0.8875\n",
      "Epoch 21/100\n",
      "160/160 [==============================] - 0s 3ms/step - loss: 0.3181 - accuracy: 0.9062 - val_loss: 0.3452 - val_accuracy: 0.8875\n",
      "Epoch 22/100\n",
      "160/160 [==============================] - 0s 3ms/step - loss: 0.3199 - accuracy: 0.9125 - val_loss: 0.4027 - val_accuracy: 0.8875\n",
      "Epoch 23/100\n",
      "160/160 [==============================] - 0s 3ms/step - loss: 0.3167 - accuracy: 0.8813 - val_loss: 0.3148 - val_accuracy: 0.8875\n",
      "Epoch 24/100\n",
      "160/160 [==============================] - 0s 3ms/step - loss: 0.2789 - accuracy: 0.9125 - val_loss: 0.3101 - val_accuracy: 0.9125\n",
      "Epoch 25/100\n",
      "160/160 [==============================] - 0s 3ms/step - loss: 0.2854 - accuracy: 0.9375 - val_loss: 0.2709 - val_accuracy: 0.9250\n",
      "Epoch 26/100\n",
      "160/160 [==============================] - 0s 3ms/step - loss: 0.2717 - accuracy: 0.9000 - val_loss: 0.2577 - val_accuracy: 0.9500\n",
      "Epoch 27/100\n",
      "160/160 [==============================] - 1s 3ms/step - loss: 0.2425 - accuracy: 0.9375 - val_loss: 0.3571 - val_accuracy: 0.8375\n",
      "Epoch 28/100\n",
      "160/160 [==============================] - 0s 3ms/step - loss: 0.2723 - accuracy: 0.9062 - val_loss: 0.2541 - val_accuracy: 0.9375\n",
      "Epoch 29/100\n",
      "160/160 [==============================] - 0s 3ms/step - loss: 0.2214 - accuracy: 0.9312 - val_loss: 0.2343 - val_accuracy: 0.9375\n",
      "Epoch 30/100\n",
      "160/160 [==============================] - 0s 3ms/step - loss: 0.2251 - accuracy: 0.9312 - val_loss: 0.2248 - val_accuracy: 0.9125\n",
      "Epoch 31/100\n",
      "160/160 [==============================] - 1s 3ms/step - loss: 0.2429 - accuracy: 0.9375 - val_loss: 0.2524 - val_accuracy: 0.8875\n",
      "Epoch 32/100\n",
      "160/160 [==============================] - 0s 3ms/step - loss: 0.2192 - accuracy: 0.9438 - val_loss: 0.2038 - val_accuracy: 0.9375\n",
      "Epoch 33/100\n",
      "160/160 [==============================] - 0s 3ms/step - loss: 0.1901 - accuracy: 0.9500 - val_loss: 0.2044 - val_accuracy: 0.9500\n",
      "Epoch 34/100\n",
      "160/160 [==============================] - 0s 3ms/step - loss: 0.1742 - accuracy: 0.9500 - val_loss: 0.3015 - val_accuracy: 0.8625\n",
      "Epoch 35/100\n",
      "160/160 [==============================] - 0s 3ms/step - loss: 0.2195 - accuracy: 0.9187 - val_loss: 0.2537 - val_accuracy: 0.9375\n",
      "Epoch 36/100\n",
      "160/160 [==============================] - 1s 3ms/step - loss: 0.1907 - accuracy: 0.9438 - val_loss: 0.2494 - val_accuracy: 0.9500\n",
      "Epoch 37/100\n",
      "160/160 [==============================] - 0s 3ms/step - loss: 0.2015 - accuracy: 0.9500 - val_loss: 0.1724 - val_accuracy: 0.9625\n",
      "Epoch 38/100\n",
      "160/160 [==============================] - 0s 3ms/step - loss: 0.1596 - accuracy: 0.9438 - val_loss: 0.2060 - val_accuracy: 0.9125\n",
      "Epoch 39/100\n",
      "160/160 [==============================] - 0s 3ms/step - loss: 0.1614 - accuracy: 0.9750 - val_loss: 0.1939 - val_accuracy: 0.9375\n",
      "Epoch 40/100\n",
      "160/160 [==============================] - 0s 3ms/step - loss: 0.1903 - accuracy: 0.9438 - val_loss: 0.1620 - val_accuracy: 0.9625\n",
      "Epoch 41/100\n",
      "160/160 [==============================] - 0s 3ms/step - loss: 0.1892 - accuracy: 0.9062 - val_loss: 0.2151 - val_accuracy: 0.9125\n",
      "Epoch 42/100\n",
      "160/160 [==============================] - 1s 3ms/step - loss: 0.1572 - accuracy: 0.9688 - val_loss: 0.1621 - val_accuracy: 0.9500\n",
      "Epoch 43/100\n",
      "160/160 [==============================] - 0s 3ms/step - loss: 0.1663 - accuracy: 0.9438 - val_loss: 0.1807 - val_accuracy: 0.9250\n",
      "Epoch 44/100\n",
      "160/160 [==============================] - 0s 3ms/step - loss: 0.1561 - accuracy: 0.9375 - val_loss: 0.1562 - val_accuracy: 0.9375\n",
      "Epoch 45/100\n",
      "160/160 [==============================] - 0s 3ms/step - loss: 0.1443 - accuracy: 0.9688 - val_loss: 0.1548 - val_accuracy: 0.9500\n",
      "Epoch 46/100\n",
      "160/160 [==============================] - 0s 3ms/step - loss: 0.1416 - accuracy: 0.9625 - val_loss: 0.1426 - val_accuracy: 0.9750\n",
      "Epoch 47/100\n",
      "160/160 [==============================] - 0s 3ms/step - loss: 0.1442 - accuracy: 0.9500 - val_loss: 0.1397 - val_accuracy: 0.9625\n",
      "Epoch 48/100\n",
      "160/160 [==============================] - 0s 3ms/step - loss: 0.1308 - accuracy: 0.9563 - val_loss: 0.1862 - val_accuracy: 0.9250\n",
      "Epoch 49/100\n",
      "160/160 [==============================] - 0s 3ms/step - loss: 0.1145 - accuracy: 0.9750 - val_loss: 0.1940 - val_accuracy: 0.9250\n",
      "Epoch 50/100\n",
      "160/160 [==============================] - 0s 3ms/step - loss: 0.1180 - accuracy: 0.9812 - val_loss: 0.1357 - val_accuracy: 0.9625\n",
      "Epoch 51/100\n",
      "160/160 [==============================] - 0s 3ms/step - loss: 0.1553 - accuracy: 0.9688 - val_loss: 0.1306 - val_accuracy: 0.9500\n",
      "Epoch 52/100\n",
      "160/160 [==============================] - 0s 3ms/step - loss: 0.1243 - accuracy: 0.9688 - val_loss: 0.1112 - val_accuracy: 0.9875\n",
      "Epoch 53/100\n",
      "160/160 [==============================] - 0s 3ms/step - loss: 0.1178 - accuracy: 0.9812 - val_loss: 0.2011 - val_accuracy: 0.9250\n",
      "Epoch 54/100\n",
      "160/160 [==============================] - 0s 3ms/step - loss: 0.1326 - accuracy: 0.9563 - val_loss: 0.1442 - val_accuracy: 0.9250\n",
      "Epoch 55/100\n",
      "160/160 [==============================] - 0s 3ms/step - loss: 0.1117 - accuracy: 0.9688 - val_loss: 0.1403 - val_accuracy: 0.9500\n",
      "Epoch 56/100\n",
      "160/160 [==============================] - 0s 3ms/step - loss: 0.1383 - accuracy: 0.9438 - val_loss: 0.3064 - val_accuracy: 0.9000\n",
      "Epoch 57/100\n",
      "160/160 [==============================] - 0s 3ms/step - loss: 0.1102 - accuracy: 0.9750 - val_loss: 0.2267 - val_accuracy: 0.9250\n"
     ]
    },
    {
     "name": "stdout",
     "output_type": "stream",
     "text": [
      "Epoch 58/100\n",
      "160/160 [==============================] - 0s 3ms/step - loss: 0.1343 - accuracy: 0.9625 - val_loss: 0.1878 - val_accuracy: 0.9125\n",
      "Epoch 59/100\n",
      "160/160 [==============================] - 0s 3ms/step - loss: 0.1364 - accuracy: 0.9625 - val_loss: 0.1013 - val_accuracy: 0.9750\n",
      "Epoch 60/100\n",
      "160/160 [==============================] - 0s 3ms/step - loss: 0.1171 - accuracy: 0.9625 - val_loss: 0.1163 - val_accuracy: 0.9625\n",
      "Epoch 61/100\n",
      "160/160 [==============================] - 0s 3ms/step - loss: 0.1460 - accuracy: 0.9500 - val_loss: 0.2650 - val_accuracy: 0.9000\n",
      "Epoch 62/100\n",
      "160/160 [==============================] - 0s 3ms/step - loss: 0.1321 - accuracy: 0.9500 - val_loss: 0.0951 - val_accuracy: 0.9500\n",
      "Epoch 63/100\n",
      "160/160 [==============================] - 0s 3ms/step - loss: 0.0935 - accuracy: 0.9750 - val_loss: 0.1983 - val_accuracy: 0.9250\n",
      "Epoch 64/100\n",
      "160/160 [==============================] - 0s 3ms/step - loss: 0.1227 - accuracy: 0.9625 - val_loss: 0.2044 - val_accuracy: 0.9125\n",
      "Epoch 65/100\n",
      "160/160 [==============================] - 0s 3ms/step - loss: 0.0965 - accuracy: 0.9812 - val_loss: 0.2221 - val_accuracy: 0.9125\n",
      "Epoch 66/100\n",
      "160/160 [==============================] - 0s 3ms/step - loss: 0.1051 - accuracy: 0.9750 - val_loss: 0.1133 - val_accuracy: 0.9750\n",
      "Epoch 67/100\n",
      "160/160 [==============================] - 0s 3ms/step - loss: 0.0758 - accuracy: 0.9875 - val_loss: 0.2037 - val_accuracy: 0.8875\n",
      "Epoch 68/100\n",
      "160/160 [==============================] - 0s 3ms/step - loss: 0.1293 - accuracy: 0.9375 - val_loss: 0.0942 - val_accuracy: 0.9875\n",
      "Epoch 69/100\n",
      "160/160 [==============================] - 0s 3ms/step - loss: 0.1098 - accuracy: 0.9625 - val_loss: 0.1549 - val_accuracy: 0.9500\n",
      "Epoch 70/100\n",
      "160/160 [==============================] - 0s 3ms/step - loss: 0.1014 - accuracy: 0.9812 - val_loss: 0.2412 - val_accuracy: 0.9375\n",
      "Epoch 71/100\n",
      "160/160 [==============================] - 0s 3ms/step - loss: 0.1026 - accuracy: 0.9812 - val_loss: 0.1237 - val_accuracy: 0.9375\n",
      "Epoch 72/100\n",
      "160/160 [==============================] - 0s 3ms/step - loss: 0.0963 - accuracy: 0.9750 - val_loss: 0.1281 - val_accuracy: 0.9500\n",
      "Epoch 73/100\n",
      "160/160 [==============================] - 0s 3ms/step - loss: 0.1106 - accuracy: 0.9688 - val_loss: 0.1438 - val_accuracy: 0.9375\n",
      "Epoch 74/100\n",
      "160/160 [==============================] - 0s 3ms/step - loss: 0.0813 - accuracy: 0.9812 - val_loss: 0.0934 - val_accuracy: 0.9875\n",
      "Epoch 75/100\n",
      "160/160 [==============================] - 0s 3ms/step - loss: 0.1168 - accuracy: 0.9625 - val_loss: 0.2266 - val_accuracy: 0.9250\n",
      "Epoch 76/100\n",
      "160/160 [==============================] - 0s 3ms/step - loss: 0.1083 - accuracy: 0.9812 - val_loss: 0.1187 - val_accuracy: 0.9500\n",
      "Epoch 77/100\n",
      "160/160 [==============================] - 0s 3ms/step - loss: 0.0693 - accuracy: 0.9875 - val_loss: 0.1311 - val_accuracy: 0.9500\n",
      "Epoch 78/100\n",
      "160/160 [==============================] - 0s 3ms/step - loss: 0.0889 - accuracy: 0.9688 - val_loss: 0.0766 - val_accuracy: 0.9750\n",
      "Epoch 79/100\n",
      "160/160 [==============================] - 0s 3ms/step - loss: 0.0776 - accuracy: 0.9688 - val_loss: 0.0640 - val_accuracy: 1.0000\n",
      "Epoch 80/100\n",
      "160/160 [==============================] - 0s 3ms/step - loss: 0.0961 - accuracy: 0.9750 - val_loss: 0.1053 - val_accuracy: 0.9375\n",
      "Epoch 81/100\n",
      "160/160 [==============================] - 0s 3ms/step - loss: 0.0800 - accuracy: 0.9875 - val_loss: 0.0923 - val_accuracy: 0.9625\n",
      "Epoch 82/100\n",
      "160/160 [==============================] - 0s 3ms/step - loss: 0.0674 - accuracy: 0.9812 - val_loss: 0.2322 - val_accuracy: 0.8875\n",
      "Epoch 83/100\n",
      "160/160 [==============================] - 0s 3ms/step - loss: 0.0794 - accuracy: 0.9750 - val_loss: 0.1176 - val_accuracy: 0.9500\n",
      "Epoch 84/100\n",
      "160/160 [==============================] - 0s 3ms/step - loss: 0.0982 - accuracy: 0.9688 - val_loss: 0.1698 - val_accuracy: 0.9375\n",
      "Epoch 85/100\n",
      "160/160 [==============================] - 0s 3ms/step - loss: 0.0813 - accuracy: 0.9875 - val_loss: 0.0964 - val_accuracy: 0.9875\n",
      "Epoch 86/100\n",
      "160/160 [==============================] - 0s 3ms/step - loss: 0.0714 - accuracy: 0.9875 - val_loss: 0.0579 - val_accuracy: 1.0000\n",
      "Epoch 87/100\n",
      "160/160 [==============================] - 0s 3ms/step - loss: 0.0746 - accuracy: 0.9812 - val_loss: 0.0772 - val_accuracy: 0.9625\n",
      "Epoch 88/100\n",
      "160/160 [==============================] - 0s 3ms/step - loss: 0.0622 - accuracy: 0.9812 - val_loss: 0.0719 - val_accuracy: 0.9625\n",
      "Epoch 89/100\n",
      "160/160 [==============================] - 0s 3ms/step - loss: 0.0803 - accuracy: 0.9688 - val_loss: 0.1122 - val_accuracy: 0.9500\n",
      "Epoch 90/100\n",
      "160/160 [==============================] - 0s 3ms/step - loss: 0.0576 - accuracy: 0.9875 - val_loss: 0.1777 - val_accuracy: 0.9250\n",
      "Epoch 91/100\n",
      "160/160 [==============================] - 0s 3ms/step - loss: 0.0593 - accuracy: 0.9812 - val_loss: 0.1508 - val_accuracy: 0.9375\n",
      "Epoch 92/100\n",
      "160/160 [==============================] - 0s 3ms/step - loss: 0.0695 - accuracy: 0.9750 - val_loss: 0.1347 - val_accuracy: 0.9500\n",
      "Epoch 93/100\n",
      "160/160 [==============================] - 0s 3ms/step - loss: 0.0788 - accuracy: 0.9750 - val_loss: 0.2187 - val_accuracy: 0.9000\n",
      "Epoch 94/100\n",
      "160/160 [==============================] - 0s 3ms/step - loss: 0.0727 - accuracy: 0.9812 - val_loss: 0.0684 - val_accuracy: 0.9750\n",
      "Epoch 95/100\n",
      "160/160 [==============================] - 0s 3ms/step - loss: 0.0856 - accuracy: 0.9688 - val_loss: 0.1628 - val_accuracy: 0.9000\n",
      "Epoch 96/100\n",
      "160/160 [==============================] - 1s 3ms/step - loss: 0.0816 - accuracy: 0.9812 - val_loss: 0.0625 - val_accuracy: 0.9750\n",
      "Epoch 97/100\n",
      "160/160 [==============================] - 1s 4ms/step - loss: 0.0740 - accuracy: 0.9750 - val_loss: 0.1464 - val_accuracy: 0.9375\n",
      "Epoch 98/100\n",
      "160/160 [==============================] - 1s 3ms/step - loss: 0.0545 - accuracy: 0.9812 - val_loss: 0.0853 - val_accuracy: 0.9625\n",
      "Epoch 99/100\n",
      "160/160 [==============================] - 1s 3ms/step - loss: 0.0777 - accuracy: 0.9812 - val_loss: 0.2310 - val_accuracy: 0.9250\n",
      "Epoch 100/100\n",
      "160/160 [==============================] - 1s 3ms/step - loss: 0.0493 - accuracy: 0.9937 - val_loss: 0.0816 - val_accuracy: 0.9500\n"
     ]
    }
   ],
   "source": [
    "model2 = tf.keras.Sequential([\n",
    "    tf.keras.layers.Dense(32, activation='relu'),\n",
    "    tf.keras.layers.Dense(16, activation='relu'),\n",
    "    tf.keras.layers.Dense(len(GESTURES), activation='softmax')\n",
    "])\n",
    "\n",
    "loss_fn = tf.keras.losses.CategoricalCrossentropy()\n",
    "\n",
    "model2.compile(optimizer='adam', loss=loss_fn, metrics=['accuracy'])\n",
    "\n",
    "history2 = model2.fit(i_train, o_train,\n",
    "                       epochs=EPOCHS, batch_size=1,\n",
    "                   validation_data=(i_validate, o_validate))"
   ]
  },
  {
   "cell_type": "markdown",
   "id": "97375b47",
   "metadata": {},
   "source": [
    "## Review model 2 performance"
   ]
  },
  {
   "cell_type": "code",
   "execution_count": 13,
   "id": "82f126dd",
   "metadata": {},
   "outputs": [
    {
     "data": {
      "image/png": "[encoded data removed]",
      "text/plain": [
       "<Figure size 300x300 with 1 Axes>"
      ]
     },
     "metadata": {},
     "output_type": "display_data"
    },
    {
     "name": "stdout",
     "output_type": "stream",
     "text": [
      "[3.0, 3.0]\n"
     ]
    }
   ],
   "source": [
    "# increase the size of the graphs. The default size is (6,4).\n",
    "plt.rcParams[\"figure.figsize\"] = (3,3)\n",
    "\n",
    "# graph the loss, the model above is configure to use \"mean squared error\" as the loss function\n",
    "loss = history2.history['loss']\n",
    "val_loss = history2.history['val_loss']\n",
    "epochs = range(1, len(loss) + 1)\n",
    "plt.plot(epochs, loss, 'g.', label='Training loss')\n",
    "plt.plot(epochs, val_loss, 'b.', label='Validation loss')\n",
    "plt.title('Training and validation loss')\n",
    "plt.xlabel('Epochs')\n",
    "plt.ylabel('Loss')\n",
    "plt.legend()\n",
    "plt.show()\n",
    "\n",
    "print(plt.rcParams[\"figure.figsize\"]) "
   ]
  },
  {
   "cell_type": "code",
   "execution_count": 14,
   "id": "a95fc7c4",
   "metadata": {},
   "outputs": [
    {
     "data": {
      "image/png": "[encoded data removed]",
      "text/plain": [
       "<Figure size 300x300 with 1 Axes>"
      ]
     },
     "metadata": {},
     "output_type": "display_data"
    },
    {
     "name": "stdout",
     "output_type": "stream",
     "text": [
      "[3.0, 3.0]\n"
     ]
    }
   ],
   "source": [
    "# increase the size of the graphs. The default size is (6,4).\n",
    "plt.rcParams[\"figure.figsize\"] = (3,3)\n",
    "\n",
    "# graph the loss, the model above is configure to use \"mean squared error\" as the loss function\n",
    "accuracy = history2.history['accuracy']\n",
    "val_accuracy = history2.history['val_accuracy']\n",
    "epochs = range(1, len(accuracy) + 1)\n",
    "plt.plot(epochs, accuracy, 'g.', label='Training accuracy')\n",
    "plt.plot(epochs, val_accuracy, 'b.', label='Validation accuracy')\n",
    "plt.title('Training and validation accuracy')\n",
    "plt.xlabel('Epochs')\n",
    "plt.ylabel('Loss')\n",
    "plt.legend()\n",
    "plt.show()\n",
    "\n",
    "print(plt.rcParams[\"figure.figsize\"]) "
   ]
  },
  {
   "cell_type": "code",
   "execution_count": null,
   "id": "c0594df5",
   "metadata": {},
   "outputs": [],
   "source": []
  },
  {
   "cell_type": "markdown",
   "id": "8a3e6107",
   "metadata": {},
   "source": [
    "## Verify model 2 with test data"
   ]
  },
  {
   "cell_type": "code",
   "execution_count": 15,
   "id": "0670869f",
   "metadata": {
    "scrolled": false
   },
   "outputs": [
    {
     "name": "stdout",
     "output_type": "stream",
     "text": [
      "3/3 [==============================] - 0s 3ms/step\n"
     ]
    },
    {
     "data": {
      "image/png": "[encoded data removed]",
      "text/plain": [
       "<Figure size 300x300 with 1 Axes>"
      ]
     },
     "metadata": {},
     "output_type": "display_data"
    }
   ],
   "source": [
    "# use the model to predict the test inputs\n",
    "predictions2 = model2.predict(i_test)\n",
    "\n",
    "# print the predictions and the expected ouputs\n",
    "# print(\"predictions =\\n\", np.round(predictions, decimals=3))\n",
    "# print(\"actual =\\n\", o_test)\n",
    "\n",
    "# Plot the predictions along with to the test data\n",
    "# plt.clf()\n",
    "# plt.title('Training data predicted vs actual values')\n",
    "# plt.plot(np.arange(0, len(i_test)), o_test, 'b.', label='Actual')\n",
    "# plt.plot(np.arange(0, len(i_test)), predictions, 'r.', label='Predicted')\n",
    "# plt.show()\n",
    "\n",
    "plot_cm(o_test, predictions2)"
   ]
  },
  {
   "cell_type": "markdown",
   "id": "d987007b",
   "metadata": {},
   "source": [
    "## Produce model file (.tflite)\n",
    "\n",
    "Output both non-quantized and quantized model files\n"
   ]
  },
  {
   "cell_type": "code",
   "execution_count": 16,
   "id": "09a418ce",
   "metadata": {},
   "outputs": [
    {
     "name": "stdout",
     "output_type": "stream",
     "text": [
      "INFO:tensorflow:Assets written to: C:\\Users\\cheew\\AppData\\Local\\Temp\\tmp_odpzvdi\\assets\n",
      "INFO:tensorflow:Assets written to: C:\\Users\\cheew\\AppData\\Local\\Temp\\tmphge6deor\\assets\n"
     ]
    },
    {
     "name": "stderr",
     "output_type": "stream",
     "text": [
      "INFO:tensorflow:Assets written to: C:\\Users\\cheew\\AppData\\Local\\Temp\\tmphge6deor\\assets\n"
     ]
    },
    {
     "name": "stdout",
     "output_type": "stream",
     "text": [
      "Basic model is 27948 bytes\n",
      "Quantized model is 9480 bytes\n"
     ]
    },
    {
     "name": "stderr",
     "output_type": "stream",
     "text": [
      "C:\\Users\\cheew\\anaconda3\\envs\\tf\\lib\\site-packages\\tensorflow\\lite\\python\\convert.py:766: UserWarning: Statistics for quantized inputs were expected, but not specified; continuing anyway.\n",
      "  warnings.warn(\"Statistics for quantized inputs were expected, but not \"\n"
     ]
    }
   ],
   "source": [
    "model=model2\n",
    "\n",
    "TFLITE_FILE = 'tflite/gesture_model.tflite'\n",
    "TFLITE_FILE_Q = 'tflite/gesture_model_q.tflite'\n",
    "\n",
    "converter = tf.lite.TFLiteConverter.from_keras_model(model)\n",
    "tflite_model = converter.convert()\n",
    "\n",
    "open(TFLITE_FILE, \"wb\").write(tflite_model)\n",
    "\n",
    "\n",
    "converter_q = tf.lite.TFLiteConverter.from_keras_model(model)\n",
    "converter_q.optimizations = [tf.lite.Optimize.DEFAULT]\n",
    "\n",
    "def representative_dataset_generator():\n",
    " # each scalar value inside a 2D array that is wrapped in a list\n",
    " for value in inputs:\n",
    "     yield [np.array(value, dtype=np.float32, ndmin=2)]\n",
    "\n",
    "converter_q.representative_dataset = representative_dataset_generator\n",
    "tflite_model_q = converter_q.convert()\n",
    "\n",
    "open(TFLITE_FILE_Q, \"wb\").write(tflite_model_q)\n",
    "\n",
    "\n",
    "# Review size difference\n",
    "basic_model_size = os.path.getsize(TFLITE_FILE)\n",
    "print(\"Basic model is %d bytes\" % basic_model_size)\n",
    "\n",
    "basic_model_size_q = os.path.getsize(TFLITE_FILE_Q)\n",
    "print(\"Quantized model is %d bytes\" % basic_model_size_q)"
   ]
  },
  {
   "cell_type": "markdown",
   "id": "957480e4",
   "metadata": {},
   "source": [
    "## Verify the interpreter (.tflite)"
   ]
  },
  {
   "cell_type": "code",
   "execution_count": 17,
   "id": "60cda1ee",
   "metadata": {
    "scrolled": false
   },
   "outputs": [
    {
     "data": {
      "image/png": "[encoded data removed]",
      "text/plain": [
       "<Figure size 300x300 with 1 Axes>"
      ]
     },
     "metadata": {},
     "output_type": "display_data"
    }
   ],
   "source": [
    "_model = tf.lite.Interpreter(TFLITE_FILE)\n",
    "\n",
    "_model.allocate_tensors()\n",
    "\n",
    "_model_input_index = _model.get_input_details()[0]['index']\n",
    "_model_output_index = _model.get_output_details()[0]['index']\n",
    "\n",
    "_model_predictions = []\n",
    "\n",
    "for i in i_test:\n",
    "    # write the value to the input tensor\n",
    "    i_tensor = tf.convert_to_tensor([i], dtype=tf.float32)\n",
    "    _model.set_tensor(_model_input_index, i_tensor)\n",
    "    # run inference\n",
    "    _model.invoke()\n",
    "    # read the prediction from the output tensor\n",
    "    _model_predictions.append(_model.get_tensor(_model_output_index)[0])\n",
    "\n",
    "# # print the predictions and the expected ouputs\n",
    "# print(\"model predictions =\\n\", np.round(_model_predictions, decimals=3))\n",
    "# print(\"actual =\\n\", o_test)\n",
    "plot_cm(o_test, _model_predictions)"
   ]
  },
  {
   "cell_type": "markdown",
   "id": "7752fccc",
   "metadata": {},
   "source": [
    "## Verify the quantized interpreter (.tflite)"
   ]
  },
  {
   "cell_type": "code",
   "execution_count": 18,
   "id": "da067e2b",
   "metadata": {
    "scrolled": false
   },
   "outputs": [
    {
     "data": {
      "image/png": "[encoded data removed]",
      "text/plain": [
       "<Figure size 300x300 with 1 Axes>"
      ]
     },
     "metadata": {},
     "output_type": "display_data"
    }
   ],
   "source": [
    "_model_q = tf.lite.Interpreter(TFLITE_FILE_Q)\n",
    "\n",
    "_model_q.allocate_tensors()\n",
    "\n",
    "_model_q_input_index = _model_q.get_input_details()[0]['index']\n",
    "_model_q_output_index = _model_q.get_output_details()[0]['index']\n",
    "\n",
    "_model_q_predictions = []\n",
    "\n",
    "for i in i_test:\n",
    "    # write the value to the input tensor\n",
    "    i_tensor = tf.convert_to_tensor([i], dtype=tf.float32)\n",
    "    _model_q.set_tensor(_model_q_input_index, i_tensor)\n",
    "    # run inference\n",
    "    _model_q.invoke()\n",
    "    # read the prediction from the output tensor\n",
    "    _model_q_predictions.append(_model_q.get_tensor(_model_q_output_index)[0])\n",
    "\n",
    "# print the predictions and the expected ouputs\n",
    "# print(\"quantized model predictions =\\n\", np.round(_model_q_predictions, decimals=3))\n",
    "# print(\"actual =\\n\", o_test)\n",
    "plot_cm(o_test, _model_q_predictions)"
   ]
  },
  {
   "cell_type": "markdown",
   "id": "0f8e95d9",
   "metadata": {},
   "source": [
    "## Produce the model header file"
   ]
  },
  {
   "cell_type": "code",
   "execution_count": 19,
   "id": "9833a857",
   "metadata": {},
   "outputs": [],
   "source": [
    "# to run below command, ensure jupyter notebook is launched under bash terminal (eg. git bash, linux terminal)\n",
    "\n",
    "HEADER_FILE = '../ble_client/gesture_model.h'\n",
    "HEADER_FILE_Q = '../ble_client/gesture_model_q.h'\n",
    "# based model header file\n",
    "str1 = \"const unsigned char {} [] = {{\".format('gesture_model')\n",
    "str2 = \"};\"\n",
    "\n",
    "!echo {str1}  > {HEADER_FILE}\n",
    "!cat {TFLITE_FILE} | xxd -i >> {HEADER_FILE}\n",
    "!echo {str2} >> {HEADER_FILE}\n",
    "\n",
    "# quantized model header file\n",
    "str3 = \"const unsigned char {} [] = {{\".format('gesture_model_q')\n",
    "\n",
    "!echo {str3}  > {HEADER_FILE_Q}\n",
    "!cat {TFLITE_FILE_Q} | xxd -i >> {HEADER_FILE_Q}\n",
    "!echo {str2} >> {HEADER_FILE_Q}"
   ]
  },
  {
   "cell_type": "code",
   "execution_count": null,
   "id": "99db6683",
   "metadata": {},
   "outputs": [],
   "source": []
  },
  {
   "cell_type": "code",
   "execution_count": null,
   "id": "2acdb001",
   "metadata": {},
   "outputs": [],
   "source": []
  },
  {
   "cell_type": "code",
   "execution_count": null,
   "id": "e01164f0",
   "metadata": {},
   "outputs": [],
   "source": []
  },
  {
   "cell_type": "code",
   "execution_count": null,
   "id": "3868ef14",
   "metadata": {},
   "outputs": [],
   "source": []
  },
  {
   "cell_type": "code",
   "execution_count": null,
   "id": "ccbfe3df",
   "metadata": {},
   "outputs": [],
   "source": []
  },
  {
   "cell_type": "code",
   "execution_count": null,
   "id": "0a22137d",
   "metadata": {},
   "outputs": [],
   "source": []
  }
 ],
 "metadata": {
  "kernelspec": {
   "display_name": "Python 3 (ipykernel)",
   "language": "python",
   "name": "python3"
  },
  "language_info": {
   "codemirror_mode": {
    "name": "ipython",
    "version": 3
   },
   "file_extension": ".py",
   "mimetype": "text/x-python",
   "name": "python",
   "nbconvert_exporter": "python",
   "pygments_lexer": "ipython3",
   "version": "3.9.15"
  }
 },
 "nbformat": 4,
 "nbformat_minor": 5
}
