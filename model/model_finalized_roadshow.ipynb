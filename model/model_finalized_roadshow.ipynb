{
 "cells": [
  {
   "cell_type": "code",
   "execution_count": 1,
   "id": "643e3ddd",
   "metadata": {},
   "outputs": [],
   "source": [
    "import numpy as np\n",
    "import tensorflow as tf\n",
    "import matplotlib.pyplot as plt\n",
    "import math\n",
    "import pandas as pd\n",
    "\n",
    "from sklearn.metrics import confusion_matrix\n",
    "import seaborn as sb"
   ]
  },
  {
   "cell_type": "code",
   "execution_count": 2,
   "id": "6a7eb85b",
   "metadata": {},
   "outputs": [
    {
     "name": "stdout",
     "output_type": "stream",
     "text": [
      "['r_u_v2', 'r_t_v2', 'r_r_v2', 'r_d_v2']\n"
     ]
    }
   ],
   "source": [
    "# define constant\n",
    "\n",
    "FOLDER = 'datas/s40d15t1.6/'\n",
    "DEVICE = 'r'\n",
    "TARGET_FOLDER = 'final_' + DEVICE\n",
    "# DRUM_L\n",
    "GESTURES = [\"l_u\", \"l_t\", \"l_l\", \"l_d\"] if DEVICE == 'l' else [\"r_u_v2\", \"r_t_v2\", \"r_r_v2\", \"r_d_v2\"] \n",
    "#DRUM_R\n",
    "# GESTURES = [\"r_u\", \"r_t\", \"r_r\", \"r_d\"]\n",
    "print(GESTURES)\n",
    "DATA_POINT_PER_GESTURE = 15\n",
    "\n",
    "TARGET_DATA_POINT = 15\n",
    "\n",
    "SEED = 1337\n",
    "np.random.seed(SEED)\n",
    "tf.random.set_seed(SEED)"
   ]
  },
  {
   "cell_type": "markdown",
   "id": "79e868e5",
   "metadata": {},
   "source": [
    "## Process data"
   ]
  },
  {
   "cell_type": "code",
   "execution_count": 3,
   "id": "7d09d1f8",
   "metadata": {},
   "outputs": [
    {
     "name": "stdout",
     "output_type": "stream",
     "text": [
      "Processing 0 for gesture 'r_u_v2'.\n",
      "Processing 1 for gesture 'r_t_v2'.\n",
      "Processing 2 for gesture 'r_r_v2'.\n",
      "Processing 3 for gesture 'r_d_v2'.\n"
     ]
    }
   ],
   "source": [
    "inputs = []\n",
    "outputs = []\n",
    "\n",
    "ONE_HOTS = np.eye(len(GESTURES))\n",
    "\n",
    "for i in range(len(GESTURES)):\n",
    "    g = GESTURES[i]\n",
    "    print(f\"Processing {i} for gesture '{g}'.\")\n",
    "\n",
    "    output = ONE_HOTS[i]\n",
    "\n",
    "    df = pd.read_csv(FOLDER + g + '.csv')\n",
    "    num_recordings = int(df.shape[0] / DATA_POINT_PER_GESTURE)\n",
    "\n",
    "    for j in range(num_recordings):\n",
    "        tensor = []\n",
    "        \n",
    "        for k in range(DATA_POINT_PER_GESTURE):\n",
    "            kk = j * DATA_POINT_PER_GESTURE + k\n",
    "            if k < TARGET_DATA_POINT:\n",
    "                tensor += [df['aX'][kk], df['aY'][kk], df['aZ'][kk], df['gX'][kk], df['gY'][kk], df['gZ'][kk]]\n",
    "        \n",
    "        inputs.append(tensor)\n",
    "        outputs.append(output)\n",
    "\n"
   ]
  },
  {
   "cell_type": "markdown",
   "id": "5253bdb7",
   "metadata": {},
   "source": [
    "## Create train/validate/test datas"
   ]
  },
  {
   "cell_type": "code",
   "execution_count": 4,
   "id": "14ee4ce3",
   "metadata": {},
   "outputs": [],
   "source": [
    "rdm_index = np.arange(len(inputs))\n",
    "np.random.shuffle(rdm_index)\n",
    "\n",
    "inputs = np.array(inputs)[rdm_index]\n",
    "outputs = np.array(outputs)[rdm_index]\n",
    "\n",
    "TRAIN_SPLIT = int(0.5 * len(inputs))\n",
    "TEST_SPLIT = int(TRAIN_SPLIT + 0.25 * len(inputs))\n",
    "i_train, i_validate, i_test = np.split(inputs, [TRAIN_SPLIT, TEST_SPLIT])\n",
    "o_train, o_validate, o_test = np.split(outputs, [TRAIN_SPLIT, TEST_SPLIT])\n",
    "\n",
    "i_train = tf.convert_to_tensor(i_train, dtype=tf.float32)\n",
    "o_train = tf.convert_to_tensor(o_train, dtype=tf.float32)\n",
    "i_validate = tf.convert_to_tensor(i_validate, dtype=tf.float32)\n",
    "o_validate = tf.convert_to_tensor(o_validate, dtype=tf.float32)\n",
    "\n",
    "i_test = tf.convert_to_tensor(i_test, dtype=tf.float32)"
   ]
  },
  {
   "cell_type": "markdown",
   "id": "cb22253c",
   "metadata": {},
   "source": [
    "## Build and train model"
   ]
  },
  {
   "cell_type": "code",
   "execution_count": 5,
   "id": "7fb1c4f1",
   "metadata": {},
   "outputs": [],
   "source": [
    "import os\n",
    "os.environ['KMP_DUPLICATE_LIB_OK']=\"TRUE\"\n",
    "\n",
    "EPOCHS=70"
   ]
  },
  {
   "cell_type": "code",
   "execution_count": 6,
   "id": "2f82223b",
   "metadata": {},
   "outputs": [
    {
     "name": "stdout",
     "output_type": "stream",
     "text": [
      "Epoch 1/70\n",
      "119/119 [==============================] - 2s 11ms/step - loss: 1.3363 - accuracy: 0.4370 - val_loss: 1.2216 - val_accuracy: 0.4068\n",
      "Epoch 2/70\n",
      "119/119 [==============================] - 1s 8ms/step - loss: 1.1300 - accuracy: 0.6807 - val_loss: 1.0726 - val_accuracy: 0.6271\n",
      "Epoch 3/70\n",
      "119/119 [==============================] - 1s 7ms/step - loss: 0.9548 - accuracy: 0.7479 - val_loss: 0.9639 - val_accuracy: 0.6610\n",
      "Epoch 4/70\n",
      "119/119 [==============================] - 1s 6ms/step - loss: 0.8080 - accuracy: 0.7983 - val_loss: 0.8244 - val_accuracy: 0.6610\n",
      "Epoch 5/70\n",
      "119/119 [==============================] - 1s 7ms/step - loss: 0.6722 - accuracy: 0.7983 - val_loss: 0.6526 - val_accuracy: 0.7797\n",
      "Epoch 6/70\n",
      "119/119 [==============================] - 1s 7ms/step - loss: 0.5264 - accuracy: 0.8487 - val_loss: 0.5154 - val_accuracy: 0.9322\n",
      "Epoch 7/70\n",
      "119/119 [==============================] - 1s 10ms/step - loss: 0.4273 - accuracy: 0.8908 - val_loss: 0.4128 - val_accuracy: 0.9661\n",
      "Epoch 8/70\n",
      "119/119 [==============================] - 1s 7ms/step - loss: 0.3307 - accuracy: 0.9496 - val_loss: 0.3694 - val_accuracy: 0.9492\n",
      "Epoch 9/70\n",
      "119/119 [==============================] - 1s 8ms/step - loss: 0.2585 - accuracy: 0.9748 - val_loss: 0.2459 - val_accuracy: 1.0000\n",
      "Epoch 10/70\n",
      "119/119 [==============================] - 1s 7ms/step - loss: 0.2013 - accuracy: 0.9748 - val_loss: 0.1825 - val_accuracy: 1.0000\n",
      "Epoch 11/70\n",
      "119/119 [==============================] - 1s 6ms/step - loss: 0.1632 - accuracy: 0.9832 - val_loss: 0.1434 - val_accuracy: 1.0000\n",
      "Epoch 12/70\n",
      "119/119 [==============================] - 1s 6ms/step - loss: 0.1274 - accuracy: 0.9916 - val_loss: 0.1151 - val_accuracy: 1.0000\n",
      "Epoch 13/70\n",
      "119/119 [==============================] - 1s 6ms/step - loss: 0.1038 - accuracy: 0.9916 - val_loss: 0.1215 - val_accuracy: 1.0000\n",
      "Epoch 14/70\n",
      "119/119 [==============================] - 1s 6ms/step - loss: 0.0866 - accuracy: 0.9916 - val_loss: 0.0977 - val_accuracy: 1.0000\n",
      "Epoch 15/70\n",
      "119/119 [==============================] - 1s 6ms/step - loss: 0.0663 - accuracy: 1.0000 - val_loss: 0.1090 - val_accuracy: 1.0000\n",
      "Epoch 16/70\n",
      "119/119 [==============================] - 1s 5ms/step - loss: 0.0670 - accuracy: 0.9916 - val_loss: 0.0930 - val_accuracy: 1.0000\n",
      "Epoch 17/70\n",
      "119/119 [==============================] - 1s 6ms/step - loss: 0.0527 - accuracy: 1.0000 - val_loss: 0.0475 - val_accuracy: 1.0000\n",
      "Epoch 18/70\n",
      "119/119 [==============================] - 1s 6ms/step - loss: 0.0456 - accuracy: 1.0000 - val_loss: 0.0384 - val_accuracy: 1.0000\n",
      "Epoch 19/70\n",
      "119/119 [==============================] - 1s 7ms/step - loss: 0.0406 - accuracy: 1.0000 - val_loss: 0.0427 - val_accuracy: 1.0000\n",
      "Epoch 20/70\n",
      "119/119 [==============================] - 1s 7ms/step - loss: 0.0438 - accuracy: 1.0000 - val_loss: 0.0451 - val_accuracy: 1.0000\n",
      "Epoch 21/70\n",
      "119/119 [==============================] - 1s 6ms/step - loss: 0.0311 - accuracy: 1.0000 - val_loss: 0.0327 - val_accuracy: 1.0000\n",
      "Epoch 22/70\n",
      "119/119 [==============================] - 1s 6ms/step - loss: 0.0276 - accuracy: 1.0000 - val_loss: 0.0289 - val_accuracy: 1.0000\n",
      "Epoch 23/70\n",
      "119/119 [==============================] - 1s 6ms/step - loss: 0.0314 - accuracy: 0.9916 - val_loss: 0.0228 - val_accuracy: 1.0000\n",
      "Epoch 24/70\n",
      "119/119 [==============================] - 1s 5ms/step - loss: 0.0273 - accuracy: 1.0000 - val_loss: 0.0642 - val_accuracy: 1.0000\n",
      "Epoch 25/70\n",
      "119/119 [==============================] - 1s 6ms/step - loss: 0.0375 - accuracy: 0.9916 - val_loss: 0.0142 - val_accuracy: 1.0000\n",
      "Epoch 26/70\n",
      "119/119 [==============================] - 1s 6ms/step - loss: 0.0148 - accuracy: 1.0000 - val_loss: 0.0316 - val_accuracy: 1.0000\n",
      "Epoch 27/70\n",
      "119/119 [==============================] - 1s 6ms/step - loss: 0.0156 - accuracy: 1.0000 - val_loss: 0.0169 - val_accuracy: 1.0000\n",
      "Epoch 28/70\n",
      "119/119 [==============================] - 1s 6ms/step - loss: 0.0169 - accuracy: 1.0000 - val_loss: 0.0131 - val_accuracy: 1.0000\n",
      "Epoch 29/70\n",
      "119/119 [==============================] - 1s 9ms/step - loss: 0.0224 - accuracy: 1.0000 - val_loss: 0.0105 - val_accuracy: 1.0000\n",
      "Epoch 30/70\n",
      "119/119 [==============================] - 1s 9ms/step - loss: 0.0171 - accuracy: 1.0000 - val_loss: 0.0197 - val_accuracy: 1.0000\n",
      "Epoch 31/70\n",
      "119/119 [==============================] - 1s 7ms/step - loss: 0.0158 - accuracy: 1.0000 - val_loss: 0.0154 - val_accuracy: 1.0000\n",
      "Epoch 32/70\n",
      "119/119 [==============================] - 1s 6ms/step - loss: 0.0100 - accuracy: 1.0000 - val_loss: 0.0106 - val_accuracy: 1.0000\n",
      "Epoch 33/70\n",
      "119/119 [==============================] - 1s 7ms/step - loss: 0.0245 - accuracy: 1.0000 - val_loss: 0.0071 - val_accuracy: 1.0000\n",
      "Epoch 34/70\n",
      "119/119 [==============================] - 1s 6ms/step - loss: 0.0094 - accuracy: 1.0000 - val_loss: 0.0149 - val_accuracy: 1.0000\n",
      "Epoch 35/70\n",
      "119/119 [==============================] - 1s 6ms/step - loss: 0.0122 - accuracy: 1.0000 - val_loss: 0.0089 - val_accuracy: 1.0000\n",
      "Epoch 36/70\n",
      "119/119 [==============================] - 1s 6ms/step - loss: 0.0095 - accuracy: 1.0000 - val_loss: 0.0066 - val_accuracy: 1.0000\n",
      "Epoch 37/70\n",
      "119/119 [==============================] - 1s 6ms/step - loss: 0.0120 - accuracy: 1.0000 - val_loss: 0.0046 - val_accuracy: 1.0000\n",
      "Epoch 38/70\n",
      "119/119 [==============================] - 1s 8ms/step - loss: 0.0076 - accuracy: 1.0000 - val_loss: 0.0073 - val_accuracy: 1.0000\n",
      "Epoch 39/70\n",
      "119/119 [==============================] - 1s 7ms/step - loss: 0.0154 - accuracy: 1.0000 - val_loss: 0.0066 - val_accuracy: 1.0000\n",
      "Epoch 40/70\n",
      "119/119 [==============================] - 1s 7ms/step - loss: 0.0098 - accuracy: 1.0000 - val_loss: 0.0034 - val_accuracy: 1.0000\n",
      "Epoch 41/70\n",
      "119/119 [==============================] - 1s 7ms/step - loss: 0.0051 - accuracy: 1.0000 - val_loss: 0.0038 - val_accuracy: 1.0000\n",
      "Epoch 42/70\n",
      "119/119 [==============================] - 1s 6ms/step - loss: 0.0133 - accuracy: 1.0000 - val_loss: 0.0046 - val_accuracy: 1.0000\n",
      "Epoch 43/70\n",
      "119/119 [==============================] - 1s 6ms/step - loss: 0.0042 - accuracy: 1.0000 - val_loss: 0.0039 - val_accuracy: 1.0000\n",
      "Epoch 44/70\n",
      "119/119 [==============================] - 1s 7ms/step - loss: 0.0062 - accuracy: 1.0000 - val_loss: 0.0027 - val_accuracy: 1.0000\n",
      "Epoch 45/70\n",
      "119/119 [==============================] - 1s 6ms/step - loss: 0.0091 - accuracy: 1.0000 - val_loss: 0.0035 - val_accuracy: 1.0000\n",
      "Epoch 46/70\n",
      "119/119 [==============================] - 1s 6ms/step - loss: 0.0040 - accuracy: 1.0000 - val_loss: 0.0021 - val_accuracy: 1.0000\n",
      "Epoch 47/70\n",
      "119/119 [==============================] - 1s 6ms/step - loss: 0.0274 - accuracy: 0.9832 - val_loss: 0.0034 - val_accuracy: 1.0000\n",
      "Epoch 48/70\n",
      "119/119 [==============================] - 1s 6ms/step - loss: 0.0029 - accuracy: 1.0000 - val_loss: 0.0025 - val_accuracy: 1.0000\n",
      "Epoch 49/70\n",
      "119/119 [==============================] - 1s 6ms/step - loss: 0.0034 - accuracy: 1.0000 - val_loss: 0.0021 - val_accuracy: 1.0000\n",
      "Epoch 50/70\n",
      "119/119 [==============================] - 1s 7ms/step - loss: 0.0027 - accuracy: 1.0000 - val_loss: 0.0021 - val_accuracy: 1.0000\n",
      "Epoch 51/70\n",
      "119/119 [==============================] - 1s 7ms/step - loss: 0.0028 - accuracy: 1.0000 - val_loss: 0.0019 - val_accuracy: 1.0000\n",
      "Epoch 52/70\n",
      "119/119 [==============================] - 1s 7ms/step - loss: 0.0045 - accuracy: 1.0000 - val_loss: 0.0021 - val_accuracy: 1.0000\n",
      "Epoch 53/70\n",
      "119/119 [==============================] - 1s 7ms/step - loss: 0.0026 - accuracy: 1.0000 - val_loss: 0.0016 - val_accuracy: 1.0000\n",
      "Epoch 54/70\n",
      "119/119 [==============================] - 1s 7ms/step - loss: 0.0025 - accuracy: 1.0000 - val_loss: 0.0015 - val_accuracy: 1.0000\n",
      "Epoch 55/70\n",
      "119/119 [==============================] - 1s 7ms/step - loss: 0.0026 - accuracy: 1.0000 - val_loss: 0.0020 - val_accuracy: 1.0000\n",
      "Epoch 56/70\n",
      "119/119 [==============================] - 1s 7ms/step - loss: 0.0019 - accuracy: 1.0000 - val_loss: 0.0013 - val_accuracy: 1.0000\n",
      "Epoch 57/70\n",
      "119/119 [==============================] - 1s 6ms/step - loss: 0.0017 - accuracy: 1.0000 - val_loss: 0.0016 - val_accuracy: 1.0000\n",
      "Epoch 58/70\n"
     ]
    },
    {
     "name": "stdout",
     "output_type": "stream",
     "text": [
      "119/119 [==============================] - 1s 6ms/step - loss: 0.0030 - accuracy: 1.0000 - val_loss: 0.0011 - val_accuracy: 1.0000\n",
      "Epoch 59/70\n",
      "119/119 [==============================] - 1s 6ms/step - loss: 0.0021 - accuracy: 1.0000 - val_loss: 0.0010 - val_accuracy: 1.0000\n",
      "Epoch 60/70\n",
      "119/119 [==============================] - 1s 6ms/step - loss: 0.0014 - accuracy: 1.0000 - val_loss: 0.0015 - val_accuracy: 1.0000\n",
      "Epoch 61/70\n",
      "119/119 [==============================] - 1s 6ms/step - loss: 0.0016 - accuracy: 1.0000 - val_loss: 0.0013 - val_accuracy: 1.0000\n",
      "Epoch 62/70\n",
      "119/119 [==============================] - 1s 5ms/step - loss: 0.0030 - accuracy: 1.0000 - val_loss: 0.0011 - val_accuracy: 1.0000\n",
      "Epoch 63/70\n",
      "119/119 [==============================] - 1s 7ms/step - loss: 0.0013 - accuracy: 1.0000 - val_loss: 7.6586e-04 - val_accuracy: 1.0000\n",
      "Epoch 64/70\n",
      "119/119 [==============================] - 1s 6ms/step - loss: 0.0021 - accuracy: 1.0000 - val_loss: 8.3670e-04 - val_accuracy: 1.0000\n",
      "Epoch 65/70\n",
      "119/119 [==============================] - 1s 8ms/step - loss: 0.0016 - accuracy: 1.0000 - val_loss: 0.0013 - val_accuracy: 1.0000\n",
      "Epoch 66/70\n",
      "119/119 [==============================] - 1s 7ms/step - loss: 0.0021 - accuracy: 1.0000 - val_loss: 0.0011 - val_accuracy: 1.0000\n",
      "Epoch 67/70\n",
      "119/119 [==============================] - 1s 7ms/step - loss: 0.0012 - accuracy: 1.0000 - val_loss: 0.0018 - val_accuracy: 1.0000\n",
      "Epoch 68/70\n",
      "119/119 [==============================] - 1s 7ms/step - loss: 0.1020 - accuracy: 0.9664 - val_loss: 0.0226 - val_accuracy: 1.0000\n",
      "Epoch 69/70\n",
      "119/119 [==============================] - 1s 7ms/step - loss: 0.0138 - accuracy: 1.0000 - val_loss: 0.0012 - val_accuracy: 1.0000\n",
      "Epoch 70/70\n",
      "119/119 [==============================] - 1s 7ms/step - loss: 0.0018 - accuracy: 1.0000 - val_loss: 6.8502e-04 - val_accuracy: 1.0000\n"
     ]
    }
   ],
   "source": [
    "model = tf.keras.Sequential([\n",
    "        tf.keras.layers.Dense(32, activation='relu'),\n",
    "        tf.keras.layers.Dense(8, activation='relu'),\n",
    "        tf.keras.layers.Dense(len(GESTURES), activation='softmax')\n",
    "    ])\n",
    "    \n",
    "model.compile(optimizer='adam', loss=tf.keras.losses.CategoricalCrossentropy(), metrics=['accuracy'])\n",
    "\n",
    "history = model.fit(i_train, o_train, epochs=EPOCHS, batch_size=1,validation_data=(i_validate, o_validate))\n"
   ]
  },
  {
   "cell_type": "markdown",
   "id": "97375b47",
   "metadata": {},
   "source": [
    "## Review models' performance"
   ]
  },
  {
   "cell_type": "code",
   "execution_count": 7,
   "id": "82f126dd",
   "metadata": {},
   "outputs": [
    {
     "data": {
      "text/plain": [
       "<matplotlib.legend.Legend at 0x28e61385e20>"
      ]
     },
     "execution_count": 7,
     "metadata": {},
     "output_type": "execute_result"
    },
    {
     "data": {
      "image/png": "[encoded data removed]",
      "text/plain": [
       "<Figure size 640x480 with 1 Axes>"
      ]
     },
     "metadata": {},
     "output_type": "display_data"
    }
   ],
   "source": [
    "# increase the size of the graphs. The default size is (6,4).\n",
    "# fig, axs = plt.subplots(1, 1, figsize=(9, 9))\n",
    "# fig.tight_layout(pad=3.0)\n",
    "# def plot_model_loss(history, title, i):\n",
    "loss = history.history['loss']\n",
    "val_loss = history.history['val_loss']\n",
    "epochs = range(1, len(loss) + 1)\n",
    "\n",
    "plt.plot(epochs, loss, 'g.', label='Training loss')\n",
    "plt.plot(epochs, val_loss, 'b.', label='Validation loss')\n",
    "plt.title(f's{TARGET_DATA_POINT} train/validate loss')\n",
    "plt.xlabel('Epochs')\n",
    "plt.ylabel('Loss')\n",
    "plt.legend()\n",
    "#     ax.show()\n",
    "\n",
    "# for i, s in enumerate(histories):\n",
    "#     plot_model_loss(histories[s], 'Model s'+ str(s) + ' train/validate loss', i)"
   ]
  },
  {
   "cell_type": "code",
   "execution_count": 8,
   "id": "a95fc7c4",
   "metadata": {},
   "outputs": [
    {
     "data": {
      "text/plain": [
       "<matplotlib.legend.Legend at 0x28e5ec42d90>"
      ]
     },
     "execution_count": 8,
     "metadata": {},
     "output_type": "execute_result"
    },
    {
     "data": {
      "image/png": "[encoded data removed]",
      "text/plain": [
       "<Figure size 640x480 with 1 Axes>"
      ]
     },
     "metadata": {},
     "output_type": "display_data"
    }
   ],
   "source": [
    "# increase the size of the graphs. The default size is (6,4).\n",
    "# fig, axs = plt.subplots(1, 1, figsize=(9, 9))\n",
    "# fig.tight_layout(pad=3.0)\n",
    "# def plot_model_accuracy(history, title, i):\n",
    "accuracy = history.history['accuracy']\n",
    "val_accuracy = history.history['val_accuracy']\n",
    "epochs = range(1, len(accuracy) + 1)\n",
    "\n",
    "# ax = axs[0, 0]\n",
    "plt.plot(epochs, accuracy, 'g.', label='Training accuracy')\n",
    "plt.plot(epochs, val_accuracy, 'b.', label='Validation accuracy')\n",
    "plt.title('Accuracy')\n",
    "plt.xlabel('Epochs')\n",
    "plt.ylabel('Accuracy')\n",
    "plt.legend()\n",
    "\n",
    "# for i, s in enumerate(histories):\n",
    "#     plot_model_accuracy(histories[s], 'Model s'+ str(s) + ' accuracy', i)"
   ]
  },
  {
   "cell_type": "code",
   "execution_count": null,
   "id": "c0594df5",
   "metadata": {},
   "outputs": [],
   "source": []
  },
  {
   "cell_type": "markdown",
   "id": "8a3e6107",
   "metadata": {},
   "source": [
    "## Verify models with test data"
   ]
  },
  {
   "cell_type": "code",
   "execution_count": 9,
   "id": "0670869f",
   "metadata": {
    "scrolled": false
   },
   "outputs": [
    {
     "name": "stdout",
     "output_type": "stream",
     "text": [
      "2/2 [==============================] - 0s 6ms/step\n"
     ]
    },
    {
     "data": {
      "text/plain": [
       "Text(33.22222222222222, 0.5, 'Predicted labels')"
      ]
     },
     "execution_count": 9,
     "metadata": {},
     "output_type": "execute_result"
    },
    {
     "data": {
      "image/png": "[encoded data removed]",
      "text/plain": [
       "<Figure size 500x500 with 1 Axes>"
      ]
     },
     "metadata": {},
     "output_type": "display_data"
    }
   ],
   "source": [
    "plt.figure(figsize=(5, 5))\n",
    "predict = model.predict(i_test)\n",
    "conf_mat = confusion_matrix(np.argmax(o_test, axis=1), np.argmax(predict, axis=1))\n",
    "# ax = axs[0,0]\n",
    "sb.heatmap(conf_mat, annot=True, cmap='Blues', fmt='g', cbar=False)\n",
    "plt.title('predict test data')\n",
    "plt.xlabel('Actual labels')\n",
    "plt.ylabel('Predicted labels')\n"
   ]
  },
  {
   "cell_type": "markdown",
   "id": "d987007b",
   "metadata": {},
   "source": [
    "## Produce model file (.tflite)\n",
    "\n",
    "Output both non-quantized and quantized model files\n"
   ]
  },
  {
   "cell_type": "code",
   "execution_count": 10,
   "id": "09a418ce",
   "metadata": {},
   "outputs": [
    {
     "name": "stdout",
     "output_type": "stream",
     "text": [
      "INFO:tensorflow:Assets written to: C:\\Users\\cheew\\AppData\\Local\\Temp\\tmpo450lxdx\\assets\n",
      "INFO:tensorflow:Assets written to: C:\\Users\\cheew\\AppData\\Local\\Temp\\tmpwgjugzz0\\assets\n"
     ]
    },
    {
     "name": "stderr",
     "output_type": "stream",
     "text": [
      "INFO:tensorflow:Assets written to: C:\\Users\\cheew\\AppData\\Local\\Temp\\tmpwgjugzz0\\assets\n",
      "C:\\Users\\cheew\\anaconda3\\envs\\tf\\lib\\site-packages\\tensorflow\\lite\\python\\convert.py:766: UserWarning: Statistics for quantized inputs were expected, but not specified; continuing anyway.\n",
      "  warnings.warn(\"Statistics for quantized inputs were expected, but not \"\n"
     ]
    },
    {
     "name": "stdout",
     "output_type": "stream",
     "text": [
      "Basic model is 14940 bytes\n",
      "Quantized model is 6176 bytes\n"
     ]
    }
   ],
   "source": [
    "def representative_dataset_generator():\n",
    "     # each scalar value inside a 2D array that is wrapped in a list\n",
    "     for value in inputs:\n",
    "         yield [np.array(value, dtype=np.float32, ndmin=2)]\n",
    "\n",
    "TFLITE_FILE = 'tflite/'+TARGET_FOLDER+'/gesture_model_f_s' + str(TARGET_DATA_POINT) + '.tflite'\n",
    "TFLITE_FILE_Q = 'tflite/'+TARGET_FOLDER+'/gesture_model_f_s' + str(TARGET_DATA_POINT) + 'q.tflite'\n",
    "\n",
    "converter = tf.lite.TFLiteConverter.from_keras_model(model)\n",
    "tflite_model = converter.convert()\n",
    "open(TFLITE_FILE, \"wb\").write(tflite_model)\n",
    "\n",
    "converter_q = tf.lite.TFLiteConverter.from_keras_model(model)\n",
    "converter_q.optimizations = [tf.lite.Optimize.DEFAULT]\n",
    "converter_q.representative_dataset = representative_dataset_generator\n",
    "tflite_model_q = converter_q.convert()\n",
    "open(TFLITE_FILE_Q, \"wb\").write(tflite_model_q)\n",
    "\n",
    "# Review size difference\n",
    "basic_model_size = os.path.getsize(TFLITE_FILE)\n",
    "print(\"Basic model is {} bytes\".format(basic_model_size))\n",
    "\n",
    "basic_model_size_q = os.path.getsize(TFLITE_FILE_Q)\n",
    "print(\"Quantized model is {} bytes\".format(basic_model_size_q))\n"
   ]
  },
  {
   "cell_type": "markdown",
   "id": "957480e4",
   "metadata": {},
   "source": [
    "## Verify the interpreter (.tflite)"
   ]
  },
  {
   "cell_type": "code",
   "execution_count": 11,
   "id": "60cda1ee",
   "metadata": {
    "scrolled": false
   },
   "outputs": [
    {
     "data": {
      "text/plain": [
       "Text(33.22222222222222, 0.5, 'Predicted labels')"
      ]
     },
     "execution_count": 11,
     "metadata": {},
     "output_type": "execute_result"
    },
    {
     "data": {
      "image/png": "[encoded data removed]",
      "text/plain": [
       "<Figure size 500x500 with 1 Axes>"
      ]
     },
     "metadata": {},
     "output_type": "display_data"
    }
   ],
   "source": [
    "\n",
    "TFLITE_FILE = 'tflite/'+TARGET_FOLDER+'/gesture_model_f_s' + str(TARGET_DATA_POINT) + '.tflite'\n",
    "model_tf = tf.lite.Interpreter(TFLITE_FILE)\n",
    "model_tf.allocate_tensors()\n",
    "model_tf_input_index = model_tf.get_input_details()[0]['index']\n",
    "model_tf_output_index = model_tf.get_output_details()[0]['index']\n",
    "predict_tf = []\n",
    "for j in i_test:\n",
    "# write the value to the input tensor\n",
    "    i_tensor = tf.convert_to_tensor([j], dtype=tf.float32)\n",
    "    model_tf.set_tensor(model_tf_input_index, i_tensor)\n",
    "    # run inference\n",
    "    model_tf.invoke()\n",
    "    # read the prediction from the output tensor\n",
    "    predict_tf.append(model_tf.get_tensor(model_tf_output_index)[0])\n",
    "\n",
    "conf_mat = confusion_matrix(np.argmax(o_test, axis=1), np.argmax(predict_tf, axis=1))\n",
    "\n",
    "plt.figure(figsize=(5, 5))\n",
    "\n",
    "sb.heatmap(conf_mat, annot=True, cmap='Blues', fmt='g', cbar=False)\n",
    "plt.title(\"Verify tflite performance\")\n",
    "plt.xlabel(\"Actual labels\")\n",
    "plt.ylabel(\"Predicted labels\")\n"
   ]
  },
  {
   "cell_type": "markdown",
   "id": "7752fccc",
   "metadata": {},
   "source": [
    "## Verify the quantized interpreter (.tflite)"
   ]
  },
  {
   "cell_type": "code",
   "execution_count": 12,
   "id": "da067e2b",
   "metadata": {
    "scrolled": false
   },
   "outputs": [
    {
     "data": {
      "text/plain": [
       "Text(33.22222222222222, 0.5, 'Predicted labels')"
      ]
     },
     "execution_count": 12,
     "metadata": {},
     "output_type": "execute_result"
    },
    {
     "data": {
      "image/png": "[encoded data removed]",
      "text/plain": [
       "<Figure size 500x500 with 1 Axes>"
      ]
     },
     "metadata": {},
     "output_type": "display_data"
    }
   ],
   "source": [
    "\n",
    "TFLITE_FILE_Q = 'tflite/'+TARGET_FOLDER+'/gesture_model_f_s' + str(TARGET_DATA_POINT) + 'q.tflite'\n",
    "model_tf_q = tf.lite.Interpreter(TFLITE_FILE_Q)\n",
    "model_tf_q.allocate_tensors()\n",
    "model_tf_q_input_index = model_tf_q.get_input_details()[0]['index']\n",
    "model_tf_q_output_index = model_tf_q.get_output_details()[0]['index']\n",
    "predict_tf_q = []\n",
    "for j in i_test:\n",
    "# write the value to the input tensor\n",
    "    i_tensor = tf.convert_to_tensor([j], dtype=tf.float32)\n",
    "    model_tf_q.set_tensor(model_tf_q_input_index, i_tensor)\n",
    "    # run inference\n",
    "    model_tf_q.invoke()\n",
    "    # read the prediction from the output tensor\n",
    "    predict_tf_q.append(model_tf_q.get_tensor(model_tf_q_output_index)[0])\n",
    "\n",
    "conf_mat = confusion_matrix(np.argmax(o_test, axis=1), np.argmax(predict_tf_q, axis=1))\n",
    "plt.figure(figsize=(5, 5))\n",
    "\n",
    "sb.heatmap(conf_mat, annot=True, cmap='Blues', fmt='g', cbar=False)\n",
    "plt.title(\"Verify tflite quantized performance\")\n",
    "plt.xlabel(\"Actual labels\")\n",
    "plt.ylabel(\"Predicted labels\")\n"
   ]
  },
  {
   "cell_type": "markdown",
   "id": "0f8e95d9",
   "metadata": {},
   "source": [
    "## Produce the model header file"
   ]
  },
  {
   "cell_type": "code",
   "execution_count": 13,
   "id": "9833a857",
   "metadata": {},
   "outputs": [],
   "source": [
    "# to run below command, ensure jupyter notebook is launched under unix-based CLI\n",
    "TFLITE_FILE = 'tflite/'+TARGET_FOLDER+'/gesture_model_f_s' + str(TARGET_DATA_POINT) + '.tflite'\n",
    "TFLITE_FILE_Q = 'tflite/'+TARGET_FOLDER+'/gesture_model_f_s' + str(TARGET_DATA_POINT) + 'q.tflite'\n",
    "\n",
    "HEADER_FILE = '../ble_client/'+TARGET_FOLDER+'/gesture_model_f_s' + str(TARGET_DATA_POINT) + '.h'\n",
    "HEADER_FILE_Q = '../ble_client/'+TARGET_FOLDER+'/gesture_model_f_s' + str(TARGET_DATA_POINT) + 'q.h'\n",
    "# based model header file\n",
    "str1 = \"const unsigned char {} [] = {{\".format('gesture_model')\n",
    "str2 = \"};\"\n",
    "\n",
    "!echo {str1}  > {HEADER_FILE}\n",
    "!cat {TFLITE_FILE} | xxd -i >> {HEADER_FILE}\n",
    "!echo {str2} >> {HEADER_FILE}\n",
    "\n",
    "# quantized model header file\n",
    "str3 = \"const unsigned char {} [] = {{\".format('gesture_model_q')\n",
    "\n",
    "!echo {str3}  > {HEADER_FILE_Q}\n",
    "!cat {TFLITE_FILE_Q} | xxd -i >> {HEADER_FILE_Q}\n",
    "!echo {str2} >> {HEADER_FILE_Q}"
   ]
  },
  {
   "cell_type": "code",
   "execution_count": null,
   "id": "99db6683",
   "metadata": {},
   "outputs": [],
   "source": []
  },
  {
   "cell_type": "code",
   "execution_count": null,
   "id": "2acdb001",
   "metadata": {},
   "outputs": [],
   "source": []
  },
  {
   "cell_type": "code",
   "execution_count": null,
   "id": "e01164f0",
   "metadata": {},
   "outputs": [],
   "source": []
  },
  {
   "cell_type": "code",
   "execution_count": null,
   "id": "3868ef14",
   "metadata": {},
   "outputs": [],
   "source": []
  },
  {
   "cell_type": "code",
   "execution_count": null,
   "id": "ccbfe3df",
   "metadata": {},
   "outputs": [],
   "source": []
  },
  {
   "cell_type": "code",
   "execution_count": null,
   "id": "0a22137d",
   "metadata": {},
   "outputs": [],
   "source": []
  }
 ],
 "metadata": {
  "kernelspec": {
   "display_name": "Python 3 (ipykernel)",
   "language": "python",
   "name": "python3"
  },
  "language_info": {
   "codemirror_mode": {
    "name": "ipython",
    "version": 3
   },
   "file_extension": ".py",
   "mimetype": "text/x-python",
   "name": "python",
   "nbconvert_exporter": "python",
   "pygments_lexer": "ipython3",
   "version": "3.9.15"
  }
 },
 "nbformat": 4,
 "nbformat_minor": 5
}
