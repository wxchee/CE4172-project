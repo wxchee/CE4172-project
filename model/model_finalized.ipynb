{
 "cells": [
  {
   "cell_type": "code",
   "execution_count": 1,
   "id": "643e3ddd",
   "metadata": {},
   "outputs": [],
   "source": [
    "import numpy as np\n",
    "import tensorflow as tf\n",
    "import matplotlib.pyplot as plt\n",
    "import math\n",
    "import pandas as pd\n",
    "\n",
    "from sklearn.metrics import confusion_matrix\n",
    "import seaborn as sb"
   ]
  },
  {
   "cell_type": "code",
   "execution_count": 2,
   "id": "6a7eb85b",
   "metadata": {},
   "outputs": [],
   "source": [
    "# define constant\n",
    "\n",
    "FOLDER = 'datas/s40d30t1.6/'\n",
    "GESTURES = [\"topl\", \"twistl\", \"side\", \"downl\", \"twistr\", \"topr\", \"downr\",\"unknown\"]\n",
    "\n",
    "DATA_POINT_PER_GESTURE = 30\n",
    "\n",
    "TARGET_DATA_POINT = 15\n",
    "\n",
    "SEED = 1337\n",
    "np.random.seed(SEED)\n",
    "tf.random.set_seed(SEED)"
   ]
  },
  {
   "cell_type": "markdown",
   "id": "79e868e5",
   "metadata": {},
   "source": [
    "## Process data"
   ]
  },
  {
   "cell_type": "code",
   "execution_count": 3,
   "id": "7d09d1f8",
   "metadata": {},
   "outputs": [
    {
     "name": "stdout",
     "output_type": "stream",
     "text": [
      "Processing 0 for gesture 'topl'.\n",
      "Processing 1 for gesture 'twistl'.\n",
      "Processing 2 for gesture 'side'.\n",
      "Processing 3 for gesture 'downl'.\n",
      "Processing 4 for gesture 'twistr'.\n",
      "Processing 5 for gesture 'topr'.\n",
      "Processing 6 for gesture 'downr'.\n",
      "Processing 7 for gesture 'unknown'.\n"
     ]
    }
   ],
   "source": [
    "inputs = []\n",
    "outputs = []\n",
    "\n",
    "ONE_HOTS = np.eye(len(GESTURES))\n",
    "\n",
    "for i in range(len(GESTURES)):\n",
    "    g = GESTURES[i]\n",
    "    print(f\"Processing {i} for gesture '{g}'.\")\n",
    "\n",
    "    output = ONE_HOTS[i]\n",
    "\n",
    "    df = pd.read_csv(FOLDER + g + '.csv')\n",
    "    num_recordings = int(df.shape[0] / DATA_POINT_PER_GESTURE)\n",
    "\n",
    "    for j in range(num_recordings):\n",
    "        tensor = []\n",
    "        \n",
    "        for k in range(DATA_POINT_PER_GESTURE):\n",
    "            kk = j * DATA_POINT_PER_GESTURE + k\n",
    "            if k < TARGET_DATA_POINT:\n",
    "                tensor += [df['aX'][kk], df['aY'][kk], df['aZ'][kk], df['gX'][kk], df['gY'][kk], df['gZ'][kk]]\n",
    "        \n",
    "        inputs.append(tensor)\n",
    "        outputs.append(output)\n",
    "\n"
   ]
  },
  {
   "cell_type": "markdown",
   "id": "5253bdb7",
   "metadata": {},
   "source": [
    "## Create train/validate/test datas"
   ]
  },
  {
   "cell_type": "code",
   "execution_count": 4,
   "id": "14ee4ce3",
   "metadata": {},
   "outputs": [],
   "source": [
    "rdm_index = np.arange(len(inputs))\n",
    "np.random.shuffle(rdm_index)\n",
    "\n",
    "inputs = np.array(inputs)[rdm_index]\n",
    "outputs = np.array(outputs)[rdm_index]\n",
    "\n",
    "TRAIN_SPLIT = int(0.5 * len(inputs))\n",
    "TEST_SPLIT = int(TRAIN_SPLIT + 0.25 * len(inputs))\n",
    "i_train, i_validate, i_test = np.split(inputs, [TRAIN_SPLIT, TEST_SPLIT])\n",
    "o_train, o_validate, o_test = np.split(outputs, [TRAIN_SPLIT, TEST_SPLIT])\n",
    "\n",
    "i_train = tf.convert_to_tensor(i_train, dtype=tf.float32)\n",
    "o_train = tf.convert_to_tensor(o_train, dtype=tf.float32)\n",
    "i_validate = tf.convert_to_tensor(i_validate, dtype=tf.float32)\n",
    "o_validate = tf.convert_to_tensor(o_validate, dtype=tf.float32)\n",
    "\n",
    "i_test = tf.convert_to_tensor(i_test, dtype=tf.float32)"
   ]
  },
  {
   "cell_type": "markdown",
   "id": "cb22253c",
   "metadata": {},
   "source": [
    "## Build and train model"
   ]
  },
  {
   "cell_type": "code",
   "execution_count": 5,
   "id": "7fb1c4f1",
   "metadata": {},
   "outputs": [],
   "source": [
    "import os\n",
    "os.environ['KMP_DUPLICATE_LIB_OK']=\"TRUE\"\n",
    "\n",
    "EPOCHS=200"
   ]
  },
  {
   "cell_type": "code",
   "execution_count": 6,
   "id": "2f82223b",
   "metadata": {},
   "outputs": [
    {
     "name": "stdout",
     "output_type": "stream",
     "text": [
      "Epoch 1/200\n",
      "160/160 [==============================] - 1s 3ms/step - loss: 2.0002 - accuracy: 0.1625 - val_loss: 1.8853 - val_accuracy: 0.2875\n",
      "Epoch 2/200\n",
      "160/160 [==============================] - 0s 2ms/step - loss: 1.7433 - accuracy: 0.4313 - val_loss: 1.6556 - val_accuracy: 0.4375\n",
      "Epoch 3/200\n",
      "160/160 [==============================] - 0s 2ms/step - loss: 1.4681 - accuracy: 0.5688 - val_loss: 1.4352 - val_accuracy: 0.5750\n",
      "Epoch 4/200\n",
      "160/160 [==============================] - 0s 2ms/step - loss: 1.2472 - accuracy: 0.6250 - val_loss: 1.1727 - val_accuracy: 0.6500\n",
      "Epoch 5/200\n",
      "160/160 [==============================] - 0s 2ms/step - loss: 1.0069 - accuracy: 0.7375 - val_loss: 1.0234 - val_accuracy: 0.6875\n",
      "Epoch 6/200\n",
      "160/160 [==============================] - 0s 2ms/step - loss: 0.8464 - accuracy: 0.7750 - val_loss: 0.9163 - val_accuracy: 0.7250\n",
      "Epoch 7/200\n",
      "160/160 [==============================] - 0s 2ms/step - loss: 0.7162 - accuracy: 0.7750 - val_loss: 0.7123 - val_accuracy: 0.7750\n",
      "Epoch 8/200\n",
      "160/160 [==============================] - 0s 2ms/step - loss: 0.6520 - accuracy: 0.8000 - val_loss: 0.6343 - val_accuracy: 0.7875\n",
      "Epoch 9/200\n",
      "160/160 [==============================] - 0s 2ms/step - loss: 0.5604 - accuracy: 0.8125 - val_loss: 0.5719 - val_accuracy: 0.8125\n",
      "Epoch 10/200\n",
      "160/160 [==============================] - 0s 2ms/step - loss: 0.5191 - accuracy: 0.8562 - val_loss: 0.5339 - val_accuracy: 0.8625\n",
      "Epoch 11/200\n",
      "160/160 [==============================] - 0s 2ms/step - loss: 0.4961 - accuracy: 0.8562 - val_loss: 0.4945 - val_accuracy: 0.8375\n",
      "Epoch 12/200\n",
      "160/160 [==============================] - 0s 2ms/step - loss: 0.4282 - accuracy: 0.8625 - val_loss: 0.5326 - val_accuracy: 0.8500\n",
      "Epoch 13/200\n",
      "160/160 [==============================] - 0s 2ms/step - loss: 0.4092 - accuracy: 0.8813 - val_loss: 0.4536 - val_accuracy: 0.8500\n",
      "Epoch 14/200\n",
      "160/160 [==============================] - 0s 2ms/step - loss: 0.3808 - accuracy: 0.9000 - val_loss: 0.4103 - val_accuracy: 0.9000\n",
      "Epoch 15/200\n",
      "160/160 [==============================] - 0s 2ms/step - loss: 0.3642 - accuracy: 0.8687 - val_loss: 0.3925 - val_accuracy: 0.8875\n",
      "Epoch 16/200\n",
      "160/160 [==============================] - 0s 2ms/step - loss: 0.3260 - accuracy: 0.9000 - val_loss: 0.5349 - val_accuracy: 0.8000\n",
      "Epoch 17/200\n",
      "160/160 [==============================] - 0s 2ms/step - loss: 0.3259 - accuracy: 0.8938 - val_loss: 0.3633 - val_accuracy: 0.9000\n",
      "Epoch 18/200\n",
      "160/160 [==============================] - 0s 2ms/step - loss: 0.3157 - accuracy: 0.9000 - val_loss: 0.3403 - val_accuracy: 0.8750\n",
      "Epoch 19/200\n",
      "160/160 [==============================] - 0s 2ms/step - loss: 0.2971 - accuracy: 0.9187 - val_loss: 0.2999 - val_accuracy: 0.9125\n",
      "Epoch 20/200\n",
      "160/160 [==============================] - 0s 2ms/step - loss: 0.2811 - accuracy: 0.9000 - val_loss: 0.3726 - val_accuracy: 0.8875\n",
      "Epoch 21/200\n",
      "160/160 [==============================] - 0s 2ms/step - loss: 0.2736 - accuracy: 0.9187 - val_loss: 0.3245 - val_accuracy: 0.9125\n",
      "Epoch 22/200\n",
      "160/160 [==============================] - 0s 2ms/step - loss: 0.2511 - accuracy: 0.9312 - val_loss: 0.3024 - val_accuracy: 0.9000\n",
      "Epoch 23/200\n",
      "160/160 [==============================] - 0s 2ms/step - loss: 0.2634 - accuracy: 0.9125 - val_loss: 0.3494 - val_accuracy: 0.8625\n",
      "Epoch 24/200\n",
      "160/160 [==============================] - 0s 2ms/step - loss: 0.2341 - accuracy: 0.9312 - val_loss: 0.2830 - val_accuracy: 0.9125\n",
      "Epoch 25/200\n",
      "160/160 [==============================] - 0s 2ms/step - loss: 0.2136 - accuracy: 0.9563 - val_loss: 0.2488 - val_accuracy: 0.9125\n",
      "Epoch 26/200\n",
      "160/160 [==============================] - 0s 2ms/step - loss: 0.2220 - accuracy: 0.9375 - val_loss: 0.2483 - val_accuracy: 0.9250\n",
      "Epoch 27/200\n",
      "160/160 [==============================] - 0s 2ms/step - loss: 0.1964 - accuracy: 0.9438 - val_loss: 0.2752 - val_accuracy: 0.8875\n",
      "Epoch 28/200\n",
      "160/160 [==============================] - 0s 2ms/step - loss: 0.2179 - accuracy: 0.9187 - val_loss: 0.2504 - val_accuracy: 0.9250\n",
      "Epoch 29/200\n",
      "160/160 [==============================] - 0s 2ms/step - loss: 0.1844 - accuracy: 0.9500 - val_loss: 0.2113 - val_accuracy: 0.9125\n",
      "Epoch 30/200\n",
      "160/160 [==============================] - 0s 2ms/step - loss: 0.1725 - accuracy: 0.9563 - val_loss: 0.3128 - val_accuracy: 0.8750\n",
      "Epoch 31/200\n",
      "160/160 [==============================] - 0s 2ms/step - loss: 0.1892 - accuracy: 0.9312 - val_loss: 0.2236 - val_accuracy: 0.9375\n",
      "Epoch 32/200\n",
      "160/160 [==============================] - 0s 2ms/step - loss: 0.1643 - accuracy: 0.9563 - val_loss: 0.1970 - val_accuracy: 0.9375\n",
      "Epoch 33/200\n",
      "160/160 [==============================] - 0s 2ms/step - loss: 0.1557 - accuracy: 0.9688 - val_loss: 0.2042 - val_accuracy: 0.9500\n",
      "Epoch 34/200\n",
      "160/160 [==============================] - 0s 2ms/step - loss: 0.1560 - accuracy: 0.9625 - val_loss: 0.2239 - val_accuracy: 0.9125\n",
      "Epoch 35/200\n",
      "160/160 [==============================] - 0s 2ms/step - loss: 0.1551 - accuracy: 0.9563 - val_loss: 0.2534 - val_accuracy: 0.9125\n",
      "Epoch 36/200\n",
      "160/160 [==============================] - 0s 2ms/step - loss: 0.1595 - accuracy: 0.9500 - val_loss: 0.2074 - val_accuracy: 0.9250\n",
      "Epoch 37/200\n",
      "160/160 [==============================] - 0s 2ms/step - loss: 0.1561 - accuracy: 0.9500 - val_loss: 0.1814 - val_accuracy: 0.9500\n",
      "Epoch 38/200\n",
      "160/160 [==============================] - 0s 2ms/step - loss: 0.1827 - accuracy: 0.9187 - val_loss: 0.2074 - val_accuracy: 0.9125\n",
      "Epoch 39/200\n",
      "160/160 [==============================] - 0s 2ms/step - loss: 0.1352 - accuracy: 0.9625 - val_loss: 0.1759 - val_accuracy: 0.9375\n",
      "Epoch 40/200\n",
      "160/160 [==============================] - 0s 2ms/step - loss: 0.1597 - accuracy: 0.9375 - val_loss: 0.1576 - val_accuracy: 0.9375\n",
      "Epoch 41/200\n",
      "160/160 [==============================] - 0s 2ms/step - loss: 0.1523 - accuracy: 0.9500 - val_loss: 0.1775 - val_accuracy: 0.9125\n",
      "Epoch 42/200\n",
      "160/160 [==============================] - 0s 2ms/step - loss: 0.1240 - accuracy: 0.9688 - val_loss: 0.1547 - val_accuracy: 0.9750\n",
      "Epoch 43/200\n",
      "160/160 [==============================] - 0s 2ms/step - loss: 0.1073 - accuracy: 0.9563 - val_loss: 0.1442 - val_accuracy: 0.9375\n",
      "Epoch 44/200\n",
      "160/160 [==============================] - 0s 2ms/step - loss: 0.1287 - accuracy: 0.9563 - val_loss: 0.1647 - val_accuracy: 0.9375\n",
      "Epoch 45/200\n",
      "160/160 [==============================] - 0s 2ms/step - loss: 0.1197 - accuracy: 0.9563 - val_loss: 0.2681 - val_accuracy: 0.9250\n",
      "Epoch 46/200\n",
      "160/160 [==============================] - 0s 2ms/step - loss: 0.1103 - accuracy: 0.9750 - val_loss: 0.1365 - val_accuracy: 0.9625\n",
      "Epoch 47/200\n",
      "160/160 [==============================] - 0s 2ms/step - loss: 0.1131 - accuracy: 0.9563 - val_loss: 0.1798 - val_accuracy: 0.9500\n",
      "Epoch 48/200\n",
      "160/160 [==============================] - 0s 2ms/step - loss: 0.1000 - accuracy: 0.9688 - val_loss: 0.1353 - val_accuracy: 0.9250\n",
      "Epoch 49/200\n",
      "160/160 [==============================] - 0s 3ms/step - loss: 0.0889 - accuracy: 0.9812 - val_loss: 0.1637 - val_accuracy: 0.9375\n",
      "Epoch 50/200\n",
      "160/160 [==============================] - 0s 3ms/step - loss: 0.0912 - accuracy: 0.9688 - val_loss: 0.1255 - val_accuracy: 0.9625\n",
      "Epoch 51/200\n",
      "160/160 [==============================] - 0s 2ms/step - loss: 0.1188 - accuracy: 0.9625 - val_loss: 0.1794 - val_accuracy: 0.9375\n",
      "Epoch 52/200\n",
      "160/160 [==============================] - 0s 2ms/step - loss: 0.0819 - accuracy: 0.9812 - val_loss: 0.1288 - val_accuracy: 0.9625\n",
      "Epoch 53/200\n",
      "160/160 [==============================] - 0s 2ms/step - loss: 0.1034 - accuracy: 0.9750 - val_loss: 0.1782 - val_accuracy: 0.9000\n",
      "Epoch 54/200\n",
      "160/160 [==============================] - 0s 2ms/step - loss: 0.1073 - accuracy: 0.9688 - val_loss: 0.1182 - val_accuracy: 0.9500\n",
      "Epoch 55/200\n",
      "160/160 [==============================] - 0s 3ms/step - loss: 0.0871 - accuracy: 0.9750 - val_loss: 0.1746 - val_accuracy: 0.9375\n",
      "Epoch 56/200\n",
      "160/160 [==============================] - 0s 2ms/step - loss: 0.1021 - accuracy: 0.9625 - val_loss: 0.2068 - val_accuracy: 0.9375\n",
      "Epoch 57/200\n",
      "160/160 [==============================] - 0s 2ms/step - loss: 0.0832 - accuracy: 0.9688 - val_loss: 0.1849 - val_accuracy: 0.9125\n"
     ]
    },
    {
     "name": "stdout",
     "output_type": "stream",
     "text": [
      "Epoch 58/200\n",
      "160/160 [==============================] - 0s 2ms/step - loss: 0.0969 - accuracy: 0.9688 - val_loss: 0.1119 - val_accuracy: 0.9500\n",
      "Epoch 59/200\n",
      "160/160 [==============================] - 0s 2ms/step - loss: 0.0769 - accuracy: 0.9750 - val_loss: 0.1422 - val_accuracy: 0.9625\n",
      "Epoch 60/200\n",
      "160/160 [==============================] - 0s 3ms/step - loss: 0.0726 - accuracy: 0.9812 - val_loss: 0.1044 - val_accuracy: 0.9750\n",
      "Epoch 61/200\n",
      "160/160 [==============================] - 0s 2ms/step - loss: 0.0943 - accuracy: 0.9625 - val_loss: 0.1889 - val_accuracy: 0.9250\n",
      "Epoch 62/200\n",
      "160/160 [==============================] - 0s 2ms/step - loss: 0.0880 - accuracy: 0.9500 - val_loss: 0.0971 - val_accuracy: 0.9875\n",
      "Epoch 63/200\n",
      "160/160 [==============================] - 0s 2ms/step - loss: 0.0637 - accuracy: 0.9812 - val_loss: 0.1700 - val_accuracy: 0.9000\n",
      "Epoch 64/200\n",
      "160/160 [==============================] - 0s 2ms/step - loss: 0.0699 - accuracy: 0.9875 - val_loss: 0.1519 - val_accuracy: 0.9500\n",
      "Epoch 65/200\n",
      "160/160 [==============================] - 0s 2ms/step - loss: 0.0715 - accuracy: 0.9875 - val_loss: 0.1867 - val_accuracy: 0.9250\n",
      "Epoch 66/200\n",
      "160/160 [==============================] - 0s 2ms/step - loss: 0.0733 - accuracy: 0.9875 - val_loss: 0.1331 - val_accuracy: 0.9750\n",
      "Epoch 67/200\n",
      "160/160 [==============================] - 0s 2ms/step - loss: 0.0541 - accuracy: 0.9812 - val_loss: 0.2033 - val_accuracy: 0.9375\n",
      "Epoch 68/200\n",
      "160/160 [==============================] - 0s 2ms/step - loss: 0.0879 - accuracy: 0.9563 - val_loss: 0.0983 - val_accuracy: 0.9750\n",
      "Epoch 69/200\n",
      "160/160 [==============================] - 0s 2ms/step - loss: 0.0545 - accuracy: 0.9750 - val_loss: 0.1392 - val_accuracy: 0.9375\n",
      "Epoch 70/200\n",
      "160/160 [==============================] - 0s 2ms/step - loss: 0.0565 - accuracy: 0.9750 - val_loss: 0.1237 - val_accuracy: 0.9625\n",
      "Epoch 71/200\n",
      "160/160 [==============================] - 0s 2ms/step - loss: 0.0651 - accuracy: 0.9750 - val_loss: 0.1263 - val_accuracy: 0.9750\n",
      "Epoch 72/200\n",
      "160/160 [==============================] - 0s 2ms/step - loss: 0.0556 - accuracy: 0.9750 - val_loss: 0.0804 - val_accuracy: 0.9750\n",
      "Epoch 73/200\n",
      "160/160 [==============================] - 1s 3ms/step - loss: 0.0562 - accuracy: 0.9750 - val_loss: 0.1405 - val_accuracy: 0.9250\n",
      "Epoch 74/200\n",
      "160/160 [==============================] - 1s 4ms/step - loss: 0.0654 - accuracy: 0.9750 - val_loss: 0.1037 - val_accuracy: 0.9750\n",
      "Epoch 75/200\n",
      "160/160 [==============================] - 0s 3ms/step - loss: 0.0547 - accuracy: 0.9750 - val_loss: 0.1428 - val_accuracy: 0.9375\n",
      "Epoch 76/200\n",
      "160/160 [==============================] - 0s 2ms/step - loss: 0.0444 - accuracy: 0.9812 - val_loss: 0.1307 - val_accuracy: 0.9500\n",
      "Epoch 77/200\n",
      "160/160 [==============================] - 0s 2ms/step - loss: 0.0414 - accuracy: 0.9875 - val_loss: 0.1047 - val_accuracy: 0.9750\n",
      "Epoch 78/200\n",
      "160/160 [==============================] - 0s 3ms/step - loss: 0.0501 - accuracy: 0.9812 - val_loss: 0.1435 - val_accuracy: 0.9750\n",
      "Epoch 79/200\n",
      "160/160 [==============================] - 1s 3ms/step - loss: 0.0485 - accuracy: 0.9875 - val_loss: 0.0891 - val_accuracy: 0.9875\n",
      "Epoch 80/200\n",
      "160/160 [==============================] - 0s 3ms/step - loss: 0.0565 - accuracy: 0.9750 - val_loss: 0.0800 - val_accuracy: 0.9750\n",
      "Epoch 81/200\n",
      "160/160 [==============================] - 0s 2ms/step - loss: 0.0289 - accuracy: 0.9937 - val_loss: 0.1095 - val_accuracy: 0.9750\n",
      "Epoch 82/200\n",
      "160/160 [==============================] - 0s 3ms/step - loss: 0.0282 - accuracy: 0.9937 - val_loss: 0.1097 - val_accuracy: 0.9750\n",
      "Epoch 83/200\n",
      "160/160 [==============================] - 0s 2ms/step - loss: 0.0270 - accuracy: 0.9937 - val_loss: 0.0974 - val_accuracy: 0.9625\n",
      "Epoch 84/200\n",
      "160/160 [==============================] - 0s 2ms/step - loss: 0.0601 - accuracy: 0.9625 - val_loss: 0.1144 - val_accuracy: 0.9500\n",
      "Epoch 85/200\n",
      "160/160 [==============================] - 0s 2ms/step - loss: 0.0367 - accuracy: 0.9875 - val_loss: 0.1214 - val_accuracy: 0.9625\n",
      "Epoch 86/200\n",
      "160/160 [==============================] - 0s 2ms/step - loss: 0.0373 - accuracy: 0.9937 - val_loss: 0.1136 - val_accuracy: 0.9625\n",
      "Epoch 87/200\n",
      "160/160 [==============================] - 0s 2ms/step - loss: 0.0338 - accuracy: 0.9937 - val_loss: 0.0759 - val_accuracy: 0.9750\n",
      "Epoch 88/200\n",
      "160/160 [==============================] - 0s 2ms/step - loss: 0.0498 - accuracy: 0.9875 - val_loss: 0.1139 - val_accuracy: 0.9625\n",
      "Epoch 89/200\n",
      "160/160 [==============================] - 0s 2ms/step - loss: 0.0491 - accuracy: 0.9750 - val_loss: 0.1158 - val_accuracy: 0.9750\n",
      "Epoch 90/200\n",
      "160/160 [==============================] - 0s 2ms/step - loss: 0.0189 - accuracy: 1.0000 - val_loss: 0.1293 - val_accuracy: 0.9750\n",
      "Epoch 91/200\n",
      "160/160 [==============================] - 0s 2ms/step - loss: 0.0239 - accuracy: 1.0000 - val_loss: 0.0752 - val_accuracy: 0.9875\n",
      "Epoch 92/200\n",
      "160/160 [==============================] - 0s 3ms/step - loss: 0.0183 - accuracy: 1.0000 - val_loss: 0.1000 - val_accuracy: 0.9750\n",
      "Epoch 93/200\n",
      "160/160 [==============================] - 0s 2ms/step - loss: 0.0184 - accuracy: 1.0000 - val_loss: 0.0953 - val_accuracy: 0.9750\n",
      "Epoch 94/200\n",
      "160/160 [==============================] - 0s 2ms/step - loss: 0.0181 - accuracy: 1.0000 - val_loss: 0.0920 - val_accuracy: 0.9750\n",
      "Epoch 95/200\n",
      "160/160 [==============================] - 0s 2ms/step - loss: 0.0202 - accuracy: 1.0000 - val_loss: 0.1173 - val_accuracy: 0.9750\n",
      "Epoch 96/200\n",
      "160/160 [==============================] - 0s 2ms/step - loss: 0.0202 - accuracy: 1.0000 - val_loss: 0.1077 - val_accuracy: 0.9750\n",
      "Epoch 97/200\n",
      "160/160 [==============================] - 0s 2ms/step - loss: 0.0186 - accuracy: 1.0000 - val_loss: 0.0965 - val_accuracy: 0.9750\n",
      "Epoch 98/200\n",
      "160/160 [==============================] - 0s 2ms/step - loss: 0.0197 - accuracy: 0.9937 - val_loss: 0.0748 - val_accuracy: 0.9750\n",
      "Epoch 99/200\n",
      "160/160 [==============================] - 0s 2ms/step - loss: 0.0219 - accuracy: 0.9937 - val_loss: 0.0570 - val_accuracy: 0.9750\n",
      "Epoch 100/200\n",
      "160/160 [==============================] - 0s 2ms/step - loss: 0.0258 - accuracy: 0.9937 - val_loss: 0.0725 - val_accuracy: 0.9750\n",
      "Epoch 101/200\n",
      "160/160 [==============================] - 0s 2ms/step - loss: 0.0308 - accuracy: 0.9875 - val_loss: 0.2847 - val_accuracy: 0.9250\n",
      "Epoch 102/200\n",
      "160/160 [==============================] - 0s 2ms/step - loss: 0.0427 - accuracy: 0.9750 - val_loss: 0.0753 - val_accuracy: 0.9750\n",
      "Epoch 103/200\n",
      "160/160 [==============================] - 0s 2ms/step - loss: 0.0558 - accuracy: 0.9750 - val_loss: 0.0888 - val_accuracy: 0.9500\n",
      "Epoch 104/200\n",
      "160/160 [==============================] - 0s 2ms/step - loss: 0.0345 - accuracy: 0.9812 - val_loss: 0.0827 - val_accuracy: 0.9875\n",
      "Epoch 105/200\n",
      "160/160 [==============================] - 0s 2ms/step - loss: 0.0153 - accuracy: 1.0000 - val_loss: 0.0728 - val_accuracy: 0.9750\n",
      "Epoch 106/200\n",
      "160/160 [==============================] - 0s 2ms/step - loss: 0.0101 - accuracy: 1.0000 - val_loss: 0.0969 - val_accuracy: 0.9750\n",
      "Epoch 107/200\n",
      "160/160 [==============================] - 0s 2ms/step - loss: 0.0093 - accuracy: 1.0000 - val_loss: 0.0549 - val_accuracy: 0.9750\n",
      "Epoch 108/200\n",
      "160/160 [==============================] - 0s 2ms/step - loss: 0.0090 - accuracy: 1.0000 - val_loss: 0.0666 - val_accuracy: 0.9750\n",
      "Epoch 109/200\n",
      "160/160 [==============================] - 0s 2ms/step - loss: 0.0087 - accuracy: 1.0000 - val_loss: 0.0717 - val_accuracy: 0.9750\n",
      "Epoch 110/200\n",
      "160/160 [==============================] - 0s 2ms/step - loss: 0.0082 - accuracy: 1.0000 - val_loss: 0.0429 - val_accuracy: 0.9750\n",
      "Epoch 111/200\n",
      "160/160 [==============================] - 0s 3ms/step - loss: 0.0070 - accuracy: 1.0000 - val_loss: 0.0609 - val_accuracy: 0.9875\n",
      "Epoch 112/200\n",
      "160/160 [==============================] - 0s 3ms/step - loss: 0.0061 - accuracy: 1.0000 - val_loss: 0.0630 - val_accuracy: 0.9750\n",
      "Epoch 113/200\n",
      "160/160 [==============================] - 0s 3ms/step - loss: 0.0068 - accuracy: 1.0000 - val_loss: 0.0505 - val_accuracy: 1.0000\n",
      "Epoch 114/200\n",
      "160/160 [==============================] - 0s 3ms/step - loss: 0.0620 - accuracy: 0.9750 - val_loss: 0.0510 - val_accuracy: 0.9750\n"
     ]
    },
    {
     "name": "stdout",
     "output_type": "stream",
     "text": [
      "Epoch 115/200\n",
      "160/160 [==============================] - 0s 3ms/step - loss: 0.0159 - accuracy: 1.0000 - val_loss: 0.0506 - val_accuracy: 0.9750\n",
      "Epoch 116/200\n",
      "160/160 [==============================] - 0s 3ms/step - loss: 0.0067 - accuracy: 1.0000 - val_loss: 0.0857 - val_accuracy: 0.9750\n",
      "Epoch 117/200\n",
      "160/160 [==============================] - 1s 4ms/step - loss: 0.0061 - accuracy: 1.0000 - val_loss: 0.0506 - val_accuracy: 0.9750\n",
      "Epoch 118/200\n",
      "160/160 [==============================] - 0s 3ms/step - loss: 0.0071 - accuracy: 1.0000 - val_loss: 0.0419 - val_accuracy: 0.9875\n",
      "Epoch 119/200\n",
      "160/160 [==============================] - 0s 3ms/step - loss: 0.0045 - accuracy: 1.0000 - val_loss: 0.0582 - val_accuracy: 0.9750\n",
      "Epoch 120/200\n",
      "160/160 [==============================] - 0s 3ms/step - loss: 0.0050 - accuracy: 1.0000 - val_loss: 0.0640 - val_accuracy: 0.9750\n",
      "Epoch 121/200\n",
      "160/160 [==============================] - 0s 3ms/step - loss: 0.0045 - accuracy: 1.0000 - val_loss: 0.0627 - val_accuracy: 0.9750\n",
      "Epoch 122/200\n",
      "160/160 [==============================] - 0s 2ms/step - loss: 0.0046 - accuracy: 1.0000 - val_loss: 0.0530 - val_accuracy: 0.9750\n",
      "Epoch 123/200\n",
      "160/160 [==============================] - 0s 3ms/step - loss: 0.0050 - accuracy: 1.0000 - val_loss: 0.0351 - val_accuracy: 0.9875\n",
      "Epoch 124/200\n",
      "160/160 [==============================] - 0s 2ms/step - loss: 0.0039 - accuracy: 1.0000 - val_loss: 0.0434 - val_accuracy: 0.9875\n",
      "Epoch 125/200\n",
      "160/160 [==============================] - 0s 2ms/step - loss: 0.0439 - accuracy: 0.9875 - val_loss: 0.5096 - val_accuracy: 0.8375\n",
      "Epoch 126/200\n",
      "160/160 [==============================] - 0s 2ms/step - loss: 0.0953 - accuracy: 0.9625 - val_loss: 0.0761 - val_accuracy: 0.9750\n",
      "Epoch 127/200\n",
      "160/160 [==============================] - 0s 2ms/step - loss: 0.0152 - accuracy: 1.0000 - val_loss: 0.0571 - val_accuracy: 0.9875\n",
      "Epoch 128/200\n",
      "160/160 [==============================] - 0s 2ms/step - loss: 0.0038 - accuracy: 1.0000 - val_loss: 0.0736 - val_accuracy: 0.9750\n",
      "Epoch 129/200\n",
      "160/160 [==============================] - 0s 3ms/step - loss: 0.0034 - accuracy: 1.0000 - val_loss: 0.0640 - val_accuracy: 0.9875\n",
      "Epoch 130/200\n",
      "160/160 [==============================] - 0s 3ms/step - loss: 0.0030 - accuracy: 1.0000 - val_loss: 0.0652 - val_accuracy: 0.9750\n",
      "Epoch 131/200\n",
      "160/160 [==============================] - 0s 2ms/step - loss: 0.0030 - accuracy: 1.0000 - val_loss: 0.0586 - val_accuracy: 0.9750\n",
      "Epoch 132/200\n",
      "160/160 [==============================] - 0s 2ms/step - loss: 0.0029 - accuracy: 1.0000 - val_loss: 0.0733 - val_accuracy: 0.9750\n",
      "Epoch 133/200\n",
      "160/160 [==============================] - 0s 2ms/step - loss: 0.0038 - accuracy: 1.0000 - val_loss: 0.0698 - val_accuracy: 0.9750\n",
      "Epoch 134/200\n",
      "160/160 [==============================] - 0s 2ms/step - loss: 0.0029 - accuracy: 1.0000 - val_loss: 0.0644 - val_accuracy: 0.9750\n",
      "Epoch 135/200\n",
      "160/160 [==============================] - 0s 2ms/step - loss: 0.0027 - accuracy: 1.0000 - val_loss: 0.0664 - val_accuracy: 0.9750\n",
      "Epoch 136/200\n",
      "160/160 [==============================] - 0s 3ms/step - loss: 0.0029 - accuracy: 1.0000 - val_loss: 0.0640 - val_accuracy: 0.9750\n",
      "Epoch 137/200\n",
      "160/160 [==============================] - 0s 3ms/step - loss: 0.0027 - accuracy: 1.0000 - val_loss: 0.0556 - val_accuracy: 0.9750\n",
      "Epoch 138/200\n",
      "160/160 [==============================] - 0s 2ms/step - loss: 0.0036 - accuracy: 1.0000 - val_loss: 0.0311 - val_accuracy: 0.9875\n",
      "Epoch 139/200\n",
      "160/160 [==============================] - 0s 2ms/step - loss: 0.0027 - accuracy: 1.0000 - val_loss: 0.0491 - val_accuracy: 0.9750\n",
      "Epoch 140/200\n",
      "160/160 [==============================] - 0s 3ms/step - loss: 0.0022 - accuracy: 1.0000 - val_loss: 0.0494 - val_accuracy: 0.9875\n",
      "Epoch 141/200\n",
      "160/160 [==============================] - 0s 3ms/step - loss: 0.0022 - accuracy: 1.0000 - val_loss: 0.0662 - val_accuracy: 0.9625\n",
      "Epoch 142/200\n",
      "160/160 [==============================] - 0s 3ms/step - loss: 0.0056 - accuracy: 1.0000 - val_loss: 0.0430 - val_accuracy: 0.9750\n",
      "Epoch 143/200\n",
      "160/160 [==============================] - 0s 2ms/step - loss: 0.0029 - accuracy: 1.0000 - val_loss: 0.0225 - val_accuracy: 1.0000\n",
      "Epoch 144/200\n",
      "160/160 [==============================] - 0s 3ms/step - loss: 0.0082 - accuracy: 1.0000 - val_loss: 0.0682 - val_accuracy: 0.9750\n",
      "Epoch 145/200\n",
      "160/160 [==============================] - 0s 3ms/step - loss: 0.0047 - accuracy: 1.0000 - val_loss: 0.0439 - val_accuracy: 0.9875\n",
      "Epoch 146/200\n",
      "160/160 [==============================] - 0s 3ms/step - loss: 0.0021 - accuracy: 1.0000 - val_loss: 0.0489 - val_accuracy: 0.9875\n",
      "Epoch 147/200\n",
      "160/160 [==============================] - 0s 3ms/step - loss: 0.0021 - accuracy: 1.0000 - val_loss: 0.0361 - val_accuracy: 0.9875\n",
      "Epoch 148/200\n",
      "160/160 [==============================] - 0s 3ms/step - loss: 0.0024 - accuracy: 1.0000 - val_loss: 0.0486 - val_accuracy: 0.9750\n",
      "Epoch 149/200\n",
      "160/160 [==============================] - 0s 3ms/step - loss: 0.0016 - accuracy: 1.0000 - val_loss: 0.0379 - val_accuracy: 0.9750\n",
      "Epoch 150/200\n",
      "160/160 [==============================] - 0s 3ms/step - loss: 0.0016 - accuracy: 1.0000 - val_loss: 0.0612 - val_accuracy: 0.9750\n",
      "Epoch 151/200\n",
      "160/160 [==============================] - 0s 2ms/step - loss: 0.0016 - accuracy: 1.0000 - val_loss: 0.0350 - val_accuracy: 0.9875\n",
      "Epoch 152/200\n",
      "160/160 [==============================] - 0s 3ms/step - loss: 0.0014 - accuracy: 1.0000 - val_loss: 0.0490 - val_accuracy: 0.9750\n",
      "Epoch 153/200\n",
      "160/160 [==============================] - 0s 2ms/step - loss: 0.0016 - accuracy: 1.0000 - val_loss: 0.0620 - val_accuracy: 0.9875\n",
      "Epoch 154/200\n",
      "160/160 [==============================] - 0s 2ms/step - loss: 0.1382 - accuracy: 0.9688 - val_loss: 0.1927 - val_accuracy: 0.9500\n",
      "Epoch 155/200\n",
      "160/160 [==============================] - 0s 3ms/step - loss: 0.0258 - accuracy: 0.9875 - val_loss: 0.3062 - val_accuracy: 0.9000\n",
      "Epoch 156/200\n",
      "160/160 [==============================] - 0s 3ms/step - loss: 0.0128 - accuracy: 1.0000 - val_loss: 0.0365 - val_accuracy: 0.9875\n",
      "Epoch 157/200\n",
      "160/160 [==============================] - 0s 2ms/step - loss: 0.0013 - accuracy: 1.0000 - val_loss: 0.0374 - val_accuracy: 0.9875\n",
      "Epoch 158/200\n",
      "160/160 [==============================] - 0s 2ms/step - loss: 0.0012 - accuracy: 1.0000 - val_loss: 0.0368 - val_accuracy: 0.9875\n",
      "Epoch 159/200\n",
      "160/160 [==============================] - 0s 2ms/step - loss: 0.0011 - accuracy: 1.0000 - val_loss: 0.0385 - val_accuracy: 0.9875\n",
      "Epoch 160/200\n",
      "160/160 [==============================] - 0s 3ms/step - loss: 0.0011 - accuracy: 1.0000 - val_loss: 0.0345 - val_accuracy: 0.9875\n",
      "Epoch 161/200\n",
      "160/160 [==============================] - 0s 3ms/step - loss: 0.0011 - accuracy: 1.0000 - val_loss: 0.0331 - val_accuracy: 0.9875\n",
      "Epoch 162/200\n",
      "160/160 [==============================] - 0s 3ms/step - loss: 9.8383e-04 - accuracy: 1.0000 - val_loss: 0.0310 - val_accuracy: 0.9875\n",
      "Epoch 163/200\n",
      "160/160 [==============================] - 0s 3ms/step - loss: 9.9168e-04 - accuracy: 1.0000 - val_loss: 0.0309 - val_accuracy: 0.9875\n",
      "Epoch 164/200\n",
      "160/160 [==============================] - 0s 3ms/step - loss: 9.5495e-04 - accuracy: 1.0000 - val_loss: 0.0307 - val_accuracy: 0.9875\n",
      "Epoch 165/200\n",
      "160/160 [==============================] - 0s 2ms/step - loss: 8.8824e-04 - accuracy: 1.0000 - val_loss: 0.0298 - val_accuracy: 0.9875\n",
      "Epoch 166/200\n",
      "160/160 [==============================] - 0s 2ms/step - loss: 9.2486e-04 - accuracy: 1.0000 - val_loss: 0.0318 - val_accuracy: 0.9875\n",
      "Epoch 167/200\n",
      "160/160 [==============================] - 0s 2ms/step - loss: 8.8672e-04 - accuracy: 1.0000 - val_loss: 0.0265 - val_accuracy: 0.9875\n",
      "Epoch 168/200\n",
      "160/160 [==============================] - 0s 2ms/step - loss: 8.7816e-04 - accuracy: 1.0000 - val_loss: 0.0350 - val_accuracy: 0.9875\n",
      "Epoch 169/200\n",
      "160/160 [==============================] - 0s 2ms/step - loss: 8.8124e-04 - accuracy: 1.0000 - val_loss: 0.0346 - val_accuracy: 0.9875\n",
      "Epoch 170/200\n",
      "160/160 [==============================] - 0s 2ms/step - loss: 8.1305e-04 - accuracy: 1.0000 - val_loss: 0.0281 - val_accuracy: 0.9875\n",
      "Epoch 171/200\n"
     ]
    },
    {
     "name": "stdout",
     "output_type": "stream",
     "text": [
      "160/160 [==============================] - 0s 2ms/step - loss: 8.1394e-04 - accuracy: 1.0000 - val_loss: 0.0340 - val_accuracy: 0.9875\n",
      "Epoch 172/200\n",
      "160/160 [==============================] - 0s 3ms/step - loss: 7.6080e-04 - accuracy: 1.0000 - val_loss: 0.0351 - val_accuracy: 0.9875\n",
      "Epoch 173/200\n",
      "160/160 [==============================] - 0s 3ms/step - loss: 7.4528e-04 - accuracy: 1.0000 - val_loss: 0.0367 - val_accuracy: 0.9875\n",
      "Epoch 174/200\n",
      "160/160 [==============================] - 0s 3ms/step - loss: 7.2695e-04 - accuracy: 1.0000 - val_loss: 0.0369 - val_accuracy: 0.9875\n",
      "Epoch 175/200\n",
      "160/160 [==============================] - 0s 3ms/step - loss: 7.5419e-04 - accuracy: 1.0000 - val_loss: 0.0235 - val_accuracy: 0.9875\n",
      "Epoch 176/200\n",
      "160/160 [==============================] - 0s 3ms/step - loss: 7.4729e-04 - accuracy: 1.0000 - val_loss: 0.0332 - val_accuracy: 0.9875\n",
      "Epoch 177/200\n",
      "160/160 [==============================] - 0s 2ms/step - loss: 6.6356e-04 - accuracy: 1.0000 - val_loss: 0.0310 - val_accuracy: 0.9875\n",
      "Epoch 178/200\n",
      "160/160 [==============================] - 0s 2ms/step - loss: 6.4639e-04 - accuracy: 1.0000 - val_loss: 0.0267 - val_accuracy: 0.9875\n",
      "Epoch 179/200\n",
      "160/160 [==============================] - 0s 2ms/step - loss: 8.4885e-04 - accuracy: 1.0000 - val_loss: 0.0354 - val_accuracy: 0.9875\n",
      "Epoch 180/200\n",
      "160/160 [==============================] - 0s 2ms/step - loss: 6.2249e-04 - accuracy: 1.0000 - val_loss: 0.0328 - val_accuracy: 0.9875\n",
      "Epoch 181/200\n",
      "160/160 [==============================] - 0s 2ms/step - loss: 6.6640e-04 - accuracy: 1.0000 - val_loss: 0.0429 - val_accuracy: 0.9875\n",
      "Epoch 182/200\n",
      "160/160 [==============================] - 0s 3ms/step - loss: 6.4437e-04 - accuracy: 1.0000 - val_loss: 0.0388 - val_accuracy: 0.9875\n",
      "Epoch 183/200\n",
      "160/160 [==============================] - 0s 3ms/step - loss: 8.2268e-04 - accuracy: 1.0000 - val_loss: 0.0313 - val_accuracy: 0.9875\n",
      "Epoch 184/200\n",
      "160/160 [==============================] - 0s 2ms/step - loss: 5.1167e-04 - accuracy: 1.0000 - val_loss: 0.0322 - val_accuracy: 0.9875\n",
      "Epoch 185/200\n",
      "160/160 [==============================] - 0s 3ms/step - loss: 6.9588e-04 - accuracy: 1.0000 - val_loss: 0.0422 - val_accuracy: 0.9875\n",
      "Epoch 186/200\n",
      "160/160 [==============================] - 0s 3ms/step - loss: 6.1415e-04 - accuracy: 1.0000 - val_loss: 0.0570 - val_accuracy: 0.9875\n",
      "Epoch 187/200\n",
      "160/160 [==============================] - 0s 2ms/step - loss: 4.3097e-04 - accuracy: 1.0000 - val_loss: 0.0437 - val_accuracy: 0.9875\n",
      "Epoch 188/200\n",
      "160/160 [==============================] - 0s 2ms/step - loss: 6.9767e-04 - accuracy: 1.0000 - val_loss: 0.0282 - val_accuracy: 0.9875\n",
      "Epoch 189/200\n",
      "160/160 [==============================] - 0s 3ms/step - loss: 7.2052e-04 - accuracy: 1.0000 - val_loss: 0.0372 - val_accuracy: 0.9875\n",
      "Epoch 190/200\n",
      "160/160 [==============================] - 0s 2ms/step - loss: 4.7234e-04 - accuracy: 1.0000 - val_loss: 0.0286 - val_accuracy: 0.9875\n",
      "Epoch 191/200\n",
      "160/160 [==============================] - 0s 2ms/step - loss: 0.1019 - accuracy: 0.9812 - val_loss: 0.3419 - val_accuracy: 0.8750\n",
      "Epoch 192/200\n",
      "160/160 [==============================] - 0s 2ms/step - loss: 0.0450 - accuracy: 0.9812 - val_loss: 0.0709 - val_accuracy: 0.9625\n",
      "Epoch 193/200\n",
      "160/160 [==============================] - 0s 3ms/step - loss: 0.0055 - accuracy: 1.0000 - val_loss: 0.0698 - val_accuracy: 0.9750\n",
      "Epoch 194/200\n",
      "160/160 [==============================] - 0s 3ms/step - loss: 0.0016 - accuracy: 1.0000 - val_loss: 0.0579 - val_accuracy: 0.9875\n",
      "Epoch 195/200\n",
      "160/160 [==============================] - 0s 2ms/step - loss: 7.4935e-04 - accuracy: 1.0000 - val_loss: 0.0519 - val_accuracy: 0.9875\n",
      "Epoch 196/200\n",
      "160/160 [==============================] - 0s 3ms/step - loss: 6.1795e-04 - accuracy: 1.0000 - val_loss: 0.0526 - val_accuracy: 0.9875\n",
      "Epoch 197/200\n",
      "160/160 [==============================] - 0s 2ms/step - loss: 5.4206e-04 - accuracy: 1.0000 - val_loss: 0.0491 - val_accuracy: 0.9875\n",
      "Epoch 198/200\n",
      "160/160 [==============================] - 0s 2ms/step - loss: 4.9294e-04 - accuracy: 1.0000 - val_loss: 0.0500 - val_accuracy: 0.9875\n",
      "Epoch 199/200\n",
      "160/160 [==============================] - 0s 3ms/step - loss: 4.5888e-04 - accuracy: 1.0000 - val_loss: 0.0492 - val_accuracy: 0.9875\n",
      "Epoch 200/200\n",
      "160/160 [==============================] - 0s 3ms/step - loss: 4.3116e-04 - accuracy: 1.0000 - val_loss: 0.0507 - val_accuracy: 0.9875\n"
     ]
    }
   ],
   "source": [
    "model = tf.keras.Sequential([\n",
    "        tf.keras.layers.Dense(32, activation='relu'),\n",
    "        tf.keras.layers.Dense(16, activation='relu'),\n",
    "        tf.keras.layers.Dense(len(GESTURES), activation='softmax')\n",
    "    ])\n",
    "    \n",
    "model.compile(optimizer='adam', loss=tf.keras.losses.CategoricalCrossentropy(), metrics=['accuracy'])\n",
    "\n",
    "history = model.fit(i_train, o_train, epochs=EPOCHS, batch_size=1,validation_data=(i_validate, o_validate))\n"
   ]
  },
  {
   "cell_type": "markdown",
   "id": "97375b47",
   "metadata": {},
   "source": [
    "## Review models' performance"
   ]
  },
  {
   "cell_type": "code",
   "execution_count": 7,
   "id": "82f126dd",
   "metadata": {},
   "outputs": [
    {
     "data": {
      "text/plain": [
       "<matplotlib.legend.Legend at 0x213b1d0afa0>"
      ]
     },
     "execution_count": 7,
     "metadata": {},
     "output_type": "execute_result"
    },
    {
     "data": {
      "image/png": "[encoded data removed]",
      "text/plain": [
       "<Figure size 640x480 with 1 Axes>"
      ]
     },
     "metadata": {},
     "output_type": "display_data"
    }
   ],
   "source": [
    "# increase the size of the graphs. The default size is (6,4).\n",
    "# fig, axs = plt.subplots(1, 1, figsize=(9, 9))\n",
    "# fig.tight_layout(pad=3.0)\n",
    "# def plot_model_loss(history, title, i):\n",
    "loss = history.history['loss']\n",
    "val_loss = history.history['val_loss']\n",
    "epochs = range(1, len(loss) + 1)\n",
    "\n",
    "plt.plot(epochs, loss, 'g.', label='Training loss')\n",
    "plt.plot(epochs, val_loss, 'b.', label='Validation loss')\n",
    "plt.title(f's{TARGET_DATA_POINT} train/validate loss')\n",
    "plt.xlabel('Epochs')\n",
    "plt.ylabel('Loss')\n",
    "plt.legend()\n",
    "#     ax.show()\n",
    "\n",
    "# for i, s in enumerate(histories):\n",
    "#     plot_model_loss(histories[s], 'Model s'+ str(s) + ' train/validate loss', i)"
   ]
  },
  {
   "cell_type": "code",
   "execution_count": 8,
   "id": "a95fc7c4",
   "metadata": {},
   "outputs": [
    {
     "data": {
      "text/plain": [
       "<matplotlib.legend.Legend at 0x213ae47afa0>"
      ]
     },
     "execution_count": 8,
     "metadata": {},
     "output_type": "execute_result"
    },
    {
     "data": {
      "image/png": "[encoded data removed]",
      "text/plain": [
       "<Figure size 640x480 with 1 Axes>"
      ]
     },
     "metadata": {},
     "output_type": "display_data"
    }
   ],
   "source": [
    "# increase the size of the graphs. The default size is (6,4).\n",
    "# fig, axs = plt.subplots(1, 1, figsize=(9, 9))\n",
    "# fig.tight_layout(pad=3.0)\n",
    "# def plot_model_accuracy(history, title, i):\n",
    "accuracy = history.history['accuracy']\n",
    "val_accuracy = history.history['val_accuracy']\n",
    "epochs = range(1, len(accuracy) + 1)\n",
    "\n",
    "# ax = axs[0, 0]\n",
    "plt.plot(epochs, accuracy, 'g.', label='Training accuracy')\n",
    "plt.plot(epochs, val_accuracy, 'b.', label='Validation accuracy')\n",
    "plt.title('Accuracy')\n",
    "plt.xlabel('Epochs')\n",
    "plt.ylabel('Accuracy')\n",
    "plt.legend()\n",
    "\n",
    "# for i, s in enumerate(histories):\n",
    "#     plot_model_accuracy(histories[s], 'Model s'+ str(s) + ' accuracy', i)"
   ]
  },
  {
   "cell_type": "code",
   "execution_count": null,
   "id": "c0594df5",
   "metadata": {},
   "outputs": [],
   "source": []
  },
  {
   "cell_type": "markdown",
   "id": "8a3e6107",
   "metadata": {},
   "source": [
    "## Verify models with test data"
   ]
  },
  {
   "cell_type": "code",
   "execution_count": 9,
   "id": "0670869f",
   "metadata": {
    "scrolled": false
   },
   "outputs": [
    {
     "name": "stdout",
     "output_type": "stream",
     "text": [
      "3/3 [==============================] - 0s 2ms/step\n"
     ]
    },
    {
     "data": {
      "text/plain": [
       "Text(33.22222222222222, 0.5, 'Predicted labels')"
      ]
     },
     "execution_count": 9,
     "metadata": {},
     "output_type": "execute_result"
    },
    {
     "data": {
      "image/png": "[encoded data removed]",
      "text/plain": [
       "<Figure size 500x500 with 1 Axes>"
      ]
     },
     "metadata": {},
     "output_type": "display_data"
    }
   ],
   "source": [
    "plt.figure(figsize=(5, 5))\n",
    "predict = model.predict(i_test)\n",
    "conf_mat = confusion_matrix(np.argmax(o_test, axis=1), np.argmax(predict, axis=1))\n",
    "# ax = axs[0,0]\n",
    "sb.heatmap(conf_mat, annot=True, cmap='Blues', fmt='g', cbar=False)\n",
    "plt.title('predict test data')\n",
    "plt.xlabel('Actual labels')\n",
    "plt.ylabel('Predicted labels')\n"
   ]
  },
  {
   "cell_type": "markdown",
   "id": "d987007b",
   "metadata": {},
   "source": [
    "## Produce model file (.tflite)\n",
    "\n",
    "Output both non-quantized and quantized model files\n"
   ]
  },
  {
   "cell_type": "code",
   "execution_count": 10,
   "id": "09a418ce",
   "metadata": {},
   "outputs": [
    {
     "name": "stdout",
     "output_type": "stream",
     "text": [
      "INFO:tensorflow:Assets written to: C:\\Users\\cheew\\AppData\\Local\\Temp\\tmpy4jmfeaf\\assets\n",
      "INFO:tensorflow:Assets written to: C:\\Users\\cheew\\AppData\\Local\\Temp\\tmp4u_g00jj\\assets\n"
     ]
    },
    {
     "name": "stderr",
     "output_type": "stream",
     "text": [
      "INFO:tensorflow:Assets written to: C:\\Users\\cheew\\AppData\\Local\\Temp\\tmp4u_g00jj\\assets\n"
     ]
    },
    {
     "name": "stdout",
     "output_type": "stream",
     "text": [
      "Basic model is 16396 bytes\n",
      "Quantized model is 6576 bytes\n"
     ]
    },
    {
     "name": "stderr",
     "output_type": "stream",
     "text": [
      "C:\\Users\\cheew\\anaconda3\\envs\\tf\\lib\\site-packages\\tensorflow\\lite\\python\\convert.py:766: UserWarning: Statistics for quantized inputs were expected, but not specified; continuing anyway.\n",
      "  warnings.warn(\"Statistics for quantized inputs were expected, but not \"\n"
     ]
    }
   ],
   "source": [
    "def representative_dataset_generator():\n",
    "     # each scalar value inside a 2D array that is wrapped in a list\n",
    "     for value in inputs:\n",
    "         yield [np.array(value, dtype=np.float32, ndmin=2)]\n",
    "\n",
    "TFLITE_FILE = 'tflite/final/gesture_model_f_s' + str(TARGET_DATA_POINT) + '.tflite'\n",
    "TFLITE_FILE_Q = 'tflite/final/gesture_model_f_s' + str(TARGET_DATA_POINT) + 'q.tflite'\n",
    "\n",
    "converter = tf.lite.TFLiteConverter.from_keras_model(model)\n",
    "tflite_model = converter.convert()\n",
    "open(TFLITE_FILE, \"wb\").write(tflite_model)\n",
    "\n",
    "converter_q = tf.lite.TFLiteConverter.from_keras_model(model)\n",
    "converter_q.optimizations = [tf.lite.Optimize.DEFAULT]\n",
    "converter_q.representative_dataset = representative_dataset_generator\n",
    "tflite_model_q = converter_q.convert()\n",
    "open(TFLITE_FILE_Q, \"wb\").write(tflite_model_q)\n",
    "\n",
    "# Review size difference\n",
    "basic_model_size = os.path.getsize(TFLITE_FILE)\n",
    "print(\"Basic model is {} bytes\".format(basic_model_size))\n",
    "\n",
    "basic_model_size_q = os.path.getsize(TFLITE_FILE_Q)\n",
    "print(\"Quantized model is {} bytes\".format(basic_model_size_q))\n"
   ]
  },
  {
   "cell_type": "markdown",
   "id": "957480e4",
   "metadata": {},
   "source": [
    "## Verify the interpreter (.tflite)"
   ]
  },
  {
   "cell_type": "code",
   "execution_count": 11,
   "id": "60cda1ee",
   "metadata": {
    "scrolled": false
   },
   "outputs": [
    {
     "data": {
      "text/plain": [
       "Text(33.22222222222222, 0.5, 'Predicted labels')"
      ]
     },
     "execution_count": 11,
     "metadata": {},
     "output_type": "execute_result"
    },
    {
     "data": {
      "image/png": "[encoded data removed]",
      "text/plain": [
       "<Figure size 500x500 with 1 Axes>"
      ]
     },
     "metadata": {},
     "output_type": "display_data"
    }
   ],
   "source": [
    "\n",
    "TFLITE_FILE = 'tflite/final/gesture_model_f_s' + str(TARGET_DATA_POINT) + '.tflite'\n",
    "model_tf = tf.lite.Interpreter(TFLITE_FILE)\n",
    "model_tf.allocate_tensors()\n",
    "model_tf_input_index = model_tf.get_input_details()[0]['index']\n",
    "model_tf_output_index = model_tf.get_output_details()[0]['index']\n",
    "predict_tf = []\n",
    "for j in i_test:\n",
    "# write the value to the input tensor\n",
    "    i_tensor = tf.convert_to_tensor([j], dtype=tf.float32)\n",
    "    model_tf.set_tensor(model_tf_input_index, i_tensor)\n",
    "    # run inference\n",
    "    model_tf.invoke()\n",
    "    # read the prediction from the output tensor\n",
    "    predict_tf.append(model_tf.get_tensor(model_tf_output_index)[0])\n",
    "\n",
    "conf_mat = confusion_matrix(np.argmax(o_test, axis=1), np.argmax(predict_tf, axis=1))\n",
    "\n",
    "plt.figure(figsize=(5, 5))\n",
    "\n",
    "sb.heatmap(conf_mat, annot=True, cmap='Blues', fmt='g', cbar=False)\n",
    "plt.title(\"Verify tflite performance\")\n",
    "plt.xlabel(\"Actual labels\")\n",
    "plt.ylabel(\"Predicted labels\")\n"
   ]
  },
  {
   "cell_type": "markdown",
   "id": "7752fccc",
   "metadata": {},
   "source": [
    "## Verify the quantized interpreter (.tflite)"
   ]
  },
  {
   "cell_type": "code",
   "execution_count": 12,
   "id": "da067e2b",
   "metadata": {
    "scrolled": false
   },
   "outputs": [
    {
     "data": {
      "text/plain": [
       "Text(33.22222222222222, 0.5, 'Predicted labels')"
      ]
     },
     "execution_count": 12,
     "metadata": {},
     "output_type": "execute_result"
    },
    {
     "data": {
      "image/png": "[encoded data removed]",
      "text/plain": [
       "<Figure size 500x500 with 1 Axes>"
      ]
     },
     "metadata": {},
     "output_type": "display_data"
    }
   ],
   "source": [
    "\n",
    "TFLITE_FILE_Q = 'tflite/final/gesture_model_f_s' + str(TARGET_DATA_POINT) + 'q.tflite'\n",
    "model_tf_q = tf.lite.Interpreter(TFLITE_FILE_Q)\n",
    "model_tf_q.allocate_tensors()\n",
    "model_tf_q_input_index = model_tf_q.get_input_details()[0]['index']\n",
    "model_tf_q_output_index = model_tf_q.get_output_details()[0]['index']\n",
    "predict_tf_q = []\n",
    "for j in i_test:\n",
    "# write the value to the input tensor\n",
    "    i_tensor = tf.convert_to_tensor([j], dtype=tf.float32)\n",
    "    model_tf_q.set_tensor(model_tf_q_input_index, i_tensor)\n",
    "    # run inference\n",
    "    model_tf_q.invoke()\n",
    "    # read the prediction from the output tensor\n",
    "    predict_tf_q.append(model_tf_q.get_tensor(model_tf_q_output_index)[0])\n",
    "\n",
    "conf_mat = confusion_matrix(np.argmax(o_test, axis=1), np.argmax(predict_tf_q, axis=1))\n",
    "plt.figure(figsize=(5, 5))\n",
    "\n",
    "sb.heatmap(conf_mat, annot=True, cmap='Blues', fmt='g', cbar=False)\n",
    "plt.title(\"Verify tflite quantized performance\")\n",
    "plt.xlabel(\"Actual labels\")\n",
    "plt.ylabel(\"Predicted labels\")\n"
   ]
  },
  {
   "cell_type": "markdown",
   "id": "0f8e95d9",
   "metadata": {},
   "source": [
    "## Produce the model header file"
   ]
  },
  {
   "cell_type": "code",
   "execution_count": 13,
   "id": "9833a857",
   "metadata": {},
   "outputs": [],
   "source": [
    "# to run below command, ensure jupyter notebook is launched under unix-based CLI\n",
    "TFLITE_FILE = 'tflite/final/gesture_model_f_s' + str(TARGET_DATA_POINT) + '.tflite'\n",
    "TFLITE_FILE_Q = 'tflite/final/gesture_model_f_s' + str(TARGET_DATA_POINT) + 'q.tflite'\n",
    "\n",
    "HEADER_FILE = '../ble_client/final/gesture_model_f_s' + str(TARGET_DATA_POINT) + '.h'\n",
    "HEADER_FILE_Q = '../ble_client/final/gesture_model_f_s' + str(TARGET_DATA_POINT) + 'q.h'\n",
    "# based model header file\n",
    "str1 = \"const unsigned char {} [] = {{\".format('gesture_model')\n",
    "str2 = \"};\"\n",
    "\n",
    "!echo {str1}  > {HEADER_FILE}\n",
    "!cat {TFLITE_FILE} | xxd -i >> {HEADER_FILE}\n",
    "!echo {str2} >> {HEADER_FILE}\n",
    "\n",
    "# quantized model header file\n",
    "str3 = \"const unsigned char {} [] = {{\".format('gesture_model_q')\n",
    "\n",
    "!echo {str3}  > {HEADER_FILE_Q}\n",
    "!cat {TFLITE_FILE_Q} | xxd -i >> {HEADER_FILE_Q}\n",
    "!echo {str2} >> {HEADER_FILE_Q}"
   ]
  },
  {
   "cell_type": "code",
   "execution_count": null,
   "id": "99db6683",
   "metadata": {},
   "outputs": [],
   "source": []
  },
  {
   "cell_type": "code",
   "execution_count": null,
   "id": "2acdb001",
   "metadata": {},
   "outputs": [],
   "source": []
  },
  {
   "cell_type": "code",
   "execution_count": null,
   "id": "e01164f0",
   "metadata": {},
   "outputs": [],
   "source": []
  },
  {
   "cell_type": "code",
   "execution_count": null,
   "id": "3868ef14",
   "metadata": {},
   "outputs": [],
   "source": []
  },
  {
   "cell_type": "code",
   "execution_count": null,
   "id": "ccbfe3df",
   "metadata": {},
   "outputs": [],
   "source": []
  },
  {
   "cell_type": "code",
   "execution_count": null,
   "id": "0a22137d",
   "metadata": {},
   "outputs": [],
   "source": []
  }
 ],
 "metadata": {
  "kernelspec": {
   "display_name": "Python 3 (ipykernel)",
   "language": "python",
   "name": "python3"
  },
  "language_info": {
   "codemirror_mode": {
    "name": "ipython",
    "version": 3
   },
   "file_extension": ".py",
   "mimetype": "text/x-python",
   "name": "python",
   "nbconvert_exporter": "python",
   "pygments_lexer": "ipython3",
   "version": "3.9.15"
  }
 },
 "nbformat": 4,
 "nbformat_minor": 5
}
