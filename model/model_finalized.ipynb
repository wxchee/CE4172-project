{
 "cells": [
  {
   "cell_type": "code",
   "execution_count": 1,
   "id": "643e3ddd",
   "metadata": {},
   "outputs": [],
   "source": [
    "import numpy as np\n",
    "import tensorflow as tf\n",
    "import matplotlib.pyplot as plt\n",
    "import math\n",
    "import pandas as pd\n",
    "\n",
    "from sklearn.metrics import confusion_matrix\n",
    "import seaborn as sb"
   ]
  },
  {
   "cell_type": "code",
   "execution_count": 2,
   "id": "6a7eb85b",
   "metadata": {},
   "outputs": [],
   "source": [
    "# define constant\n",
    "\n",
    "FOLDER = 'datas/s40d30t1.6/'\n",
    "GESTURES = [\"topl\", \"twistl\", \"side\", \"downl\", \"twistr\", \"topr\", \"downr\",\"unknown\"]\n",
    "\n",
    "DATA_POINT_PER_GESTURE = 30\n",
    "\n",
    "TARGET_DATA_POINT = 15\n",
    "\n",
    "SEED = 1337\n",
    "np.random.seed(SEED)\n",
    "tf.random.set_seed(SEED)"
   ]
  },
  {
   "cell_type": "markdown",
   "id": "79e868e5",
   "metadata": {},
   "source": [
    "## Process data"
   ]
  },
  {
   "cell_type": "code",
   "execution_count": 3,
   "id": "7d09d1f8",
   "metadata": {},
   "outputs": [
    {
     "name": "stdout",
     "output_type": "stream",
     "text": [
      "Processing 0 for gesture 'topl'.\n",
      "Processing 1 for gesture 'twistl'.\n",
      "Processing 2 for gesture 'side'.\n",
      "Processing 3 for gesture 'downl'.\n",
      "Processing 4 for gesture 'twistr'.\n",
      "Processing 5 for gesture 'topr'.\n",
      "Processing 6 for gesture 'downr'.\n",
      "Processing 7 for gesture 'unknown'.\n"
     ]
    }
   ],
   "source": [
    "inputs = []\n",
    "outputs = []\n",
    "\n",
    "ONE_HOTS = np.eye(len(GESTURES))\n",
    "\n",
    "for i in range(len(GESTURES)):\n",
    "    g = GESTURES[i]\n",
    "    print(f\"Processing {i} for gesture '{g}'.\")\n",
    "\n",
    "    output = ONE_HOTS[i]\n",
    "\n",
    "    df = pd.read_csv(FOLDER + g + '.csv')\n",
    "    num_recordings = int(df.shape[0] / DATA_POINT_PER_GESTURE)\n",
    "\n",
    "    for j in range(num_recordings):\n",
    "        tensor = []\n",
    "        \n",
    "        for k in range(DATA_POINT_PER_GESTURE):\n",
    "            kk = j * DATA_POINT_PER_GESTURE + k\n",
    "            if k < TARGET_DATA_POINT:\n",
    "                tensor += [df['aX'][kk], df['aY'][kk], df['aZ'][kk], df['gX'][kk], df['gY'][kk], df['gZ'][kk]]\n",
    "        \n",
    "        inputs.append(tensor)\n",
    "        outputs.append(output)\n",
    "\n"
   ]
  },
  {
   "cell_type": "markdown",
   "id": "5253bdb7",
   "metadata": {},
   "source": [
    "## Create train/validate/test datas"
   ]
  },
  {
   "cell_type": "code",
   "execution_count": 4,
   "id": "14ee4ce3",
   "metadata": {},
   "outputs": [],
   "source": [
    "rdm_index = np.arange(len(inputs))\n",
    "np.random.shuffle(rdm_index)\n",
    "\n",
    "inputs = np.array(inputs)[rdm_index]\n",
    "outputs = np.array(outputs)[rdm_index]\n",
    "\n",
    "TRAIN_SPLIT = int(0.5 * len(inputs))\n",
    "TEST_SPLIT = int(TRAIN_SPLIT + 0.25 * len(inputs))\n",
    "i_train, i_validate, i_test = np.split(inputs, [TRAIN_SPLIT, TEST_SPLIT])\n",
    "o_train, o_validate, o_test = np.split(outputs, [TRAIN_SPLIT, TEST_SPLIT])\n",
    "\n",
    "i_train = tf.convert_to_tensor(i_train, dtype=tf.float32)\n",
    "o_train = tf.convert_to_tensor(o_train, dtype=tf.float32)\n",
    "i_validate = tf.convert_to_tensor(i_validate, dtype=tf.float32)\n",
    "o_validate = tf.convert_to_tensor(o_validate, dtype=tf.float32)\n",
    "\n",
    "i_test = tf.convert_to_tensor(i_test, dtype=tf.float32)"
   ]
  },
  {
   "cell_type": "markdown",
   "id": "cb22253c",
   "metadata": {},
   "source": [
    "## Build and train model"
   ]
  },
  {
   "cell_type": "code",
   "execution_count": 5,
   "id": "7fb1c4f1",
   "metadata": {},
   "outputs": [],
   "source": [
    "import os\n",
    "os.environ['KMP_DUPLICATE_LIB_OK']=\"TRUE\"\n",
    "\n",
    "EPOCHS=200"
   ]
  },
  {
   "cell_type": "code",
   "execution_count": 6,
   "id": "2f82223b",
   "metadata": {},
   "outputs": [
    {
     "name": "stdout",
     "output_type": "stream",
     "text": [
      "Epoch 1/150\n",
      "160/160 [==============================] - 1s 3ms/step - loss: 2.0077 - accuracy: 0.3125 - val_loss: 1.7592 - val_accuracy: 0.5500\n",
      "Epoch 2/150\n",
      "160/160 [==============================] - 0s 3ms/step - loss: 1.5113 - accuracy: 0.5500 - val_loss: 1.3084 - val_accuracy: 0.6750\n",
      "Epoch 3/150\n",
      "160/160 [==============================] - 0s 2ms/step - loss: 1.0575 - accuracy: 0.7312 - val_loss: 1.0580 - val_accuracy: 0.6625\n",
      "Epoch 4/150\n",
      "160/160 [==============================] - 0s 2ms/step - loss: 0.8585 - accuracy: 0.7250 - val_loss: 1.0475 - val_accuracy: 0.6250\n",
      "Epoch 5/150\n",
      "160/160 [==============================] - 0s 2ms/step - loss: 0.6674 - accuracy: 0.8188 - val_loss: 0.6524 - val_accuracy: 0.8750\n",
      "Epoch 6/150\n",
      "160/160 [==============================] - 0s 2ms/step - loss: 0.5596 - accuracy: 0.8375 - val_loss: 0.7291 - val_accuracy: 0.7625\n",
      "Epoch 7/150\n",
      "160/160 [==============================] - 0s 2ms/step - loss: 0.4883 - accuracy: 0.8500 - val_loss: 0.5050 - val_accuracy: 0.8750\n",
      "Epoch 8/150\n",
      "160/160 [==============================] - 0s 2ms/step - loss: 0.4679 - accuracy: 0.8500 - val_loss: 0.4782 - val_accuracy: 0.8250\n",
      "Epoch 9/150\n",
      "160/160 [==============================] - 0s 2ms/step - loss: 0.4038 - accuracy: 0.8813 - val_loss: 0.4119 - val_accuracy: 0.8250\n",
      "Epoch 10/150\n",
      "160/160 [==============================] - 0s 2ms/step - loss: 0.3732 - accuracy: 0.8750 - val_loss: 0.3440 - val_accuracy: 0.9375\n",
      "Epoch 11/150\n",
      "160/160 [==============================] - 0s 2ms/step - loss: 0.3596 - accuracy: 0.8625 - val_loss: 0.3604 - val_accuracy: 0.8875\n",
      "Epoch 12/150\n",
      "160/160 [==============================] - 0s 2ms/step - loss: 0.3148 - accuracy: 0.9125 - val_loss: 0.4201 - val_accuracy: 0.8750\n",
      "Epoch 13/150\n",
      "160/160 [==============================] - 0s 2ms/step - loss: 0.3004 - accuracy: 0.9000 - val_loss: 0.3553 - val_accuracy: 0.8250\n",
      "Epoch 14/150\n",
      "160/160 [==============================] - 0s 2ms/step - loss: 0.2847 - accuracy: 0.9250 - val_loss: 0.2859 - val_accuracy: 0.9125\n",
      "Epoch 15/150\n",
      "160/160 [==============================] - 0s 2ms/step - loss: 0.2777 - accuracy: 0.8875 - val_loss: 0.2641 - val_accuracy: 0.9375\n",
      "Epoch 16/150\n",
      "160/160 [==============================] - 0s 2ms/step - loss: 0.2570 - accuracy: 0.9000 - val_loss: 0.3060 - val_accuracy: 0.8875\n",
      "Epoch 17/150\n",
      "160/160 [==============================] - 0s 2ms/step - loss: 0.2345 - accuracy: 0.9312 - val_loss: 0.2893 - val_accuracy: 0.9000\n",
      "Epoch 18/150\n",
      "160/160 [==============================] - 0s 2ms/step - loss: 0.2450 - accuracy: 0.9062 - val_loss: 0.2186 - val_accuracy: 0.9375\n",
      "Epoch 19/150\n",
      "160/160 [==============================] - 0s 2ms/step - loss: 0.1938 - accuracy: 0.9500 - val_loss: 0.2259 - val_accuracy: 0.9375\n",
      "Epoch 20/150\n",
      "160/160 [==============================] - 0s 2ms/step - loss: 0.2380 - accuracy: 0.9187 - val_loss: 0.2669 - val_accuracy: 0.9500\n",
      "Epoch 21/150\n",
      "160/160 [==============================] - 0s 2ms/step - loss: 0.1916 - accuracy: 0.9375 - val_loss: 0.1882 - val_accuracy: 0.9500\n",
      "Epoch 22/150\n",
      "160/160 [==============================] - 0s 2ms/step - loss: 0.1790 - accuracy: 0.9375 - val_loss: 0.1811 - val_accuracy: 0.9250\n",
      "Epoch 23/150\n",
      "160/160 [==============================] - 0s 2ms/step - loss: 0.2135 - accuracy: 0.9250 - val_loss: 0.3044 - val_accuracy: 0.9000\n",
      "Epoch 24/150\n",
      "160/160 [==============================] - 0s 3ms/step - loss: 0.1593 - accuracy: 0.9500 - val_loss: 0.2120 - val_accuracy: 0.9375\n",
      "Epoch 25/150\n",
      "160/160 [==============================] - 0s 2ms/step - loss: 0.1410 - accuracy: 0.9625 - val_loss: 0.1621 - val_accuracy: 0.9500\n",
      "Epoch 26/150\n",
      "160/160 [==============================] - 0s 2ms/step - loss: 0.1647 - accuracy: 0.9375 - val_loss: 0.1670 - val_accuracy: 0.9500\n",
      "Epoch 27/150\n",
      "160/160 [==============================] - 0s 2ms/step - loss: 0.1195 - accuracy: 0.9563 - val_loss: 0.1444 - val_accuracy: 0.9625\n",
      "Epoch 28/150\n",
      "160/160 [==============================] - 0s 2ms/step - loss: 0.1545 - accuracy: 0.9250 - val_loss: 0.1103 - val_accuracy: 1.0000\n",
      "Epoch 29/150\n",
      "160/160 [==============================] - 0s 2ms/step - loss: 0.1158 - accuracy: 0.9812 - val_loss: 0.1163 - val_accuracy: 0.9875\n",
      "Epoch 30/150\n",
      "160/160 [==============================] - 0s 2ms/step - loss: 0.1233 - accuracy: 0.9563 - val_loss: 0.2886 - val_accuracy: 0.8625\n",
      "Epoch 31/150\n",
      "160/160 [==============================] - 0s 2ms/step - loss: 0.1346 - accuracy: 0.9563 - val_loss: 0.1076 - val_accuracy: 0.9875\n",
      "Epoch 32/150\n",
      "160/160 [==============================] - 0s 2ms/step - loss: 0.1117 - accuracy: 0.9812 - val_loss: 0.0903 - val_accuracy: 0.9875\n",
      "Epoch 33/150\n",
      "160/160 [==============================] - 0s 2ms/step - loss: 0.0827 - accuracy: 0.9750 - val_loss: 0.1172 - val_accuracy: 0.9625\n",
      "Epoch 34/150\n",
      "160/160 [==============================] - 0s 2ms/step - loss: 0.0735 - accuracy: 0.9750 - val_loss: 0.1932 - val_accuracy: 0.9250\n",
      "Epoch 35/150\n",
      "160/160 [==============================] - 0s 2ms/step - loss: 0.0799 - accuracy: 0.9812 - val_loss: 0.1450 - val_accuracy: 0.9625\n",
      "Epoch 36/150\n",
      "160/160 [==============================] - 0s 2ms/step - loss: 0.0856 - accuracy: 0.9750 - val_loss: 0.1505 - val_accuracy: 0.9250\n",
      "Epoch 37/150\n",
      "160/160 [==============================] - 0s 2ms/step - loss: 0.0718 - accuracy: 0.9812 - val_loss: 0.0787 - val_accuracy: 0.9875\n",
      "Epoch 38/150\n",
      "160/160 [==============================] - 0s 2ms/step - loss: 0.1250 - accuracy: 0.9375 - val_loss: 0.3386 - val_accuracy: 0.8875\n",
      "Epoch 39/150\n",
      "160/160 [==============================] - 0s 2ms/step - loss: 0.0828 - accuracy: 0.9688 - val_loss: 0.0799 - val_accuracy: 0.9875\n",
      "Epoch 40/150\n",
      "160/160 [==============================] - 0s 2ms/step - loss: 0.0577 - accuracy: 0.9875 - val_loss: 0.0844 - val_accuracy: 0.9625\n",
      "Epoch 41/150\n",
      "160/160 [==============================] - 0s 2ms/step - loss: 0.0739 - accuracy: 0.9812 - val_loss: 0.0983 - val_accuracy: 0.9625\n",
      "Epoch 42/150\n",
      "160/160 [==============================] - 0s 2ms/step - loss: 0.0658 - accuracy: 0.9812 - val_loss: 0.0718 - val_accuracy: 0.9875\n",
      "Epoch 43/150\n",
      "160/160 [==============================] - 0s 2ms/step - loss: 0.0503 - accuracy: 0.9937 - val_loss: 0.0621 - val_accuracy: 0.9875\n",
      "Epoch 44/150\n",
      "160/160 [==============================] - 0s 2ms/step - loss: 0.0367 - accuracy: 1.0000 - val_loss: 0.0598 - val_accuracy: 0.9875\n",
      "Epoch 45/150\n",
      "160/160 [==============================] - 0s 2ms/step - loss: 0.0454 - accuracy: 0.9875 - val_loss: 0.1161 - val_accuracy: 0.9875\n",
      "Epoch 46/150\n",
      "160/160 [==============================] - 0s 2ms/step - loss: 0.0483 - accuracy: 0.9875 - val_loss: 0.0484 - val_accuracy: 0.9875\n",
      "Epoch 47/150\n",
      "160/160 [==============================] - 0s 2ms/step - loss: 0.0559 - accuracy: 0.9812 - val_loss: 0.0706 - val_accuracy: 0.9875\n",
      "Epoch 48/150\n",
      "160/160 [==============================] - 0s 3ms/step - loss: 0.0579 - accuracy: 0.9812 - val_loss: 0.0700 - val_accuracy: 0.9750\n",
      "Epoch 49/150\n",
      "160/160 [==============================] - 0s 3ms/step - loss: 0.0342 - accuracy: 0.9812 - val_loss: 0.1088 - val_accuracy: 0.9625\n",
      "Epoch 50/150\n",
      "160/160 [==============================] - 0s 3ms/step - loss: 0.0286 - accuracy: 0.9937 - val_loss: 0.0841 - val_accuracy: 0.9750\n",
      "Epoch 51/150\n",
      "160/160 [==============================] - 0s 3ms/step - loss: 0.0734 - accuracy: 0.9750 - val_loss: 0.2350 - val_accuracy: 0.9500\n",
      "Epoch 52/150\n",
      "160/160 [==============================] - 0s 3ms/step - loss: 0.0420 - accuracy: 0.9812 - val_loss: 0.0810 - val_accuracy: 0.9625\n",
      "Epoch 53/150\n",
      "160/160 [==============================] - 0s 3ms/step - loss: 0.0228 - accuracy: 0.9937 - val_loss: 0.0736 - val_accuracy: 0.9750\n",
      "Epoch 54/150\n",
      "160/160 [==============================] - 0s 3ms/step - loss: 0.0833 - accuracy: 0.9688 - val_loss: 0.0522 - val_accuracy: 1.0000\n",
      "Epoch 55/150\n",
      "160/160 [==============================] - 0s 3ms/step - loss: 0.0165 - accuracy: 1.0000 - val_loss: 0.0474 - val_accuracy: 0.9875\n",
      "Epoch 56/150\n",
      "160/160 [==============================] - 0s 3ms/step - loss: 0.0146 - accuracy: 1.0000 - val_loss: 0.0683 - val_accuracy: 0.9875\n",
      "Epoch 57/150\n",
      "160/160 [==============================] - 0s 3ms/step - loss: 0.0120 - accuracy: 1.0000 - val_loss: 0.0437 - val_accuracy: 0.9875\n"
     ]
    },
    {
     "name": "stdout",
     "output_type": "stream",
     "text": [
      "Epoch 58/150\n",
      "160/160 [==============================] - 1s 3ms/step - loss: 0.0374 - accuracy: 0.9937 - val_loss: 0.0280 - val_accuracy: 0.9875\n",
      "Epoch 59/150\n",
      "160/160 [==============================] - 0s 3ms/step - loss: 0.0114 - accuracy: 1.0000 - val_loss: 0.0336 - val_accuracy: 0.9875\n",
      "Epoch 60/150\n",
      "160/160 [==============================] - 0s 3ms/step - loss: 0.0083 - accuracy: 1.0000 - val_loss: 0.0447 - val_accuracy: 0.9875\n",
      "Epoch 61/150\n",
      "160/160 [==============================] - 0s 3ms/step - loss: 0.0081 - accuracy: 1.0000 - val_loss: 0.0492 - val_accuracy: 0.9875\n",
      "Epoch 62/150\n",
      "160/160 [==============================] - 0s 3ms/step - loss: 0.0597 - accuracy: 0.9812 - val_loss: 0.0622 - val_accuracy: 0.9750\n",
      "Epoch 63/150\n",
      "160/160 [==============================] - 0s 3ms/step - loss: 0.0639 - accuracy: 0.9812 - val_loss: 0.0580 - val_accuracy: 0.9875\n",
      "Epoch 64/150\n",
      "160/160 [==============================] - 0s 3ms/step - loss: 0.0113 - accuracy: 1.0000 - val_loss: 0.0400 - val_accuracy: 0.9875\n",
      "Epoch 65/150\n",
      "160/160 [==============================] - 0s 2ms/step - loss: 0.0072 - accuracy: 1.0000 - val_loss: 0.0557 - val_accuracy: 0.9875\n",
      "Epoch 66/150\n",
      "160/160 [==============================] - 0s 3ms/step - loss: 0.0075 - accuracy: 1.0000 - val_loss: 0.0414 - val_accuracy: 0.9875\n",
      "Epoch 67/150\n",
      "160/160 [==============================] - 0s 3ms/step - loss: 0.0053 - accuracy: 1.0000 - val_loss: 0.0411 - val_accuracy: 0.9875\n",
      "Epoch 68/150\n",
      "160/160 [==============================] - 0s 2ms/step - loss: 0.0086 - accuracy: 1.0000 - val_loss: 0.0532 - val_accuracy: 0.9875\n",
      "Epoch 69/150\n",
      "160/160 [==============================] - 0s 3ms/step - loss: 0.0041 - accuracy: 1.0000 - val_loss: 0.0308 - val_accuracy: 0.9875\n",
      "Epoch 70/150\n",
      "160/160 [==============================] - 0s 2ms/step - loss: 0.0045 - accuracy: 1.0000 - val_loss: 0.0406 - val_accuracy: 0.9875\n",
      "Epoch 71/150\n",
      "160/160 [==============================] - 0s 3ms/step - loss: 0.0049 - accuracy: 1.0000 - val_loss: 0.0594 - val_accuracy: 0.9875\n",
      "Epoch 72/150\n",
      "160/160 [==============================] - 0s 2ms/step - loss: 0.0044 - accuracy: 1.0000 - val_loss: 0.0253 - val_accuracy: 0.9875\n",
      "Epoch 73/150\n",
      "160/160 [==============================] - 0s 3ms/step - loss: 0.1461 - accuracy: 0.9500 - val_loss: 0.0876 - val_accuracy: 0.9500\n",
      "Epoch 74/150\n",
      "160/160 [==============================] - 0s 2ms/step - loss: 0.0609 - accuracy: 0.9812 - val_loss: 0.1050 - val_accuracy: 0.9625\n",
      "Epoch 75/150\n",
      "160/160 [==============================] - 0s 3ms/step - loss: 0.0560 - accuracy: 0.9875 - val_loss: 0.0471 - val_accuracy: 0.9875\n",
      "Epoch 76/150\n",
      "160/160 [==============================] - 0s 3ms/step - loss: 0.0075 - accuracy: 1.0000 - val_loss: 0.0346 - val_accuracy: 0.9875\n",
      "Epoch 77/150\n",
      "160/160 [==============================] - 0s 3ms/step - loss: 0.0040 - accuracy: 1.0000 - val_loss: 0.0407 - val_accuracy: 0.9875\n",
      "Epoch 78/150\n",
      "160/160 [==============================] - 0s 3ms/step - loss: 0.0036 - accuracy: 1.0000 - val_loss: 0.0376 - val_accuracy: 0.9875\n",
      "Epoch 79/150\n",
      "160/160 [==============================] - 0s 2ms/step - loss: 0.0036 - accuracy: 1.0000 - val_loss: 0.0360 - val_accuracy: 0.9875\n",
      "Epoch 80/150\n",
      "160/160 [==============================] - 0s 2ms/step - loss: 0.0034 - accuracy: 1.0000 - val_loss: 0.0357 - val_accuracy: 0.9875\n",
      "Epoch 81/150\n",
      "160/160 [==============================] - 0s 3ms/step - loss: 0.0029 - accuracy: 1.0000 - val_loss: 0.0374 - val_accuracy: 0.9875\n",
      "Epoch 82/150\n",
      "160/160 [==============================] - 0s 3ms/step - loss: 0.0029 - accuracy: 1.0000 - val_loss: 0.0387 - val_accuracy: 0.9875\n",
      "Epoch 83/150\n",
      "160/160 [==============================] - 0s 3ms/step - loss: 0.0027 - accuracy: 1.0000 - val_loss: 0.0459 - val_accuracy: 0.9875\n",
      "Epoch 84/150\n",
      "160/160 [==============================] - 0s 2ms/step - loss: 0.0029 - accuracy: 1.0000 - val_loss: 0.0353 - val_accuracy: 0.9875\n",
      "Epoch 85/150\n",
      "160/160 [==============================] - 0s 2ms/step - loss: 0.0022 - accuracy: 1.0000 - val_loss: 0.0394 - val_accuracy: 0.9875\n",
      "Epoch 86/150\n",
      "160/160 [==============================] - 0s 3ms/step - loss: 0.0022 - accuracy: 1.0000 - val_loss: 0.0332 - val_accuracy: 0.9875\n",
      "Epoch 87/150\n",
      "160/160 [==============================] - 0s 2ms/step - loss: 0.0019 - accuracy: 1.0000 - val_loss: 0.0302 - val_accuracy: 0.9875\n",
      "Epoch 88/150\n",
      "160/160 [==============================] - 0s 2ms/step - loss: 0.0018 - accuracy: 1.0000 - val_loss: 0.0310 - val_accuracy: 0.9875\n",
      "Epoch 89/150\n",
      "160/160 [==============================] - 0s 2ms/step - loss: 0.0017 - accuracy: 1.0000 - val_loss: 0.0470 - val_accuracy: 0.9875\n",
      "Epoch 90/150\n",
      "160/160 [==============================] - 0s 2ms/step - loss: 0.0018 - accuracy: 1.0000 - val_loss: 0.0421 - val_accuracy: 0.9875\n",
      "Epoch 91/150\n",
      "160/160 [==============================] - 0s 3ms/step - loss: 0.0018 - accuracy: 1.0000 - val_loss: 0.0339 - val_accuracy: 0.9875\n",
      "Epoch 92/150\n",
      "160/160 [==============================] - 0s 3ms/step - loss: 0.0018 - accuracy: 1.0000 - val_loss: 0.0379 - val_accuracy: 0.9875\n",
      "Epoch 93/150\n",
      "160/160 [==============================] - 0s 2ms/step - loss: 0.0014 - accuracy: 1.0000 - val_loss: 0.0288 - val_accuracy: 0.9875\n",
      "Epoch 94/150\n",
      "160/160 [==============================] - 0s 2ms/step - loss: 0.0013 - accuracy: 1.0000 - val_loss: 0.0461 - val_accuracy: 0.9875\n",
      "Epoch 95/150\n",
      "160/160 [==============================] - 0s 2ms/step - loss: 0.0018 - accuracy: 1.0000 - val_loss: 0.0443 - val_accuracy: 0.9875\n",
      "Epoch 96/150\n",
      "160/160 [==============================] - 0s 3ms/step - loss: 0.2149 - accuracy: 0.9312 - val_loss: 0.0485 - val_accuracy: 0.9875\n",
      "Epoch 97/150\n",
      "160/160 [==============================] - 0s 3ms/step - loss: 0.0171 - accuracy: 1.0000 - val_loss: 0.1540 - val_accuracy: 0.9500\n",
      "Epoch 98/150\n",
      "160/160 [==============================] - 0s 2ms/step - loss: 0.0951 - accuracy: 0.9812 - val_loss: 0.0338 - val_accuracy: 0.9875\n",
      "Epoch 99/150\n",
      "160/160 [==============================] - 1s 3ms/step - loss: 0.0054 - accuracy: 1.0000 - val_loss: 0.0228 - val_accuracy: 0.9875\n",
      "Epoch 100/150\n",
      "160/160 [==============================] - 0s 3ms/step - loss: 0.0028 - accuracy: 1.0000 - val_loss: 0.0196 - val_accuracy: 0.9875\n",
      "Epoch 101/150\n",
      "160/160 [==============================] - 0s 3ms/step - loss: 0.0024 - accuracy: 1.0000 - val_loss: 0.0183 - val_accuracy: 0.9875\n",
      "Epoch 102/150\n",
      "160/160 [==============================] - 0s 3ms/step - loss: 0.0022 - accuracy: 1.0000 - val_loss: 0.0155 - val_accuracy: 1.0000\n",
      "Epoch 103/150\n",
      "160/160 [==============================] - 0s 3ms/step - loss: 0.0019 - accuracy: 1.0000 - val_loss: 0.0223 - val_accuracy: 0.9875\n",
      "Epoch 104/150\n",
      "160/160 [==============================] - 1s 3ms/step - loss: 0.0018 - accuracy: 1.0000 - val_loss: 0.0217 - val_accuracy: 0.9875\n",
      "Epoch 105/150\n",
      "160/160 [==============================] - 1s 3ms/step - loss: 0.0017 - accuracy: 1.0000 - val_loss: 0.0256 - val_accuracy: 0.9875\n",
      "Epoch 106/150\n",
      "160/160 [==============================] - 1s 3ms/step - loss: 0.0015 - accuracy: 1.0000 - val_loss: 0.0187 - val_accuracy: 0.9875\n",
      "Epoch 107/150\n",
      "160/160 [==============================] - 1s 3ms/step - loss: 0.0015 - accuracy: 1.0000 - val_loss: 0.0181 - val_accuracy: 0.9875\n",
      "Epoch 108/150\n",
      "160/160 [==============================] - 1s 3ms/step - loss: 0.0012 - accuracy: 1.0000 - val_loss: 0.0254 - val_accuracy: 0.9875\n",
      "Epoch 109/150\n",
      "160/160 [==============================] - 1s 4ms/step - loss: 0.0012 - accuracy: 1.0000 - val_loss: 0.0196 - val_accuracy: 0.9875\n",
      "Epoch 110/150\n",
      "160/160 [==============================] - 0s 3ms/step - loss: 0.0011 - accuracy: 1.0000 - val_loss: 0.0201 - val_accuracy: 0.9875\n",
      "Epoch 111/150\n",
      "160/160 [==============================] - 1s 3ms/step - loss: 0.0011 - accuracy: 1.0000 - val_loss: 0.0204 - val_accuracy: 0.9875\n",
      "Epoch 112/150\n",
      "160/160 [==============================] - 0s 3ms/step - loss: 0.0011 - accuracy: 1.0000 - val_loss: 0.0294 - val_accuracy: 0.9875\n",
      "Epoch 113/150\n",
      "160/160 [==============================] - 1s 3ms/step - loss: 0.0010 - accuracy: 1.0000 - val_loss: 0.0162 - val_accuracy: 0.9875\n",
      "Epoch 114/150\n",
      "160/160 [==============================] - 0s 3ms/step - loss: 0.0011 - accuracy: 1.0000 - val_loss: 0.0282 - val_accuracy: 0.9875\n"
     ]
    },
    {
     "name": "stdout",
     "output_type": "stream",
     "text": [
      "Epoch 115/150\n",
      "160/160 [==============================] - 0s 3ms/step - loss: 9.4235e-04 - accuracy: 1.0000 - val_loss: 0.0234 - val_accuracy: 0.9875\n",
      "Epoch 116/150\n",
      "160/160 [==============================] - 0s 3ms/step - loss: 8.6254e-04 - accuracy: 1.0000 - val_loss: 0.0341 - val_accuracy: 0.9875\n",
      "Epoch 117/150\n",
      "160/160 [==============================] - 0s 3ms/step - loss: 9.1771e-04 - accuracy: 1.0000 - val_loss: 0.0307 - val_accuracy: 0.9875\n",
      "Epoch 118/150\n",
      "160/160 [==============================] - 0s 3ms/step - loss: 9.2909e-04 - accuracy: 1.0000 - val_loss: 0.0289 - val_accuracy: 0.9875\n",
      "Epoch 119/150\n",
      "160/160 [==============================] - 0s 3ms/step - loss: 8.7594e-04 - accuracy: 1.0000 - val_loss: 0.0364 - val_accuracy: 0.9875\n",
      "Epoch 120/150\n",
      "160/160 [==============================] - 0s 3ms/step - loss: 8.0758e-04 - accuracy: 1.0000 - val_loss: 0.0319 - val_accuracy: 0.9875\n",
      "Epoch 121/150\n",
      "160/160 [==============================] - 0s 3ms/step - loss: 7.2318e-04 - accuracy: 1.0000 - val_loss: 0.0401 - val_accuracy: 0.9875\n",
      "Epoch 122/150\n",
      "160/160 [==============================] - 0s 3ms/step - loss: 6.7076e-04 - accuracy: 1.0000 - val_loss: 0.0302 - val_accuracy: 0.9875\n",
      "Epoch 123/150\n",
      "160/160 [==============================] - 0s 2ms/step - loss: 6.4851e-04 - accuracy: 1.0000 - val_loss: 0.0320 - val_accuracy: 0.9875\n",
      "Epoch 124/150\n",
      "160/160 [==============================] - 0s 2ms/step - loss: 6.0425e-04 - accuracy: 1.0000 - val_loss: 0.0333 - val_accuracy: 0.9875\n",
      "Epoch 125/150\n",
      "160/160 [==============================] - 0s 3ms/step - loss: 6.6713e-04 - accuracy: 1.0000 - val_loss: 0.0492 - val_accuracy: 0.9875\n",
      "Epoch 126/150\n",
      "160/160 [==============================] - 0s 3ms/step - loss: 6.8690e-04 - accuracy: 1.0000 - val_loss: 0.0242 - val_accuracy: 0.9875\n",
      "Epoch 127/150\n",
      "160/160 [==============================] - 0s 3ms/step - loss: 5.7921e-04 - accuracy: 1.0000 - val_loss: 0.0364 - val_accuracy: 0.9875\n",
      "Epoch 128/150\n",
      "160/160 [==============================] - 0s 3ms/step - loss: 4.5652e-04 - accuracy: 1.0000 - val_loss: 0.0429 - val_accuracy: 0.9875\n",
      "Epoch 129/150\n",
      "160/160 [==============================] - 0s 2ms/step - loss: 0.0011 - accuracy: 1.0000 - val_loss: 0.0993 - val_accuracy: 0.9625\n",
      "Epoch 130/150\n",
      "160/160 [==============================] - 0s 3ms/step - loss: 0.2404 - accuracy: 0.9500 - val_loss: 0.8449 - val_accuracy: 0.8250\n",
      "Epoch 131/150\n",
      "160/160 [==============================] - 0s 3ms/step - loss: 0.1533 - accuracy: 0.9625 - val_loss: 0.0859 - val_accuracy: 0.9750\n",
      "Epoch 132/150\n",
      "160/160 [==============================] - 0s 3ms/step - loss: 0.0023 - accuracy: 1.0000 - val_loss: 0.0627 - val_accuracy: 0.9875\n",
      "Epoch 133/150\n",
      "160/160 [==============================] - 0s 2ms/step - loss: 0.0015 - accuracy: 1.0000 - val_loss: 0.0612 - val_accuracy: 0.9875\n",
      "Epoch 134/150\n",
      "160/160 [==============================] - 0s 3ms/step - loss: 0.0013 - accuracy: 1.0000 - val_loss: 0.0579 - val_accuracy: 0.9875\n",
      "Epoch 135/150\n",
      "160/160 [==============================] - 0s 3ms/step - loss: 0.0012 - accuracy: 1.0000 - val_loss: 0.0565 - val_accuracy: 0.9875\n",
      "Epoch 136/150\n",
      "160/160 [==============================] - 1s 3ms/step - loss: 0.0011 - accuracy: 1.0000 - val_loss: 0.0466 - val_accuracy: 0.9875\n",
      "Epoch 137/150\n",
      "160/160 [==============================] - 0s 3ms/step - loss: 0.0010 - accuracy: 1.0000 - val_loss: 0.0482 - val_accuracy: 0.9875\n",
      "Epoch 138/150\n",
      "160/160 [==============================] - 0s 3ms/step - loss: 9.5142e-04 - accuracy: 1.0000 - val_loss: 0.0489 - val_accuracy: 0.9875\n",
      "Epoch 139/150\n",
      "160/160 [==============================] - 1s 3ms/step - loss: 9.0130e-04 - accuracy: 1.0000 - val_loss: 0.0494 - val_accuracy: 0.9875\n",
      "Epoch 140/150\n",
      "160/160 [==============================] - 0s 3ms/step - loss: 8.0186e-04 - accuracy: 1.0000 - val_loss: 0.0420 - val_accuracy: 0.9875\n",
      "Epoch 141/150\n",
      "160/160 [==============================] - 0s 3ms/step - loss: 7.5343e-04 - accuracy: 1.0000 - val_loss: 0.0388 - val_accuracy: 0.9875\n",
      "Epoch 142/150\n",
      "160/160 [==============================] - 0s 3ms/step - loss: 7.3071e-04 - accuracy: 1.0000 - val_loss: 0.0389 - val_accuracy: 0.9875\n",
      "Epoch 143/150\n",
      "160/160 [==============================] - 0s 3ms/step - loss: 6.5005e-04 - accuracy: 1.0000 - val_loss: 0.0431 - val_accuracy: 0.9875\n",
      "Epoch 144/150\n",
      "160/160 [==============================] - 0s 3ms/step - loss: 6.2333e-04 - accuracy: 1.0000 - val_loss: 0.0415 - val_accuracy: 0.9875\n",
      "Epoch 145/150\n",
      "160/160 [==============================] - 0s 3ms/step - loss: 5.7745e-04 - accuracy: 1.0000 - val_loss: 0.0345 - val_accuracy: 0.9875\n",
      "Epoch 146/150\n",
      "160/160 [==============================] - 0s 3ms/step - loss: 5.4883e-04 - accuracy: 1.0000 - val_loss: 0.0370 - val_accuracy: 0.9875\n",
      "Epoch 147/150\n",
      "160/160 [==============================] - 0s 3ms/step - loss: 5.1006e-04 - accuracy: 1.0000 - val_loss: 0.0393 - val_accuracy: 0.9875\n",
      "Epoch 148/150\n",
      "160/160 [==============================] - 0s 3ms/step - loss: 4.8651e-04 - accuracy: 1.0000 - val_loss: 0.0350 - val_accuracy: 0.9875\n",
      "Epoch 149/150\n",
      "160/160 [==============================] - 0s 3ms/step - loss: 4.6666e-04 - accuracy: 1.0000 - val_loss: 0.0288 - val_accuracy: 0.9875\n",
      "Epoch 150/150\n",
      "160/160 [==============================] - 0s 3ms/step - loss: 4.4418e-04 - accuracy: 1.0000 - val_loss: 0.0375 - val_accuracy: 0.9875\n"
     ]
    }
   ],
   "source": [
    "model = tf.keras.Sequential([\n",
    "        tf.keras.layers.Dense(16, activation='relu'),\n",
    "        tf.keras.layers.Dense(8, activation='relu'),\n",
    "        tf.keras.layers.Dense(len(GESTURES), activation='softmax')\n",
    "    ])\n",
    "    \n",
    "model.compile(optimizer='adam', loss=tf.keras.losses.CategoricalCrossentropy(), metrics=['accuracy'])\n",
    "\n",
    "history = model.fit(i_train, o_train, epochs=EPOCHS, batch_size=1,validation_data=(i_validate, o_validate))\n"
   ]
  },
  {
   "cell_type": "markdown",
   "id": "97375b47",
   "metadata": {},
   "source": [
    "## Review models' performance"
   ]
  },
  {
   "cell_type": "code",
   "execution_count": 7,
   "id": "82f126dd",
   "metadata": {},
   "outputs": [
    {
     "data": {
      "text/plain": [
       "<matplotlib.legend.Legend at 0x2879e385c70>"
      ]
     },
     "execution_count": 7,
     "metadata": {},
     "output_type": "execute_result"
    },
    {
     "data": {
      "image/png": "[encoded data removed]",
      "text/plain": [
       "<Figure size 640x480 with 1 Axes>"
      ]
     },
     "metadata": {},
     "output_type": "display_data"
    }
   ],
   "source": [
    "# increase the size of the graphs. The default size is (6,4).\n",
    "# fig, axs = plt.subplots(1, 1, figsize=(9, 9))\n",
    "# fig.tight_layout(pad=3.0)\n",
    "# def plot_model_loss(history, title, i):\n",
    "loss = history.history['loss']\n",
    "val_loss = history.history['val_loss']\n",
    "epochs = range(1, len(loss) + 1)\n",
    "\n",
    "plt.plot(epochs, loss, 'g.', label='Training loss')\n",
    "plt.plot(epochs, val_loss, 'b.', label='Validation loss')\n",
    "plt.title('s15 train/validate loss')\n",
    "plt.xlabel('Epochs')\n",
    "plt.ylabel('Loss')\n",
    "plt.legend()\n",
    "#     ax.show()\n",
    "\n",
    "# for i, s in enumerate(histories):\n",
    "#     plot_model_loss(histories[s], 'Model s'+ str(s) + ' train/validate loss', i)"
   ]
  },
  {
   "cell_type": "code",
   "execution_count": 8,
   "id": "a95fc7c4",
   "metadata": {},
   "outputs": [
    {
     "data": {
      "text/plain": [
       "<matplotlib.legend.Legend at 0x2879e3ae730>"
      ]
     },
     "execution_count": 8,
     "metadata": {},
     "output_type": "execute_result"
    },
    {
     "data": {
      "image/png": "[encoded data removed]",
      "text/plain": [
       "<Figure size 640x480 with 1 Axes>"
      ]
     },
     "metadata": {},
     "output_type": "display_data"
    }
   ],
   "source": [
    "# increase the size of the graphs. The default size is (6,4).\n",
    "# fig, axs = plt.subplots(1, 1, figsize=(9, 9))\n",
    "# fig.tight_layout(pad=3.0)\n",
    "# def plot_model_accuracy(history, title, i):\n",
    "accuracy = history.history['accuracy']\n",
    "val_accuracy = history.history['val_accuracy']\n",
    "epochs = range(1, len(accuracy) + 1)\n",
    "\n",
    "# ax = axs[0, 0]\n",
    "plt.plot(epochs, accuracy, 'g.', label='Training accuracy')\n",
    "plt.plot(epochs, val_accuracy, 'b.', label='Validation accuracy')\n",
    "plt.title('Accuracy')\n",
    "plt.xlabel('Epochs')\n",
    "plt.ylabel('Accuracy')\n",
    "plt.legend()\n",
    "\n",
    "# for i, s in enumerate(histories):\n",
    "#     plot_model_accuracy(histories[s], 'Model s'+ str(s) + ' accuracy', i)"
   ]
  },
  {
   "cell_type": "code",
   "execution_count": null,
   "id": "c0594df5",
   "metadata": {},
   "outputs": [],
   "source": []
  },
  {
   "cell_type": "markdown",
   "id": "8a3e6107",
   "metadata": {},
   "source": [
    "## Verify models with test data"
   ]
  },
  {
   "cell_type": "code",
   "execution_count": 9,
   "id": "0670869f",
   "metadata": {
    "scrolled": false
   },
   "outputs": [
    {
     "name": "stdout",
     "output_type": "stream",
     "text": [
      "3/3 [==============================] - 0s 2ms/step\n"
     ]
    },
    {
     "data": {
      "text/plain": [
       "Text(33.22222222222222, 0.5, 'Predicted labels')"
      ]
     },
     "execution_count": 9,
     "metadata": {},
     "output_type": "execute_result"
    },
    {
     "data": {
      "image/png": "[encoded data removed]",
      "text/plain": [
       "<Figure size 500x500 with 1 Axes>"
      ]
     },
     "metadata": {},
     "output_type": "display_data"
    }
   ],
   "source": [
    "plt.figure(figsize=(5, 5))\n",
    "predict = model.predict(i_test)\n",
    "conf_mat = confusion_matrix(np.argmax(o_test, axis=1), np.argmax(predict, axis=1))\n",
    "# ax = axs[0,0]\n",
    "sb.heatmap(conf_mat, annot=True, cmap='Blues', fmt='g', cbar=False)\n",
    "plt.title('predict test data')\n",
    "plt.xlabel('Actual labels')\n",
    "plt.ylabel('Predicted labels')\n"
   ]
  },
  {
   "cell_type": "markdown",
   "id": "d987007b",
   "metadata": {},
   "source": [
    "## Produce model file (.tflite)\n",
    "\n",
    "Output both non-quantized and quantized model files\n"
   ]
  },
  {
   "cell_type": "code",
   "execution_count": 10,
   "id": "09a418ce",
   "metadata": {},
   "outputs": [
    {
     "name": "stdout",
     "output_type": "stream",
     "text": [
      "INFO:tensorflow:Assets written to: C:\\Users\\cheew\\AppData\\Local\\Temp\\tmpk2is63vl\\assets\n",
      "INFO:tensorflow:Assets written to: C:\\Users\\cheew\\AppData\\Local\\Temp\\tmpgka0lwlu\\assets\n"
     ]
    },
    {
     "name": "stderr",
     "output_type": "stream",
     "text": [
      "INFO:tensorflow:Assets written to: C:\\Users\\cheew\\AppData\\Local\\Temp\\tmpgka0lwlu\\assets\n"
     ]
    },
    {
     "name": "stdout",
     "output_type": "stream",
     "text": [
      "Basic model is 30092 bytes\n",
      "Quantized model is 10096 bytes\n"
     ]
    },
    {
     "name": "stderr",
     "output_type": "stream",
     "text": [
      "C:\\Users\\cheew\\anaconda3\\envs\\tf\\lib\\site-packages\\tensorflow\\lite\\python\\convert.py:766: UserWarning: Statistics for quantized inputs were expected, but not specified; continuing anyway.\n",
      "  warnings.warn(\"Statistics for quantized inputs were expected, but not \"\n"
     ]
    }
   ],
   "source": [
    "def representative_dataset_generator():\n",
    "     # each scalar value inside a 2D array that is wrapped in a list\n",
    "     for value in inputs:\n",
    "         yield [np.array(value, dtype=np.float32, ndmin=2)]\n",
    "\n",
    "TFLITE_FILE = 'tflite/final/gesture_model_f_s15.tflite'\n",
    "TFLITE_FILE_Q = 'tflite/final/gesture_model_f_s15q.tflite'\n",
    "\n",
    "converter = tf.lite.TFLiteConverter.from_keras_model(model)\n",
    "tflite_model = converter.convert()\n",
    "open(TFLITE_FILE, \"wb\").write(tflite_model)\n",
    "\n",
    "converter_q = tf.lite.TFLiteConverter.from_keras_model(model)\n",
    "converter_q.optimizations = [tf.lite.Optimize.DEFAULT]\n",
    "converter_q.representative_dataset = representative_dataset_generator\n",
    "tflite_model_q = converter_q.convert()\n",
    "open(TFLITE_FILE_Q, \"wb\").write(tflite_model_q)\n",
    "\n",
    "# Review size difference\n",
    "basic_model_size = os.path.getsize(TFLITE_FILE)\n",
    "print(\"Basic model is {} bytes\".format(basic_model_size))\n",
    "\n",
    "basic_model_size_q = os.path.getsize(TFLITE_FILE_Q)\n",
    "print(\"Quantized model is {} bytes\".format(basic_model_size_q))\n"
   ]
  },
  {
   "cell_type": "markdown",
   "id": "957480e4",
   "metadata": {},
   "source": [
    "## Verify the interpreter (.tflite)"
   ]
  },
  {
   "cell_type": "code",
   "execution_count": 11,
   "id": "60cda1ee",
   "metadata": {
    "scrolled": false
   },
   "outputs": [
    {
     "data": {
      "text/plain": [
       "Text(33.22222222222222, 0.5, 'Predicted labels')"
      ]
     },
     "execution_count": 11,
     "metadata": {},
     "output_type": "execute_result"
    },
    {
     "data": {
      "image/png": "[encoded data removed]",
      "text/plain": [
       "<Figure size 500x500 with 1 Axes>"
      ]
     },
     "metadata": {},
     "output_type": "display_data"
    }
   ],
   "source": [
    "\n",
    "TFLITE_FILE = 'tflite/final/gesture_model_f_s15.tflite'\n",
    "model_tf = tf.lite.Interpreter(TFLITE_FILE)\n",
    "model_tf.allocate_tensors()\n",
    "model_tf_input_index = model_tf.get_input_details()[0]['index']\n",
    "model_tf_output_index = model_tf.get_output_details()[0]['index']\n",
    "predict_tf = []\n",
    "for j in i_test:\n",
    "# write the value to the input tensor\n",
    "    i_tensor = tf.convert_to_tensor([j], dtype=tf.float32)\n",
    "    model_tf.set_tensor(model_tf_input_index, i_tensor)\n",
    "    # run inference\n",
    "    model_tf.invoke()\n",
    "    # read the prediction from the output tensor\n",
    "    predict_tf.append(model_tf.get_tensor(model_tf_output_index)[0])\n",
    "\n",
    "conf_mat = confusion_matrix(np.argmax(o_test, axis=1), np.argmax(predict_tf, axis=1))\n",
    "\n",
    "plt.figure(figsize=(5, 5))\n",
    "\n",
    "sb.heatmap(conf_mat, annot=True, cmap='Blues', fmt='g', cbar=False)\n",
    "plt.title(\"Verify tflite performance\")\n",
    "plt.xlabel(\"Actual labels\")\n",
    "plt.ylabel(\"Predicted labels\")\n"
   ]
  },
  {
   "cell_type": "markdown",
   "id": "7752fccc",
   "metadata": {},
   "source": [
    "## Verify the quantized interpreter (.tflite)"
   ]
  },
  {
   "cell_type": "code",
   "execution_count": 12,
   "id": "da067e2b",
   "metadata": {
    "scrolled": false
   },
   "outputs": [
    {
     "data": {
      "text/plain": [
       "Text(33.22222222222222, 0.5, 'Predicted labels')"
      ]
     },
     "execution_count": 12,
     "metadata": {},
     "output_type": "execute_result"
    },
    {
     "data": {
      "image/png": "[encoded data removed]",
      "text/plain": [
       "<Figure size 500x500 with 1 Axes>"
      ]
     },
     "metadata": {},
     "output_type": "display_data"
    }
   ],
   "source": [
    "\n",
    "TFLITE_FILE_Q = 'tflite/final/gesture_model_f_s15q.tflite'\n",
    "model_tf_q = tf.lite.Interpreter(TFLITE_FILE_Q)\n",
    "model_tf_q.allocate_tensors()\n",
    "model_tf_q_input_index = model_tf_q.get_input_details()[0]['index']\n",
    "model_tf_q_output_index = model_tf_q.get_output_details()[0]['index']\n",
    "predict_tf_q = []\n",
    "for j in i_test:\n",
    "# write the value to the input tensor\n",
    "    i_tensor = tf.convert_to_tensor([j], dtype=tf.float32)\n",
    "    model_tf_q.set_tensor(model_tf_q_input_index, i_tensor)\n",
    "    # run inference\n",
    "    model_tf_q.invoke()\n",
    "    # read the prediction from the output tensor\n",
    "    predict_tf_q.append(model_tf_q.get_tensor(model_tf_q_output_index)[0])\n",
    "\n",
    "conf_mat = confusion_matrix(np.argmax(o_test, axis=1), np.argmax(predict_tf_q, axis=1))\n",
    "plt.figure(figsize=(5, 5))\n",
    "\n",
    "sb.heatmap(conf_mat, annot=True, cmap='Blues', fmt='g', cbar=False)\n",
    "plt.title(\"Verify tflite quantized performance\")\n",
    "plt.xlabel(\"Actual labels\")\n",
    "plt.ylabel(\"Predicted labels\")\n"
   ]
  },
  {
   "cell_type": "markdown",
   "id": "0f8e95d9",
   "metadata": {},
   "source": [
    "## Produce the model header file"
   ]
  },
  {
   "cell_type": "code",
   "execution_count": 13,
   "id": "9833a857",
   "metadata": {},
   "outputs": [],
   "source": [
    "# to run below command, ensure jupyter notebook is launched under bash terminal (eg. git bash, linux terminal)\n",
    "TFLITE_FILE = 'tflite/final/gesture_model_f_s15.tflite'\n",
    "TFLITE_FILE_Q = 'tflite/final/gesture_model_f_s15q.tflite'\n",
    "\n",
    "HEADER_FILE = '../ble_client/final/gesture_model_f_s15.h'\n",
    "HEADER_FILE_Q = '../ble_client/final/gesture_model_f_s15q.h'\n",
    "# based model header file\n",
    "str1 = \"const unsigned char {} [] = {{\".format('gesture_model')\n",
    "str2 = \"};\"\n",
    "\n",
    "!echo {str1}  > {HEADER_FILE}\n",
    "!cat {TFLITE_FILE} | xxd -i >> {HEADER_FILE}\n",
    "!echo {str2} >> {HEADER_FILE}\n",
    "\n",
    "# quantized model header file\n",
    "str3 = \"const unsigned char {} [] = {{\".format('gesture_model_q')\n",
    "\n",
    "!echo {str3}  > {HEADER_FILE_Q}\n",
    "!cat {TFLITE_FILE_Q} | xxd -i >> {HEADER_FILE_Q}\n",
    "!echo {str2} >> {HEADER_FILE_Q}"
   ]
  },
  {
   "cell_type": "code",
   "execution_count": null,
   "id": "99db6683",
   "metadata": {},
   "outputs": [],
   "source": []
  },
  {
   "cell_type": "code",
   "execution_count": null,
   "id": "2acdb001",
   "metadata": {},
   "outputs": [],
   "source": []
  },
  {
   "cell_type": "code",
   "execution_count": null,
   "id": "e01164f0",
   "metadata": {},
   "outputs": [],
   "source": []
  },
  {
   "cell_type": "code",
   "execution_count": null,
   "id": "3868ef14",
   "metadata": {},
   "outputs": [],
   "source": []
  },
  {
   "cell_type": "code",
   "execution_count": null,
   "id": "ccbfe3df",
   "metadata": {},
   "outputs": [],
   "source": []
  },
  {
   "cell_type": "code",
   "execution_count": null,
   "id": "0a22137d",
   "metadata": {},
   "outputs": [],
   "source": []
  }
 ],
 "metadata": {
  "kernelspec": {
   "display_name": "Python 3 (ipykernel)",
   "language": "python",
   "name": "python3"
  },
  "language_info": {
   "codemirror_mode": {
    "name": "ipython",
    "version": 3
   },
   "file_extension": ".py",
   "mimetype": "text/x-python",
   "name": "python",
   "nbconvert_exporter": "python",
   "pygments_lexer": "ipython3",
   "version": "3.9.15"
  }
 },
 "nbformat": 4,
 "nbformat_minor": 5
}
